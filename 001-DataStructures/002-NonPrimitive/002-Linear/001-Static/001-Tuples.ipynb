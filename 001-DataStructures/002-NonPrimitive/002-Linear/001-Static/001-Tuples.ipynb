{
 "cells": [
  {
   "cell_type": "markdown",
   "metadata": {},
   "source": [
    "# Difference between Static and Dynamic data structures\n",
    "\n",
    "<img src=\"./images/static_dynamic_data_structures.png\" width=\"400\" />\n",
    "\n",
    "**Static data structure**\n",
    "\n",
    "A `static` data structure refers to a data structure that does not change its size or contents after it is created. It means that once the structure is defined, you cannot add, remove, or modify elements within it.\n",
    "\n",
    "**Dynamic data structure**\n",
    "\n",
    "A `dynamic` data structure refers to a data structure that can change its size or contents after it is created. Unlike static data structures, which are fixed in size and immutable, dynamic data structures in Python allow for adding, removing, or modifying elements during runtime\n"
   ]
  },
  {
   "cell_type": "markdown",
   "metadata": {},
   "source": [
    "# Tuples\n",
    "\n",
    "Tuples are static data structures that can hold a collection of values in a specific order. Once a tuple is created, its elements cannot be modified: they are said to be `immutable`.\n",
    "\n",
    "Once a tuple has been created, it is not possible to insert a new element, nor delete or modify an existing one.\n",
    "\n",
    "<img src=\"./images/tuples.png\" width=\"500\" />\n",
    "\n",
    "The elements of a tuple are `ordered`, and the position of an element is given by its `index` (see figure above). `indexes` start from `0` in Python.\n",
    "\n",
    "Tuples allow `random access`, i.e. to access an element, it is not necessary to first browse through the previous elements, but rather to indicate its `index`."
   ]
  },
  {
   "cell_type": "markdown",
   "metadata": {},
   "source": [
    "## 1. Creating a Tuple\n",
    "\n",
    "Tuples can be created using parentheses `()` or the `tuple()` function. We can initialize a tuple with or without elements, like so:\n"
   ]
  },
  {
   "cell_type": "code",
   "execution_count": null,
   "metadata": {},
   "outputs": [],
   "source": [
    "# create an empty tuple\n",
    "empty_tuple = ()\n",
    "print(empty_tuple)\n",
    "\n",
    "# create a tuple with elements\n",
    "fruits_tuple = ('apple', 'banana', 'orange')\n",
    "print(fruits_tuple)\n",
    "\n",
    "# create a tuple with different data types / structures\n",
    "bazard_tuple = ('apple', 12, 'Alice', 'Naruto', -10.5)\n",
    "print(bazard_tuple)"
   ]
  },
  {
   "cell_type": "markdown",
   "metadata": {},
   "source": [
    "## 2. Accessing Tuple Elements\n",
    "\n",
    "To access elements within a `tuple`, we use `indexing`. The `index` starts at `0` for the first element, and we can also use `negative indices` to access elements from the end of the tuple:"
   ]
  },
  {
   "cell_type": "code",
   "execution_count": null,
   "metadata": {},
   "outputs": [],
   "source": [
    "# create a tuple\n",
    "fruits_tuple = ('apple', 'banana', 'orange')\n",
    "\n",
    "# Accessing elements in a tuple\n",
    "print(fruits_tuple[0])         # output: 'apple'\n",
    "print(fruits_tuple[1])         # output: 'banana'\n",
    "print(fruits_tuple[-1])        # output: 'orange'\n",
    "print(fruits_tuple[-2])        # output: 'banana'\n",
    "\n",
    "# create a tuple of tuples\n",
    "tuple_of_tuples = ((1, 2), (3, 4), (5, 6))\n",
    "print(tuple_of_tuples[0])      # output: (1, 2)\n",
    "print(tuple_of_tuples[0][1])   # output: 2"
   ]
  },
  {
   "cell_type": "markdown",
   "metadata": {},
   "source": [
    "## 3. Tuple Operations"
   ]
  },
  {
   "cell_type": "markdown",
   "metadata": {},
   "source": [
    "While `tuples` are `immutable`, we can perform some operations on them, such as `concatenation` and `repetition`:"
   ]
  },
  {
   "cell_type": "code",
   "execution_count": null,
   "metadata": {},
   "outputs": [],
   "source": [
    "# create a tuple\n",
    "fruits_tuple = ('apple', 'banana', 'orange')\n",
    "\n",
    "# concatenate tuples\n",
    "combined_tuple = fruits_tuple + ('grape', 'kiwi')\n",
    "print(combined_tuple)  # output: ('apple', 'banana', 'orange', 'grape', 'kiwi')\n",
    "\n",
    "# repetition of a tuple\n",
    "repeated_tuple = fruits_tuple * 2\n",
    "print(repeated_tuple)  # output: ('apple', 'banana', 'orange', 'apple', 'banana', 'orange')"
   ]
  },
  {
   "cell_type": "markdown",
   "metadata": {},
   "source": [
    "## 4. Tuple Methods\n",
    "\n",
    "Tuples provide a few handy methods to help with tuple manipulations. Here are a couple of examples:"
   ]
  },
  {
   "cell_type": "code",
   "execution_count": null,
   "metadata": {},
   "outputs": [],
   "source": [
    "# create a tuple\n",
    "fruits_tuple = ('apple', 'banana', 'orange')\n",
    "\n",
    "# find the index of an element in a tuple\n",
    "print(fruits_tuple.index('banana'))  # output: 1\n",
    "\n",
    "# count the occurrences of an element in a tuple\n",
    "print(fruits_tuple.count('apple'))  # output: 1"
   ]
  }
 ],
 "metadata": {
  "kernelspec": {
   "display_name": "Python 3",
   "language": "python",
   "name": "python3"
  },
  "language_info": {
   "codemirror_mode": {
    "name": "ipython",
    "version": 3
   },
   "file_extension": ".py",
   "mimetype": "text/x-python",
   "name": "python",
   "nbconvert_exporter": "python",
   "pygments_lexer": "ipython3",
   "version": "3.12.1"
  }
 },
 "nbformat": 4,
 "nbformat_minor": 2
}

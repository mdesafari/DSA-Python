{
 "cells": [
  {
   "cell_type": "markdown",
   "metadata": {},
   "source": [
    "# Stack\n",
    "\n",
    "A stack is a dynamic data structure that follows the `Last-In-First-Out` (LIFO) principle.\n",
    "\n",
    "It resembles a physical stack of objects, where the last item placed on top is the first one to be removed. Stacks have two primary operations: push (to add an item to the top) and pop (to remove the top item).\n",
    "\n",
    "<img src=\"./images/stack_dynamics.png\" width=\"600\"/>"
   ]
  },
  {
   "cell_type": "markdown",
   "metadata": {},
   "source": [
    "## 1. Create a stack\n",
    "\n",
    "To my knowledge, there is no pre-existing implementation of `stacks` in Python. So we're going to build them from scratch using `classes`.\n",
    "\n",
    "To implement a `stack` in Python, we can utilize a `list` as the underlying data structure. Using the `append()` function, we can add items to the top of the stack (`push` operation), and using the `pop()` function, we can remove items from the top (`pop` operation)."
   ]
  },
  {
   "cell_type": "code",
   "execution_count": 1,
   "metadata": {},
   "outputs": [],
   "source": [
    "class Stack:\n",
    "    def __init__(self):\n",
    "        self.items = []\n",
    "    \n",
    "    def is_empty(self):\n",
    "        \"\"\" method to check whether the stack is empty or not \"\"\"\n",
    "        return len(self.items) == 0\n",
    "    \n",
    "    def push(self, item):\n",
    "        \"\"\" method that adds an item to the top of the stack. \"\"\"\n",
    "        self.items.append(item)\n",
    "\n",
    "    def pop(self):\n",
    "        \"\"\" method that removes and returns the top item from the stack. \"\"\"\n",
    "        if not self.is_empty():  # this execute the is_empty() method and return a boolean (True or False)\n",
    "            # top item = last elem. of the list `self.items` & pop() removes the last elem.\n",
    "            return self.items.pop()  # pop() = pop(-1) which remove the last. pop(0) remove the first\n",
    "        else:\n",
    "            return None\n",
    "    \n",
    "    def peek(self):\n",
    "        \"\"\" method that returns the top item from the stack without removing it. \"\"\"\n",
    "        if not self.is_empty():\n",
    "            return self.items[-1]  # top item = last element of the list `self.items`\n",
    "        else:\n",
    "            return None\n",
    "    \n",
    "    def size(self):\n",
    "        \"\"\" method that returns the number of items in the stack. \"\"\"\n",
    "        return len(self.items)\n",
    "    \n",
    "    def __repr__(self):\n",
    "        \"\"\"\n",
    "        def: A string representation of our Stack objects\n",
    "        example:\n",
    "            node = Stack()  # empty stack\n",
    "            print(node)  # output: Stack <[]>\n",
    "\n",
    "            So each time you use print(node), it will execute __repr__ () method\n",
    "        \"\"\"\n",
    "        return f'Stack <{self.items}>'"
   ]
  },
  {
   "cell_type": "markdown",
   "metadata": {},
   "source": [
    "## 2. Manipulate a stack\n",
    "\n",
    "<img src=\"./images/stack_dynamics.png\" width=\"600\"/>"
   ]
  },
  {
   "cell_type": "code",
   "execution_count": 2,
   "metadata": {},
   "outputs": [
    {
     "name": "stdout",
     "output_type": "stream",
     "text": [
      "Initial stack: Stack <[0, 5, 8]>\n",
      "\n",
      "Stack after pushing 1 and 4: Stack <[0, 5, 8, 1, 4]>\n",
      "\n",
      "Stack after executing pop(): Stack <[0, 5, 8, 1]>\n",
      "\n",
      "Peeked item: 1\n",
      "\n",
      "Stack executing pop(): Stack <[0, 5, 8]>\n",
      "\n",
      "Peeked item: 8\n",
      "\n",
      "Stack is empty: False\n"
     ]
    }
   ],
   "source": [
    "# create an empty stack\n",
    "stack = Stack()\n",
    "\n",
    "# push some data\n",
    "stack.push(0)\n",
    "stack.push(5)\n",
    "stack.push(8)\n",
    "print(f'Initial stack: {stack}\\n')\n",
    "\n",
    "# push data = 1, then data = 4 and display the stack\n",
    "stack.push(1)\n",
    "stack.push(4)\n",
    "print(f'Stack after pushing 1 and 4: {stack}\\n')\n",
    "\n",
    "# pop the element at top and display the stack\n",
    "stack.pop()\n",
    "print(f'Stack after executing pop(): {stack}\\n')\n",
    "\n",
    "# peek\n",
    "peeked_item = stack.peek()\n",
    "print(f'Peeked item: {peeked_item}\\n')\n",
    "\n",
    "# pop the element at top and display the stack\n",
    "stack.pop()\n",
    "print(f'Stack executing pop(): {stack}\\n')\n",
    "\n",
    "# peek\n",
    "peeked_item = stack.peek()\n",
    "print(f'Peeked item: {peeked_item}\\n')\n",
    "\n",
    "# check if the stack is empty\n",
    "print(f'Stack is empty: {stack.is_empty()}')  # Output: False"
   ]
  }
 ],
 "metadata": {
  "kernelspec": {
   "display_name": "Python 3",
   "language": "python",
   "name": "python3"
  },
  "language_info": {
   "codemirror_mode": {
    "name": "ipython",
    "version": 3
   },
   "file_extension": ".py",
   "mimetype": "text/x-python",
   "name": "python",
   "nbconvert_exporter": "python",
   "pygments_lexer": "ipython3",
   "version": "3.12.1"
  }
 },
 "nbformat": 4,
 "nbformat_minor": 2
}

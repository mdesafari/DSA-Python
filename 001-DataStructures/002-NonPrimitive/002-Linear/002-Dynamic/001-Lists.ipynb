{
 "cells": [
  {
   "cell_type": "markdown",
   "metadata": {},
   "source": [
    "# List\n",
    "\n",
    "`Lists` are `dynamic` collections of items that can be modified, expanded, or contracted as needed after they are created.\n",
    "\n",
    "They allow you to store and manipulate sequences of elements. They are said to be `mutable`.\n",
    "\n",
    "<img src=\"./images/lists.png\" width=\"500\" />"
   ]
  },
  {
   "cell_type": "markdown",
   "metadata": {},
   "source": [
    "## 1. Creating a List\n",
    "\n",
    "`Lists` can be created by enclosing elements within square brackets `[]` or by using the `list()` function.\n"
   ]
  },
  {
   "cell_type": "code",
   "execution_count": null,
   "metadata": {},
   "outputs": [],
   "source": [
    "# create an empty list\n",
    "empty_list = []\n",
    "\n",
    "# create a list with elements\n",
    "fruits_list = ['apple', 'banana', 'orange']\n",
    "\n",
    "# print\n",
    "print(fruits_list)\n",
    "\n",
    "# create a list with different data types / structures\n",
    "bazard_list = ['apple', 12, 'Alice', 'Naruto', -10.5]\n",
    "print(bazard_list)"
   ]
  },
  {
   "cell_type": "markdown",
   "metadata": {},
   "source": [
    "## 2. Accessing List Elements\n",
    "\n",
    "To access elements within a `list`, we use `indexing`. The `index` starts at `0` for the first element, and we can also use negative indices to access elements from the end of the list."
   ]
  },
  {
   "cell_type": "code",
   "execution_count": null,
   "metadata": {},
   "outputs": [],
   "source": [
    "# create a list\n",
    "fruits_list = ['apple', 'banana', 'orange']\n",
    "\n",
    "# Accessing elements in a list\n",
    "print(fruits_list[0])         # output: 'apple'\n",
    "print(fruits_list[1])         # output: 'banana'\n",
    "print(fruits_list[-1])        # output: 'orange'\n",
    "print(fruits_list[-2])        # output: 'banana'\n",
    "\n",
    "# create a list of lists\n",
    "list_of_lists = [[1, 2], [3, 4], [5, 6]]\n",
    "print(list_of_lists[0])      # output: [1, 2]\n",
    "print(list_of_lists[0][1])   # output: 2\n"
   ]
  },
  {
   "cell_type": "markdown",
   "metadata": {},
   "source": [
    "## 3. Modifying List Elements\n",
    "\n",
    "`Lists` are `mutable`, meaning we can modify individual elements. Let's see how we can update elements within a `list`."
   ]
  },
  {
   "cell_type": "code",
   "execution_count": null,
   "metadata": {},
   "outputs": [],
   "source": [
    "# create a list\n",
    "fruits_list = ['apple', 'banana', 'orange']\n",
    "\n",
    "# modify elements in a list\n",
    "fruits_list[1] = 'grape'\n",
    "\n",
    "# print\n",
    "print(fruits_list)  # Output: ['apple', 'grape', 'orange']"
   ]
  },
  {
   "cell_type": "markdown",
   "metadata": {},
   "source": [
    "## 4. List Operations\n",
    "\n",
    "`Lists` allow various operations like concatenation, repetition, and slicing.\n"
   ]
  },
  {
   "cell_type": "code",
   "execution_count": null,
   "metadata": {},
   "outputs": [],
   "source": [
    "# create a list\n",
    "fruits_list = ['apple', 'banana', 'orange']\n",
    "\n",
    "# concatenate lists\n",
    "combined_list = fruits_list + ['kiwi', 'melon']\n",
    "print(combined_list)  # Output: ['apple', 'grape', 'orange', 'kiwi', 'melon']\n",
    "\n",
    "# repetition of a list\n",
    "repeated_list = fruits_list * 2\n",
    "print(repeated_list)  # Output: ['apple', 'grape', 'orange', 'apple', 'grape', 'orange']\n",
    "\n",
    "# slicing a list\n",
    "sliced_list = fruits_list[1:3]\n",
    "print(sliced_list)  # Output: ['grape', 'orange']"
   ]
  },
  {
   "cell_type": "markdown",
   "metadata": {},
   "source": [
    "## 5. List Methods\n",
    "\n",
    "`Lists` come with a range of methods to make working with them more convenient. Here are a few commonly used methods."
   ]
  },
  {
   "cell_type": "code",
   "execution_count": null,
   "metadata": {},
   "outputs": [],
   "source": [
    "# create a list\n",
    "fruits_list = ['apple', 'grape', 'orange']\n",
    "\n",
    "# append (insert at the end) an element to a list\n",
    "fruits_list.append('mango')\n",
    "print(fruits_list)  # Output: ['apple', 'grape', 'orange', 'mango']\n",
    "\n",
    "# insert (at a specific position) an element to a list\n",
    "fruits_list.insert(2, 'lemon')  # add at index = 2, so 'orange' will now be at idx = 3, etc.\n",
    "print(fruits_list)  # Output: ['apple', 'grape', 'lemon', 'orange', 'mango']\n",
    "\n",
    "# remove an element from a list\n",
    "fruits_list.remove('grape')\n",
    "print(fruits_list)  # Output: ['apple', 'lemon', 'orange', 'mango']\n",
    "\n",
    "# sort a list\n",
    "fruits_list.sort()\n",
    "print(fruits_list)  # Output: ['apple', 'lemon', 'mango', 'orange']\n"
   ]
  },
  {
   "cell_type": "code",
   "execution_count": null,
   "metadata": {},
   "outputs": [],
   "source": []
  }
 ],
 "metadata": {
  "kernelspec": {
   "display_name": "Python 3",
   "language": "python",
   "name": "python3"
  },
  "language_info": {
   "codemirror_mode": {
    "name": "ipython",
    "version": 3
   },
   "file_extension": ".py",
   "mimetype": "text/x-python",
   "name": "python",
   "nbconvert_exporter": "python",
   "pygments_lexer": "ipython3",
   "version": "3.12.1"
  }
 },
 "nbformat": 4,
 "nbformat_minor": 2
}

{
 "cells": [
  {
   "cell_type": "markdown",
   "metadata": {},
   "source": [
    "# Complexity Analysis: an introduction using `List` data structure\n",
    "\n",
    "Complexity analysis helps us understand how the performance of an algorithm or data structure changes as the input size increases.\n",
    "\n",
    "**A slightly formal definition of complexity**\n",
    "\n",
    "Let's $F(x_n)$ be an algorithm which take $x_n$ as an input. $x_n$ can be a primitive data structure or nonprimitive one such as Tuple, List, .... We assume that the size of $x_n$ is equal to $n$.\n",
    "\n",
    "Let's also consider that we have a function $\\varphi$ which is a metric of the performance of the algorithm $F$. This performance can be measured in terms of execution time or disk space occupied, for example.\n",
    "\n",
    "The complexity $\\gamma$ of the algorithm $F$ represents how the metric $\\varphi$ evolves as the size $n$ of the input $x_n$ tends towards infinity ($\\infty$):\n",
    "\n",
    "$$\n",
    "\\gamma = \\lim_{n\\to\\infty} \\varphi(F(x_n))\n",
    "$$\n",
    "\n",
    "* If $\\varphi$ remains `constant` as $n$ increases, we have `constant complexity`. The complexity $\\gamma$ is then noted as follows: $O(1)$: this is the `Big O notation`.\n",
    "\n",
    "$$\n",
    "\\gamma = O(1)\n",
    "$$\n",
    "\n",
    "* If $\\varphi$ increases `linearly` as $n$ increases, we say we have `linear complexity`. \n",
    "\n",
    "$$\n",
    "\\gamma = O(n)\n",
    "$$\n",
    "\n",
    "**Note: there are several types of complexity, which we'll examine later with the help of a few case studies.**\n",
    "\n",
    "\n",
    "$$\n",
    "\\gamma = O(log \\; n), \\gamma = O(n \\; log \\; n), \\gamma = O(n^2), ...\n",
    "$$\n"
   ]
  },
  {
   "cell_type": "markdown",
   "metadata": {},
   "source": [
    "## 1.  Time Complexity Overview\n",
    "\n",
    "`Time complexity` refers to the amount of time taken by an algorithm or operation to execute as a function of the input size. It helps us evaluate the efficiency of different algorithms and data structures.\n",
    "\n",
    "Time complexity can be analyzed when we do the following operations:\n",
    "\n",
    "* **Access an element**\n",
    "* **Insert an element**\n",
    "* **Delete an element**\n",
    "* **Search for an element**\n",
    "* **Slicing (for lists, tuples, ...)**\n"
   ]
  },
  {
   "cell_type": "markdown",
   "metadata": {},
   "source": [
    "### 1.1. Accessing an element in a List by index\n",
    "\n",
    "<img src=\"./images/lists_access.png\" width=\"350\" />\n",
    "\n",
    "Lists provide random access. It means that elements can be accessed in arbitrary order. In concrete terms, to access the element at index `i`, it is not necessary to access the previous elements (`0` to `i - 1`) first.\n",
    "\n",
    "Thus, the access speed to an element does not depend on its position (nor on the size of the list). In terms of time complexity, accessing an element in a list is equal to $O(1)$."
   ]
  },
  {
   "cell_type": "markdown",
   "metadata": {},
   "source": [
    "#### **Create a function to measure the time complexity of accessing an element**"
   ]
  },
  {
   "cell_type": "markdown",
   "metadata": {},
   "source": [
    "##### **What is a function in Python?**\n",
    "\n",
    "A `function` in Python is a reusable block of code that performs a specific task. It can take `input arguments`, performs some operations, and `optionally` returns a result."
   ]
  },
  {
   "cell_type": "code",
   "execution_count": null,
   "metadata": {},
   "outputs": [],
   "source": [
    "# function structure\n",
    "\"\"\"\n",
    "def function_name(argument1, argument2, ...):\n",
    "    # Function body\n",
    "    # Code statements\n",
    "    # Return statement (optional)\n",
    "\"\"\""
   ]
  },
  {
   "cell_type": "markdown",
   "metadata": {},
   "source": [
    "* `def`: is the keyword used to define a function\n",
    "\n",
    "* `function_name` is the name you choose for your function. It should follow Python's naming conventions (lowercase with underscores between words).\n",
    "\n",
    "* `argument1, argument2, etc.`, are the input arguments (also called parameters) that the function can accept. These are optional, and you can have any number of arguments.\n",
    "\n",
    "* The colon (`:`) at the end of the first line indicates the start of the function body.\n",
    "\n",
    "* The `function body` consists of one or more indented code statements that define what the function does.\n",
    "\n",
    "* Optionally, a function can have a `return` statement that specifies the value to be returned when the function is called."
   ]
  },
  {
   "cell_type": "markdown",
   "metadata": {},
   "source": [
    "##### **Our function to measure time complexity for accessing**"
   ]
  },
  {
   "cell_type": "code",
   "execution_count": null,
   "metadata": {},
   "outputs": [],
   "source": [
    "# install matplotlib\n",
    "%pip install matplotlib"
   ]
  },
  {
   "cell_type": "code",
   "execution_count": 38,
   "metadata": {},
   "outputs": [],
   "source": [
    "# import\n",
    "import time\n",
    "import matplotlib.pyplot as plt\n",
    "\n",
    "def measure_time_complexity_of_accessing():\n",
    "    # step 1: create a list to contain the runtime (time of execution)\n",
    "    # for each size of the list\n",
    "    runtime_list = []\n",
    "\n",
    "    # create also a list to store the evolution of the size of the list\n",
    "    store_size_list = []\n",
    "\n",
    "    # step 2: create a list with size `list_size`\n",
    "    # as we want to measure the runtime while `list_size` increases\n",
    "    # we will make a loop\n",
    "\n",
    "    # 1. define the initial size of our list\n",
    "    start_size = 1\n",
    "\n",
    "    # 2. define the max_size (infinity size) for our list\n",
    "    end_size = 10000  # for big number, you can use this notation 100_000 (easy to read)\n",
    "\n",
    "    # 3. define the step between two list size\n",
    "    step_size = 1_000\n",
    "\n",
    "    for list_size in range(start_size, end_size, step_size):\n",
    "        # list_size will take successively the following values:\n",
    "        # start_size, start_size + step_size, start_size + 2 * step_size, ...\n",
    "        # for each `list_size`, we will execute the code below\n",
    "\n",
    "        # 1. generate our list\n",
    "        # range(N) generates an ordered sequence of integer numbers from 0 to N - 1, step=1\n",
    "        # list(range(N)): converts (or casts) this `range` sequence to a list (sequence)\n",
    "        input_list = list(range(list_size))\n",
    "\n",
    "        # 2. start measure time\n",
    "        # for that we will use a built-in function `time` from `time` library\n",
    "        # first import this library (see above)\n",
    "        start_time = time.time()  # execute time() function from library `time`, it returns current time\n",
    "\n",
    "        # 3. access an element (let's say the middle one in the list)\n",
    "        # first compute the index of the middle element\n",
    "        # input_list index go from 0 to list_size - 1,\n",
    "        # so the middle index is: ((list_size - 1) - 0 + 1) // 2 = list_size // 2\n",
    "        idx_middle = list_size // 2\n",
    "\n",
    "        # now access\n",
    "        elem_list = input_list[idx_middle]\n",
    "\n",
    "        # 4. end measuring time\n",
    "        end_time = time.time()\n",
    "\n",
    "        # 5. compute the elapsed time between `start_time` and `end_time` (in seconds)\n",
    "        runtime = end_time - start_time\n",
    "\n",
    "        # 6. round the time to 2 decimals\n",
    "        runtime = round(runtime, 2)\n",
    "\n",
    "        # 7. add this runtime to the end of our list `runtime_list`\n",
    "        runtime_list.append(runtime)\n",
    "\n",
    "        # add also the size of the current list to `store_size_list`\n",
    "        store_size_list.append(list_size)\n",
    "    \n",
    "    # step 3: after the loop, display a graph of runtime as a function of list size\n",
    "    # for that, we will a library called matplotlib. You need to install matplotlib\n",
    "    # see above for how to install. To install, type: %pip install matplotlib\n",
    "    # once installation is completed, import matplotlib.pyplot and give an alias: plt\n",
    "    \n",
    "    # custom our plot (plot size, font, font size)\n",
    "    plt.figure(figsize=(6, 4))\n",
    "    plt.rcParams['font.family'] = 'Arial'\n",
    "    plt.rcParams['font.size'] = 9\n",
    "\n",
    "    # plot\n",
    "    plt.plot(store_size_list, runtime_list)\n",
    "    plt.xlabel('List size')\n",
    "    plt.ylabel('Runtime (seconds)')\n",
    "    plt.title(\"Evolution of runtime with increase in list's size (accessing)\")\n",
    "\n",
    "    # show the plot\n",
    "    plt.show()\n"
   ]
  },
  {
   "cell_type": "code",
   "execution_count": 39,
   "metadata": {},
   "outputs": [
    {
     "data": {
      "image/png": "[encoded data removed]",
      "text/plain": [
       "<Figure size 600x400 with 1 Axes>"
      ]
     },
     "metadata": {},
     "output_type": "display_data"
    }
   ],
   "source": [
    "# now, let's execute our function\n",
    "measure_time_complexity_of_accessing()"
   ]
  },
  {
   "cell_type": "markdown",
   "metadata": {},
   "source": [
    "### 1.2. Inserting or deleting an element at the **beginning** of a list\n",
    "\n",
    "<img src=\"./images/lists_insert_beginning.png\" width=\"400\" />\n",
    "\n",
    "Inserting a new element at the beginning of a list creates `new disk space` and `consecutively` moves each element in the list to the `right`.\n",
    "\n",
    "If the list has an initial size of `n`, inserting an element results in `n` moves, and the new list has a size of `n + 1`. If we insert another element, we'll have `n + 1` moves, and the new list will have `n + 2` elements.\n",
    "\n",
    "Thus, as the size of the list increases, the number of moves increases linearly. Time complexity is therefore linear: $O(n)$."
   ]
  },
  {
   "cell_type": "markdown",
   "metadata": {},
   "source": [
    "### 1.3. Deleting an element at the **beginning** of a list\n",
    "\n",
    "<img src=\"./images/lists_delete_beginning.png\" width=\"400\" />\n",
    "\n",
    "Deleting an element at the beginning of a list remove a `disk space` but `consecutively` moves each element in the list to the `left`.\n",
    "\n",
    "If the list has an initial size of `n`, deleting an element results in `n - 1` moves, and the new list has a size of `n - 1`. If we delete another element, we'll have `n - 2` moves, and the new list will have `n - 2` elements. However, when `N` tends towards infinity, `n - constant` tends towards `n`.\n",
    "\n",
    "Thus, as the size of the list increases, the number of moves increases linearly. Time complexity is therefore linear: $O(n)$."
   ]
  },
  {
   "cell_type": "markdown",
   "metadata": {},
   "source": [
    "### 1.4. Inserting or deleting an element at the **end** of a List\n",
    "\n",
    "* **Insertion**\n",
    "\n",
    "Inserting an element at the end of a list creates a new disk space, but does not move any pre-existing elements. Thus, the time complexity of inserting an element at the end of a list is $O(1)$.\n",
    "\n",
    "* **Deletion**\n",
    "\n",
    "Deleting an element at the end of a list removes a disk space, but does not move any pre-existing elements. Thus, the time complexity of deleting an element at the end of a list is $O(1)$.\n"
   ]
  },
  {
   "cell_type": "markdown",
   "metadata": {},
   "source": [
    "### 1.5. Inserting or deleting an element in the **middle**\n",
    "\n",
    "Following the rationale of sections `1.2` and `1.3`, the time complexity of inserting or deleting an element in the middle (i.e., any element at index $[1, \\; N - 2]$) of a list is: $O(n)$ because $K$ elements are successively moved to the `left` (for deletion) or `right` (for insertion) in a linear fashion as the size $N$ of the list increases."
   ]
  },
  {
   "cell_type": "markdown",
   "metadata": {},
   "source": [
    "## 2.  Amortized Time Complexity\n",
    "\n",
    "<img src=\"./images/lists_amprtized_complexity.png\" width=\"800\" />\n",
    "\n",
    "\n",
    "**List dynamics work as follows:**\n",
    "\n",
    "A list has a `size` (number of cells containing a `non-None` value) and a `capacity` (number of available cells). When an element is inserted at the end of the list (`append`), if the `size` is less than the `capacity`, the element is inserted normally and the time complexity is $O(1)$.\n",
    "\n",
    "However, when the `size` is equal to the `capacity`, there's no more cell for insertion. At this point, we double the list's previous `capacity`: this is called `resizing`.\n",
    "\n",
    "Once `resizing` is complete, all the elements of the old list are copied consecutively to the same locations in the new `list`, and the element we want to insert is then added after the last copied element.\n",
    "\n",
    "Copying the $N$ elements of the previous `list` and inserting a new element leads to complexity $O(N + 1) = O(N)$ as $N$ increases towards infinity. **Note that $O(kN + b) = O(N)$ where $k$ and $b$ are constants.**\n",
    "\n",
    "* **Amortized complexity**\n",
    "\n",
    "However, as the `resizing` operation is performed `less frequently` (only when capacity is reached), we consider the number of resizing operations to be `negligible` compared to the number of times an insertion is performed without `resizing`.\n",
    "\n",
    "Thus, the complexity that consists in neglecting the complexity of `resizing`, because it is rarely performed, is called `amortized complexity`. In this case, the insertion at the end of the list has an amortized time complexity $O(1)$. It is exactly this amortized complexity that we analyzed in `section 1.4`.\n",
    "\n"
   ]
  },
  {
   "cell_type": "markdown",
   "metadata": {},
   "source": [
    "## 3.  Space Complexity\n",
    "\n",
    "The space complexity of a list refers to the amount of memory required to store the elements.\n",
    "\n",
    "* **At creation**\n",
    "\n",
    "When creating a list, the space complexity is typically $O(n)$, where $n$ is the number of elements stored. This is because `lists` need to allocate memory for each element, as well as some additional memory for bookkeeping purposes.\n"
   ]
  }
 ],
 "metadata": {
  "kernelspec": {
   "display_name": "Python 3",
   "language": "python",
   "name": "python3"
  },
  "language_info": {
   "codemirror_mode": {
    "name": "ipython",
    "version": 3
   },
   "file_extension": ".py",
   "mimetype": "text/x-python",
   "name": "python",
   "nbconvert_exporter": "python",
   "pygments_lexer": "ipython3",
   "version": "3.12.1"
  }
 },
 "nbformat": 4,
 "nbformat_minor": 2
}

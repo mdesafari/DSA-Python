{
 "cells": [
  {
   "cell_type": "markdown",
   "metadata": {},
   "source": [
    "# Arrays\n",
    "\n",
    "`Arrays` are another dynamic data structure with some notable differences from `lists`. In Python, `NumPy` library offers powerful ways to create and manipulate arrays.\n",
    "\n",
    "> **Note: What is a library?**\n",
    "> A `library` is a collection of pre-written code that provides a set of functions, modules, and classes that can be used to perform specific tasks. Libraries are designed to simplify the development process by providing reusable code and implementing commonly needed functionality, such as mathematical operations, data manipulation, networking, web development, and more.\n",
    "> Python libraries are typically distributed as `packages`, which are directory structures containing Python modules and other resources. Packages can be installed using package managers like `pip`, which allows you to easily download and install libraries from the Python Package Index (`PyPI`) or other sources."
   ]
  },
  {
   "cell_type": "markdown",
   "metadata": {},
   "source": [
    "## 1. Differences between Lists and **Numpy Arrays**"
   ]
  },
  {
   "cell_type": "markdown",
   "metadata": {},
   "source": [
    "* **Mutability**\n",
    "\n",
    "`Lists` in Python are `mutable`, meaning you can modify their size and contents by adding, removing, or changing elements.\n",
    "\n",
    "On the other hand, NumPy arrays have a `fixed size` and `shape`, and their elements are typically of the `same data type`. Once created, you cannot change the size or data type of a NumPy array.\n",
    "\n",
    "However, you can modify the elements of a `Numpy Array` or `reshape` it (but at same number of elements): e.g., from 2D $(n, m)$ to 1D $(n \\times m,)$.\n",
    "\n",
    "\n",
    "* **Homogeneity**\n",
    "\n",
    "`Lists` can store elements of `different data types`, allowing for `heterogeneous` collections. In contrast, `NumPy arrays` are `homogeneous`, meaning all elements must have the `same data type`. **This homogeneity enables more efficient storage and computation.**\n",
    "\n",
    "\n",
    "* **Performance**\n",
    "\n",
    "`NumPy arrays` are designed for numerical computations and offer `superior` performance compared to `lists`, especially when dealing with large datasets or performing vectorized operations.\n",
    "\n",
    "\n",
    "* **Dimensionality**\n",
    "\n",
    "It's easier to create and manipulate N-dimensional data with Numpy arrays than with lists.\n",
    "\n",
    "* **Functionality**\n",
    "\n",
    "NumPy provides a rich set of mathematical functions and operations optimized for `arrays`, such as element-wise operations, linear algebra, statistical functions, and more. `Lists`, while flexible, do not have built-in mathematical operations and require explicit iteration or list comprehensions for similar functionality.\n"
   ]
  },
  {
   "cell_type": "markdown",
   "metadata": {},
   "source": [
    "## 2. Install and import **Numpy**"
   ]
  },
  {
   "cell_type": "code",
   "execution_count": null,
   "metadata": {},
   "outputs": [],
   "source": [
    "# install the numpy library\n",
    "%pip install numpy"
   ]
  },
  {
   "cell_type": "code",
   "execution_count": null,
   "metadata": {},
   "outputs": [],
   "source": [
    "# np is an alias for numpy. You can give any name as alias you want\n",
    "# but the python community uses np\n",
    "import numpy as np"
   ]
  },
  {
   "cell_type": "markdown",
   "metadata": {},
   "source": [
    "## 3. Create a **Numpy Array**"
   ]
  },
  {
   "cell_type": "code",
   "execution_count": null,
   "metadata": {},
   "outputs": [],
   "source": [
    "# creating a 1-dimensional array\n",
    "int_1d_array = np.array([1, 2, 3, 4, 5])\n",
    "print('1D Integer Array:\\n', int_1d_array, '\\n')  # print('a', 'b') = 'a b' | \\n : carriage return\n",
    "\n",
    "# creating a 2-dimensional array (3 rows, 2 columns)\n",
    "int_2d_array = np.array([[1, 2], [3, 4], [5, 6]])\n",
    "print(f'2D Integer Array:\\n {int_2d_array}\\n')  # more clear and easy to read using the f-string\n",
    "\n",
    "# creating a 2d array of zeros. Let's say: 3 rows and 4 columns\n",
    "zeros_2d_array = np.zeros((3, 4))\n",
    "print(f'2D Array of zeros:\\n {zeros_2d_array}\\n')\n",
    "\n",
    "# creating a 2d array of ones. Let's say: 5 rows and 1 column\n",
    "ones_2d_array = np.ones((5, 1))\n",
    "print(f'2D Array of ones:\\n {ones_2d_array}\\n')\n",
    "\n",
    "# creating a 4d array of ones. Let's say of shape (3, 2, 4, 3)\n",
    "ones_4d_array = np.ones((3, 2, 4, 3))\n",
    "print(f'4D Array of ones:\\n {ones_4d_array}\\n')\n",
    "\n",
    "# creating a 1d array of random float values between 0 and 1. Let's say: 5 elements\n",
    "random_float_1d_array = np.random.random(5)\n",
    "print(f'1D Array of random floats in [0, 1):\\n {random_float_1d_array}\\n')\n"
   ]
  },
  {
   "cell_type": "markdown",
   "metadata": {},
   "source": [
    "## 4. Accessing Elements in a **Numpy Array**"
   ]
  },
  {
   "cell_type": "code",
   "execution_count": null,
   "metadata": {},
   "outputs": [],
   "source": [
    "# creating a 1-dimensional array\n",
    "my_array_1d = np.array([1, 2, 3, 4, 5])\n",
    "\n",
    "print('First and last elements\\n')\n",
    "print(f'{my_array_1d[0]}\\n')  # Accessing the first element of the array\n",
    "print(f'{my_array_1d[-1]}\\n')  # Accessing the last element of the array\n",
    "\n",
    "# create a (10 rows, 3 columns) array of random integers between 0 and 9\n",
    "my_array_2d = np.random.randint(0, 10, size=(10, 3))\n",
    "print('Elements at row=0 and col=1\\n')\n",
    "print(f'{my_array_2d[0, 1]}\\n')\n",
    "\n",
    "print('First 5 rows and all columns\\n')\n",
    "print(f'{my_array_2d[0:5, :]}\\n')  # n:m means from n to m - 1 | : means all\n",
    "\n",
    "print('The entire array\\n')\n",
    "print(f'{my_array_2d[:, :]}\\n')  # or print(my_array_2d)\n"
   ]
  },
  {
   "cell_type": "markdown",
   "metadata": {},
   "source": [
    "## 5. Array Shape and Dimensions of a **Numpy Array**\n",
    "\n",
    "Numpy `arrays` can have multiple dimensions. You can check the shape of an array using the shape `attribute` (because in reality all data structures in Python are Objects, so they can have attributes).\n",
    "\n",
    "### **Dimension vs Shape**\n",
    "\n",
    "Dimensions and shape refer to different aspects of the array structure:\n",
    "\n",
    "* `Dimensions`: the dimensions of a Numpy array represent the **number of axes or indices needed to access each element in the array**. For example, a 1-dimensional array (often called a `vector`) has a single dimension, a 2-dimensional array (often called a `matrix`) has two dimensions, and so on. The `number of dimensions` is also known as the `rank of the array`.\n",
    "\n",
    "* `Shape`: the shape of a Numpy array describes the **size of each dimension**. It is a tuple that specifies the **number of elements along each axis**. For example, a 1-dimensional array with 5 elements has a shape of (5,), a 2-dimensional array with 3 rows and 4 columns has a shape of (3, 4), and so on. The shape of an array is determined by the lengths of its axes."
   ]
  },
  {
   "cell_type": "code",
   "execution_count": null,
   "metadata": {},
   "outputs": [],
   "source": [
    "# create a (10 rows, 3 columns) array of random integers between 0 and 9\n",
    "my_array = np.random.randint(0, 10, size=(10, 3))\n",
    "\n",
    "# compute the shape and number of dimensions\n",
    "shape_array = my_array.shape         # output: (10, 3)\n",
    "num_dimensions = len(shape_array)    # output: 2\n",
    "\n",
    "# print\n",
    "print(f'Array:\\n\\n{my_array}\\n\\nShape: {shape_array} - Number of dimensions: {num_dimensions}')"
   ]
  },
  {
   "cell_type": "markdown",
   "metadata": {},
   "source": [
    "## 6. Modifying elements of a **Numpy Array**"
   ]
  },
  {
   "cell_type": "code",
   "execution_count": null,
   "metadata": {},
   "outputs": [],
   "source": [
    "# creating a 1-dimensional array\n",
    "my_array = np.array([1, 2, 3, 4, 5])\n",
    "\n",
    "# modifying the element at index 2 (which is not possible for immutable data structures)\n",
    "my_array[2] = -8  # will replace 3 by -8\n",
    "\n",
    "# print\n",
    "print(my_array)  # output: [ 1  2 -8  4  5]"
   ]
  },
  {
   "cell_type": "markdown",
   "metadata": {},
   "source": [
    "## 7. **Numpy Array** operations"
   ]
  },
  {
   "cell_type": "code",
   "execution_count": null,
   "metadata": {},
   "outputs": [],
   "source": [
    "# element-wise operations\n",
    "my_array = np.array([1, 2, 3])\n",
    "result = my_array + 5  # adding 5 to each element (with list data structure, this will raise an error)\n",
    "print(f'1. Element-wise addition:\\n{my_array} + 5 = {result}\\n')\n",
    "\n",
    "# erray concatenation\n",
    "array1 = np.array([1, 2, 3])\n",
    "array2 = np.array([4, 5, 6])\n",
    "concatenated_array = np.concatenate((array1, array2))\n",
    "print(f'2. Concatenation:\\nconcat({array1}, {array2}) = {concatenated_array}\\n')\n",
    "\n",
    "# array reshaping\n",
    "original_array = np.array([1, 2, 3, 4, 5, 6])\n",
    "reshaped_array = original_array.reshape((2, 3))  # reshaping to a 2x3 array\n",
    "print(f'3. Array reshaping:\\nOriginal:\\n{original_array}\\nReshaped:\\n {reshaped_array}\\n')\n",
    "\n",
    "# array slicing\n",
    "my_array = np.array([1, 2, 3, 4, 5])\n",
    "sliced_array = my_array[2:4]  # slicing the array from index 2 to 4 (exclusive)\n",
    "print(f'4. Array slicing:\\n{my_array} => Slice(2:4) = {sliced_array}\\n')"
   ]
  },
  {
   "cell_type": "markdown",
   "metadata": {},
   "source": [
    "## 8. **Numpy Array** functions"
   ]
  },
  {
   "cell_type": "code",
   "execution_count": null,
   "metadata": {},
   "outputs": [],
   "source": [
    "# statistical functions\n",
    "my_array = np.array([1, 2, 3, 4, 5])\n",
    "mean = np.mean(my_array)               # calculating the mean\n",
    "maximum = np.max(my_array)             # finding the maximum value\n",
    "print(f'Array: {my_array}:\\n\\t mean: {mean}\\n\\t max: {maximum}\\n')  # \\n newline, \\t horizontal tab\n",
    "\n",
    "# array sorting\n",
    "my_array = np.array([4, 2, 1, 3, 5])\n",
    "sorted_array = np.sort(my_array)       # sorting the array\n",
    "print(f'Original: {my_array}:\\nSorted: {sorted_array}')"
   ]
  }
 ],
 "metadata": {
  "kernelspec": {
   "display_name": "Python 3",
   "language": "python",
   "name": "python3"
  },
  "language_info": {
   "codemirror_mode": {
    "name": "ipython",
    "version": 3
   },
   "file_extension": ".py",
   "mimetype": "text/x-python",
   "name": "python",
   "nbconvert_exporter": "python",
   "pygments_lexer": "ipython3",
   "version": "3.12.1"
  }
 },
 "nbformat": 4,
 "nbformat_minor": 2
}

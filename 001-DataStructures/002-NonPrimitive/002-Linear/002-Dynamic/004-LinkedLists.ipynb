{
 "cells": [
  {
   "cell_type": "markdown",
   "metadata": {},
   "source": [
    "# Linked List"
   ]
  },
  {
   "cell_type": "markdown",
   "metadata": {},
   "source": [
    "## 1. What is a Linked List?\n",
    "\n",
    "<img src=\"./images/linked_list_structure.png\" width=\"600\" />\n",
    "\n",
    "A `linked list` is a dynamic data structure that consists of a sequence of `nodes`. Each `node` contains data and a `reference` (or link) to the next node in the sequence. The `last node` typically has a reference to `None`, indicating the end of the list.\n",
    "\n",
    "Unlike `lists` or `arrays`, `linked lists` do not require **contiguous memory** allocation. `Nodes` can be scattered in memory, and their connections make up the logical structure."
   ]
  },
  {
   "cell_type": "markdown",
   "metadata": {},
   "source": [
    "## 2. Create a Linked List\n",
    "\n",
    "To my knowledge, there is no pre-existing implementation of `linked lists` in Python. So we're going to build them from scratch using `classes`. For a reminder about classes, see:\n",
    "\n",
    "* **structure_from_classes.ipynb**\n",
    "    \n",
    "**Folder:** 002-NonPrimitive > 001-IntroductionToClasses"
   ]
  },
  {
   "cell_type": "markdown",
   "metadata": {},
   "source": [
    "### 2.1. Create a Node Class\n",
    "\n",
    "To construct a `linked list`, we first need to define a `Node` class in Python. Each `node` will have two `attributes`: data to store the value and next to store the reference to the next node."
   ]
  },
  {
   "cell_type": "code",
   "execution_count": 3,
   "metadata": {},
   "outputs": [],
   "source": [
    "class Node:\n",
    "    def __init__(self, data):\n",
    "        self.data = data\n",
    "        self.next = None  # by default\n",
    "    \n",
    "    def __repr__(self):\n",
    "        \"\"\"\n",
    "        def: A string representation of our Node objects\n",
    "        example:\n",
    "            node = Node(1)\n",
    "            print(node)  # output: Node <1>\n",
    "\n",
    "            So each time you use print(node), it will execute __repr__ () method\n",
    "        \"\"\"\n",
    "        return f'Node <{self.data}>'"
   ]
  },
  {
   "cell_type": "markdown",
   "metadata": {},
   "source": [
    "### 2.2. Create a Linked List Class\n",
    "\n",
    "We can then create the `LinkedList` class, which will provide various `operations` to manipulate the `linked list`.\n",
    "\n",
    "<img src=\"./images/linked_list_structure.png\" width=\"610\" />\n",
    "\n",
    "<img src=\"./images/linked_list_as_dict.png\" width=\"200\" />"
   ]
  },
  {
   "cell_type": "markdown",
   "metadata": {},
   "source": [
    "* **Insert a node (at the end)**\n",
    "\n",
    "<img src=\"./images/insert_node_ll_end.png\" width=\"610\" />"
   ]
  },
  {
   "cell_type": "markdown",
   "metadata": {},
   "source": [
    "* **Insert a node at beginning**\n",
    "\n",
    "<img src=\"./images/insert_node_ll_start.png\" width=\"610\" />"
   ]
  },
  {
   "cell_type": "markdown",
   "metadata": {},
   "source": [
    "* **Delete a node**\n",
    "\n",
    "<img src=\"./images/delete_node_ll.png\" width=\"610\" />"
   ]
  },
  {
   "cell_type": "code",
   "execution_count": 4,
   "metadata": {},
   "outputs": [],
   "source": [
    "class LinkedList:\n",
    "    def __init__(self):\n",
    "        self.head = None  # head node\n",
    "    \n",
    "    def add_node(self, data):\n",
    "        # 1. create a node\n",
    "        node = Node(data)\n",
    "\n",
    "        # check if the Linked list is empy (i.e. if head is None)\n",
    "        # head = the created node\n",
    "        if self.head is None:\n",
    "            self.head = node\n",
    "        # Go through the nodes one after the other from the head \n",
    "        # and find the first node whose next one is None.\n",
    "        else:\n",
    "            current = self.head\n",
    "\n",
    "            # while loop: execute the code below as long as the condition is True\n",
    "            while current.next is not None:\n",
    "                # go to the next node\n",
    "                current = current.next\n",
    "            \n",
    "            # if we are here, it means that we found a node whose next one is False\n",
    "            # add the newly created node as the next node of the found node\n",
    "            current.next = node  # this persistently modifies the structure of self.head\n",
    "    \n",
    "    def return_list_data(self):\n",
    "        # create a list to store data of the linked list\n",
    "        linked_list_data = []\n",
    "\n",
    "        # loop\n",
    "        current = self.head\n",
    "        while current is not None:\n",
    "            # add the data of current node to `linked_list_data`\n",
    "            linked_list_data.append(current.data)\n",
    "\n",
    "            # go to the next node\n",
    "            current = current.next\n",
    "        \n",
    "        return linked_list_data\n",
    "    \n",
    "    def add_node_at_beginning(self, data):\n",
    "        # create a new node\n",
    "        new_node = Node(data)\n",
    "\n",
    "        # define its next node as the current head\n",
    "        new_node.next = self.head\n",
    "\n",
    "        # define the current head as the newly created node (in that order)\n",
    "        # this called: permutation\n",
    "        self.head = new_node\n",
    "    \n",
    "    def search_node_by_value(self, value):\n",
    "        # go through the nodes and for each node compare its data to `value`\n",
    "        # if there is a match, return True, the index and the node itself\n",
    "        # at the end, if no match found, return False, None, None\n",
    "        current = self.head\n",
    "        index = 0\n",
    "        while current is not None:\n",
    "            if current.data == value:\n",
    "                return True, index, current\n",
    "            current = current.next\n",
    "            index += 1  # equivalent to index = index + 1 i.e. previous value of `index` + 1\n",
    "        return False, None, None\n",
    "    \n",
    "    def delete_node(self, value):\n",
    "        if self.head is None:  # empty linked list\n",
    "            return  # equivalent to return None => i.e., do nothing\n",
    "        \n",
    "        if self.head.data == value:  # head is the node to delete\n",
    "            self.head = self.head.next  # we point head towards nodeA, so head = nodeA\n",
    "            return\n",
    "        \n",
    "        # if the two conditions above have not been met, do this\n",
    "        # loop through the linked list to find the node which data = value as well as its previous node\n",
    "        previous = self.head\n",
    "        while previous.next is not None:  # previous.next = current node\n",
    "            if previous.next.data == value:\n",
    "                # point previous.next towards current.next = next (see the visual above)\n",
    "                previous.next = previous.next.next\n",
    "\n",
    "                # ideally, we should manage memory release for `nodeC` (see the above illustration)\n",
    "                # but we won't do that here to simplify things\n",
    "                return\n",
    "            previous = previous.next\n",
    "        \n",
    "        "
   ]
  },
  {
   "cell_type": "code",
   "execution_count": 5,
   "metadata": {},
   "outputs": [
    {
     "name": "stdout",
     "output_type": "stream",
     "text": [
      "Data contained in the linked list: [5, 0, 1, 4, 9]\n",
      "\n",
      "Data after insertion at beginning: [8, 5, 0, 1, 4, 9]\n",
      "\n",
      "Search data = 1: (True, 3, Node <1>)\n",
      "\n",
      "Search data = -7: (False, None, None)\n",
      "\n",
      "Data before deletinge value = 1: [8, 5, 0, 1, 4, 9]\n",
      "Data after deleting value = 1:   [8, 5, 0, 4, 9]\n",
      "\n"
     ]
    }
   ],
   "source": [
    "# create an empty linked list\n",
    "linked_list = LinkedList()\n",
    "\n",
    "# add some nodes\n",
    "linked_list.add_node(5)\n",
    "linked_list.add_node(0)\n",
    "linked_list.add_node(1)\n",
    "linked_list.add_node(4)\n",
    "linked_list.add_node(9)\n",
    "\n",
    "# get and print the data of the linked list\n",
    "data = linked_list.return_list_data()\n",
    "print(f\"Data contained in the linked list: {data}\\n\")\n",
    "\n",
    "# add a node at beginning and display the new data in the linked list\n",
    "linked_list.add_node_at_beginning(8)\n",
    "data = linked_list.return_list_data()\n",
    "print(f\"Data after insertion at beginning: {data}\\n\")\n",
    "\n",
    "# search for value = 1\n",
    "search_one = linked_list.search_node_by_value(value=1)  # output: (True, 3, Node <1>)\n",
    "print(f\"Search data = 1: {search_one}\\n\")\n",
    "\n",
    "# search for value = -7  (which does not exist)\n",
    "search_minus_seven = linked_list.search_node_by_value(value=-7)  # output: (False, None, None)\n",
    "print(f\"Search data = -7: {search_minus_seven}\\n\")\n",
    "\n",
    "# delete value = 1 and display the new data in the linked list\n",
    "linked_list.delete_node(value=1)\n",
    "data_after_deletion = linked_list.return_list_data()\n",
    "print(f\"Data before deletinge value = 1: {data}\\nData after deleting value = 1:   {data_after_deletion}\\n\")"
   ]
  },
  {
   "cell_type": "markdown",
   "metadata": {},
   "source": [
    "## 3. Time Complexity Analysis"
   ]
  },
  {
   "cell_type": "markdown",
   "metadata": {},
   "source": [
    "### **3.1. Insert a node (at the end)**\n",
    "\n",
    "<img src=\"./images/insert_node_ll_end.png\" width=\"610\" />\n",
    "\n",
    "To insert a node at the end, we must first go through the entire list, node by node, to find the last node.\n",
    "\n",
    "**Accessing an individual node** takes a `constant time` of $O(1)$, but for $n$ nodes, we have $O(1) + ... + O(1)$ ($n$ times $O(1)$), i.e. $O(n)$.\n",
    "\n",
    "For small $n$, $O(n) \\simeq O(1)$ but as the complexity is an asymptotic behavior, for $n$ very very big, $O(n) >> O(1)$.\n",
    "\n",
    "Insertion at the end has time complexity $O(n)$: the number of accesses increases linearly with the number of nodes (`linked list` size)\n"
   ]
  },
  {
   "cell_type": "markdown",
   "metadata": {},
   "source": [
    "### **3.2. Insert a node at the beginning**\n",
    "\n",
    "<img src=\"./images/insert_node_ll_start.png\" width=\"610\" />\n",
    "\n",
    "To insert a node at the beginning, we just have to access the head ($O(1)$) and make a permutation ($O(1) + O(1) = O(2)$), which takes a constant time of ($O(3) = O(3 * 1) \\simeq O(1)$))\n",
    "\n",
    "Insertion at the beginning has time complexity $O(1)$: the number of accesses does not depend on the size of the linked list."
   ]
  },
  {
   "cell_type": "markdown",
   "metadata": {},
   "source": [
    "### **3.3. Delete a node**\n",
    "\n",
    "<img src=\"./images/delete_node_ll.png\" width=\"610\" />\n",
    "\n",
    "As a reminder, the complexity of an algorithm represents the evolution of its performance as the size of the input tends towards infinity. In simplistic language, it represents the evolution of its performance when we assume the worst case scenario.\n",
    "\n",
    "In the case of node deletion, the worst case is when we want to delete the last node. To do this, we first traverse all the nodes one after the other to find the last node and its predecessor before deleting it. The traversal time is of complexity $O(n)$ (see `section 3.1`).\n",
    "\n",
    "Delete a node has a time complexity $O(n)$."
   ]
  }
 ],
 "metadata": {
  "kernelspec": {
   "display_name": "Python 3",
   "language": "python",
   "name": "python3"
  },
  "language_info": {
   "codemirror_mode": {
    "name": "ipython",
    "version": 3
   },
   "file_extension": ".py",
   "mimetype": "text/x-python",
   "name": "python",
   "nbconvert_exporter": "python",
   "pygments_lexer": "ipython3",
   "version": "3.12.1"
  }
 },
 "nbformat": 4,
 "nbformat_minor": 2
}

{
 "cells": [
  {
   "cell_type": "markdown",
   "metadata": {},
   "source": [
    "# Queue\n",
    "\n",
    "A `queue` is a dynamic data structure that follows the `First-In-First-Out (FIFO)` principle.\n",
    "\n",
    "It resembles a queue of people waiting in line, where the first person to join the line is the first one to be served.\n",
    "\n",
    "`Queues` have two primary operations: `enqueue` (to add an item to the end) and `dequeue` (to remove an item from the front).\n",
    "\n",
    "<img src=\"./images/queue_dynamics.png\" width=\"600\"/>"
   ]
  },
  {
   "cell_type": "markdown",
   "metadata": {},
   "source": [
    "## 1. Create a queue\n",
    "\n",
    "To my knowledge, there is no pre-existing implementation of `queue` in Python. So we're going to build them from scratch using `classes`.\n",
    "\n",
    "To implement a queue in Python, we can use a list as the underlying data structure. By using the append() function to `enqueue` and the `pop(0)` function to `dequeue`, we can maintain the `FIFO` order."
   ]
  },
  {
   "cell_type": "code",
   "execution_count": 3,
   "metadata": {},
   "outputs": [],
   "source": [
    "class Queue:\n",
    "    def __init__(self):\n",
    "        self.items = []\n",
    "    \n",
    "    def enqueue(self, item):\n",
    "        self.items.append(item)\n",
    "    \n",
    "    def dequeue(self):\n",
    "        if not self.is_empty():\n",
    "            return self.items.pop(0)\n",
    "        else:\n",
    "            return None\n",
    "    \n",
    "    def is_empty(self):\n",
    "        return len(self.items) == 0\n",
    "    \n",
    "    def peek(self):\n",
    "        if not self.is_empty():\n",
    "            return self.items[0]\n",
    "        else:\n",
    "            return None\n",
    "    \n",
    "    def size(self):\n",
    "        return len(self.items)\n",
    "    \n",
    "    def __repr__(self):\n",
    "        return f'Queue <{self.items}>'"
   ]
  },
  {
   "cell_type": "markdown",
   "metadata": {},
   "source": [
    "## 2. Manipulate a queue\n",
    "\n",
    "<img src=\"./images/queue_dynamics.png\" width=\"600\"/>"
   ]
  },
  {
   "cell_type": "code",
   "execution_count": 5,
   "metadata": {},
   "outputs": [
    {
     "name": "stdout",
     "output_type": "stream",
     "text": [
      "Initial queue: Queue <[8, 5, 0]>\n",
      "\n",
      "queue after enqueueing 1 and 4: Queue <[8, 5, 0, 1, 4]>\n",
      "\n",
      "queue after executing dequeue(): Queue <[5, 0, 1, 4]>\n",
      "\n",
      "Peeked item: 5\n",
      "\n",
      "queue executing dequeue(): Queue <[0, 1, 4]>\n",
      "\n",
      "Peeked item: 0\n",
      "\n",
      "queue is empty: False\n"
     ]
    }
   ],
   "source": [
    "# create an empty queue\n",
    "queue = Queue()\n",
    "\n",
    "# enqueue some data\n",
    "queue.enqueue(8)\n",
    "queue.enqueue(5)\n",
    "queue.enqueue(0)\n",
    "print(f'Initial queue: {queue}\\n')\n",
    "\n",
    "# enqueue data = 1, then data = 4 and display the queue\n",
    "queue.enqueue(1)\n",
    "queue.enqueue(4)\n",
    "print(f'queue after enqueueing 1 and 4: {queue}\\n')\n",
    "\n",
    "# dequeue the element at top and display the queue\n",
    "queue.dequeue()\n",
    "print(f'queue after executing dequeue(): {queue}\\n')\n",
    "\n",
    "# peek\n",
    "peeked_item = queue.peek()\n",
    "print(f'Peeked item: {peeked_item}\\n')\n",
    "\n",
    "# dequeue the element at top and display the queue\n",
    "queue.dequeue()\n",
    "print(f'queue executing dequeue(): {queue}\\n')\n",
    "\n",
    "# peek\n",
    "peeked_item = queue.peek()\n",
    "print(f'Peeked item: {peeked_item}\\n')\n",
    "\n",
    "# check if the queue is empty\n",
    "print(f'queue is empty: {queue.is_empty()}')  # Output: False"
   ]
  }
 ],
 "metadata": {
  "kernelspec": {
   "display_name": "Python 3",
   "language": "python",
   "name": "python3"
  },
  "language_info": {
   "codemirror_mode": {
    "name": "ipython",
    "version": 3
   },
   "file_extension": ".py",
   "mimetype": "text/x-python",
   "name": "python",
   "nbconvert_exporter": "python",
   "pygments_lexer": "ipython3",
   "version": "3.12.1"
  }
 },
 "nbformat": 4,
 "nbformat_minor": 2
}

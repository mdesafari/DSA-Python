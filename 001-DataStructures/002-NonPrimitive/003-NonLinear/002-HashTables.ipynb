{
 "cells": [
  {
   "cell_type": "markdown",
   "metadata": {},
   "source": [
    "# Hash Table (or hash map)\n",
    "\n",
    "A `hash table`, also known as a `hash map`, is a nonlinear data structure that enables efficient storage and retrieval of `key-value` pairs. It uses a technique called `hashing` **to map keys to unique indices in an underlying array**, allowing for fast access to values based on their `keys`.\n",
    "\n",
    "* **Hash table & dictionary**\n",
    "\n",
    "In Python, `hash tables` and `dictionaries` are essentially the same thing. The `dict()` class in Python represents a `hash table`, providing efficient `key-value` storage and retrieval. The terms \"hash table\" and \"dictionary\" are often used interchangeably.\n"
   ]
  },
  {
   "cell_type": "markdown",
   "metadata": {},
   "source": [
    "# **Below we will try to build a simple Hash Table from scratch**\n",
    "\n",
    "<img src=\"./images/hash_table.png\" width=\"400\" />\n",
    "\n",
    "When inserting a value, if the key of the new value to be inserted begins with a letter whose position is already an existing index, we won't perform the insertion but will keep the current key and simply update its value.\n",
    "\n",
    "* **Example: let's assume the following hash table**\n",
    "\n",
    "`hash_table = {'name' : 'Alice', 'age' : 25}`\n",
    "\n",
    "Let's insert the following new key-value pair: `(\"nationality\", \"American\")`\n",
    "\n",
    "As the \"nationality\" key begins with `n`, its index will also be equal to `14`. So, instead of inserting this key-value pair, we'll simply update the value of the existing key with 'american'. We'll get :\n",
    "\n",
    "`{'name' : 'american', 'age' : 25}`\n",
    "\n",
    "Yes, our hash function isn't quite as efficient, but that's just to illustrate the point.\n"
   ]
  },
  {
   "cell_type": "markdown",
   "metadata": {},
   "source": [
    "## 1. Create a simple hash table\n",
    "\n",
    "A `hash table` is a data structure that uses a `hash function` to map `keys` to `array indices`. To build a simple hash table, we'll start with an array and a hash function to `generate indices`.\n"
   ]
  },
  {
   "cell_type": "code",
   "execution_count": 17,
   "metadata": {},
   "outputs": [],
   "source": [
    "class SimpleHashTable:\n",
    "    def __init__(self, capacity=26):\n",
    "        \"\"\"\n",
    "        params:\n",
    "            capacity: maximum elements that our hash table can contain. Default: 26\n",
    "\n",
    "            The default value is 26, because as we've designed our hash function, \n",
    "            there can only be a maximum of 26 distinct keys to insert.\n",
    "        \"\"\"\n",
    "        self.capacity = capacity\n",
    "        self.table = [None] * capacity  # create a list of N None elements. N = capacity\n",
    "    \n",
    "    def get_hash(self, key):\n",
    "        \"\"\"\n",
    "        A simple hash function.\n",
    "        How it works?\n",
    "            It returns the alphabetical position of the 1st letter of the key as an index\n",
    "        \"\"\"\n",
    "        letter = key[0]  # 1st char of key\n",
    "        if letter.isalpha():  # check if the 1st letter of key is a character (or string of 1 char)\n",
    "            letter = letter.upper()  # convert to uppercase if necessary\n",
    "            return ord(letter) - ord('A') # I do not add 1 because indices start from 0 in Python\n",
    "        else:\n",
    "            return None  # return None for non-alphabetic characters\n",
    "    \n",
    "    def add(self, key, value):\n",
    "        \"\"\"\n",
    "        Add a key-value pair or update the value of an existing key's index\n",
    "        \"\"\"\n",
    "        # get the index\n",
    "        index = self.get_hash(key)\n",
    "        \n",
    "        # check if table at index is empty or not\n",
    "        if self.table[index] is None:\n",
    "            # if empty, insert the key-value pair\n",
    "            self.table[index] = [key, value]  # do not use a tuple here as they are immutable\n",
    "        else:\n",
    "            # if not empty, update the existing value\n",
    "            self.table[index][1] = value\n",
    "    \n",
    "    def get(self, key):\n",
    "        \"\"\"\n",
    "        get the value of a key if exists\n",
    "        \"\"\"\n",
    "        index = self.get_hash(key)\n",
    "\n",
    "        if self.table[index] is not None:\n",
    "            return self.table[index][1]  # value\n",
    "        return None\n",
    "    \n",
    "    def __repr__(self):\n",
    "        return f'SimpleHashTable <{self.table}>'"
   ]
  },
  {
   "cell_type": "markdown",
   "metadata": {},
   "source": [
    "## 2. Test the simple hash table\n",
    "\n",
    "<img src=\"./images/hash_table.png\" width=\"400\" />"
   ]
  },
  {
   "cell_type": "code",
   "execution_count": 18,
   "metadata": {},
   "outputs": [
    {
     "name": "stdout",
     "output_type": "stream",
     "text": [
      "Hash table:\n",
      " SimpleHashTable <[['age', 18], None, None, None, None, None, ['grade', 'A'], None, None, None, None, None, None, ['name', 'Alice'], None, None, None, None, None, None, None, None, None, None, None, None]>\n",
      "\n",
      "Key: name - value: Alice\n",
      "\n",
      "Key: name - value: american\n",
      "\n"
     ]
    }
   ],
   "source": [
    "# create a hash table\n",
    "# by default, capacity = 26, so no need to enter it if you do not want to change its value\n",
    "hash_table = SimpleHashTable()\n",
    "\n",
    "# add some key-value pairs\n",
    "hash_table.add('name', 'Alice')\n",
    "hash_table.add('age', 18)\n",
    "hash_table.add('grade', 'A')\n",
    "\n",
    "print(f'Hash table:\\n {hash_table}\\n')\n",
    "\n",
    "# get value associated to key = 'name'\n",
    "value = hash_table.get('name')\n",
    "print(f'Key: name - value: {value}\\n')\n",
    "\n",
    "# add ('nationality', 'american') and get value assiciated to key = 'name'\n",
    "hash_table.add(key='nationality', value='american')\n",
    "value = hash_table.get('name')\n",
    "print(f'Key: name - value: {value}\\n')\n"
   ]
  }
 ],
 "metadata": {
  "kernelspec": {
   "display_name": "Python 3",
   "language": "python",
   "name": "python3"
  },
  "language_info": {
   "codemirror_mode": {
    "name": "ipython",
    "version": 3
   },
   "file_extension": ".py",
   "mimetype": "text/x-python",
   "name": "python",
   "nbconvert_exporter": "python",
   "pygments_lexer": "ipython3",
   "version": "3.12.1"
  }
 },
 "nbformat": 4,
 "nbformat_minor": 2
}

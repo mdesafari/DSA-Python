{
 "cells": [
  {
   "cell_type": "markdown",
   "metadata": {},
   "source": [
    "# Dictionary\n",
    "\n",
    "A `dictionary` is a nonlinear `unordered` data structure in Python that stores data in `key-value pairs`.\n",
    "\n",
    "It allows you to associate a `unique key` with a corresponding `value`, similar to a real-world dictionary where words (`keys`) are associated with their definitions (`values`).\n",
    "\n",
    "<img src=\"./images/dict.png\" width=\"250\" />"
   ]
  },
  {
   "cell_type": "markdown",
   "metadata": {},
   "source": [
    "## 1. Create a dictionary\n",
    "\n",
    "To create a dictionary in Python, we use curly braces `{}` and separate each `key-value` pair with a colon `:`.\n",
    "\n",
    "`Keys` must be `unique and immutable`, such as strings, numbers, or tuples. Values can be of any data type / structure."
   ]
  },
  {
   "cell_type": "code",
   "execution_count": null,
   "metadata": {},
   "outputs": [],
   "source": [
    "# create a simple dictionary\n",
    "student_001 = {'name': 'Alice', 'age': 18, 'grade': 'A'}\n",
    "print(f'A student: {student_001}\\n')\n",
    "\n",
    "# create a more complex dictionary (the value associated to a key is a dictionnary)\n",
    "students = {\n",
    "    '001': {'name': 'Alice', 'age': 18, 'grade': 'A'},\n",
    "    '002': {'name': 'Bob', 'age': 17, 'grade': 'B'},\n",
    "    '003': {'name': 'Charlie', 'age': 16, 'grade': 'A-'}\n",
    "}\n",
    "print(f'Some students: {students}\\n')"
   ]
  },
  {
   "cell_type": "markdown",
   "metadata": {},
   "source": [
    "## 2. Accessing values in a dictionary\n",
    "\n",
    "We can access the values in a dictionary by using the corresponding `key` in square brackets `[]`."
   ]
  },
  {
   "cell_type": "code",
   "execution_count": null,
   "metadata": {},
   "outputs": [],
   "source": [
    "# create a dictionary of students\n",
    "students = {\n",
    "    '001': {'name': 'Alice', 'age': 18, 'grade': 'A'},\n",
    "    '002': {'name': 'Bob', 'age': 17, 'grade': 'B'},\n",
    "    '003': {'name': 'Charlie', 'age': 16, 'grade': 'A-'}\n",
    "}\n",
    "\n",
    "# access to the info of the first student\n",
    "print(f'001: {students['001']}\\n')  # output: {'name': 'Alice', 'age': 18, 'grade': 'A'}\n",
    "\n",
    "# access to the age of the third student\n",
    "print(f'003: {students['001']['age']}\\n')  # output: 16"
   ]
  },
  {
   "cell_type": "markdown",
   "metadata": {},
   "source": [
    "## 3. Modify a value in a dictionary\n",
    "\n",
    "We can modify the values in a dictionary by assigning a new value to an existing key."
   ]
  },
  {
   "cell_type": "code",
   "execution_count": null,
   "metadata": {},
   "outputs": [],
   "source": [
    "# create a dictionary of students\n",
    "students = {\n",
    "    '001': {'name': 'Alice', 'age': 18, 'grade': 'A'},\n",
    "    '002': {'name': 'Bob', 'age': 17, 'grade': 'B'}\n",
    "}\n",
    "\n",
    "# modify the grade of the first student\n",
    "students['001']['grade'] = 'A+'\n",
    "\n",
    "# print\n",
    "print(students['001'])  # Output: {'name': 'Alice', 'age': 18, 'grade': 'A+'}"
   ]
  },
  {
   "cell_type": "markdown",
   "metadata": {},
   "source": [
    "## 4. Add a new key-value pair in a dictionary\n",
    "\n",
    "To add a new key-value pair to a dictionary, we can simply assign a value to a new key."
   ]
  },
  {
   "cell_type": "code",
   "execution_count": null,
   "metadata": {},
   "outputs": [],
   "source": [
    "# create a dictionary of students\n",
    "students = {\n",
    "    '001': {'name': 'Alice', 'age': 18, 'grade': 'A'}\n",
    "}\n",
    "\n",
    "# add a new student\n",
    "students['005'] = {'name': 'Bob', 'age': 17, 'grade': 'B'}\n",
    "\n",
    "# print\n",
    "print(students['005'])  # Output: {'name': 'Bob', 'age': 17, 'grade': 'B'}"
   ]
  },
  {
   "cell_type": "markdown",
   "metadata": {},
   "source": [
    "## 5. Remove a key-value pair in a dictionary\n",
    "\n",
    "We can remove a key-value pair from a dictionary using the `del` keyword."
   ]
  },
  {
   "cell_type": "code",
   "execution_count": null,
   "metadata": {},
   "outputs": [],
   "source": [
    "# create a dictionary of students\n",
    "students = {\n",
    "    '001': {'name': 'Alice', 'age': 18, 'grade': 'A'},\n",
    "    '002': {'name': 'Bob', 'age': 17, 'grade': 'B'}\n",
    "}\n",
    "\n",
    "# delete the first student\n",
    "del students['001']\n",
    "\n",
    "# print\n",
    "print(students)  # Output: {'002': {'name': 'Bob', 'age': 17, 'grade': 'B'}}"
   ]
  },
  {
   "cell_type": "markdown",
   "metadata": {},
   "source": [
    "## 6. Checking if a key exists\n",
    "\n",
    "To check if a key exists in a dictionary, we can use the in keyword."
   ]
  },
  {
   "cell_type": "code",
   "execution_count": null,
   "metadata": {},
   "outputs": [],
   "source": [
    "# create a dictionary of students\n",
    "students = {\n",
    "    '001': {'name': 'Alice', 'age': 18, 'grade': 'A'},\n",
    "    '002': {'name': 'Bob', 'age': 17, 'grade': 'B'}\n",
    "}\n",
    "\n",
    "# check if the first student exists\n",
    "if '001' in students:\n",
    "    print('The first student exists')\n",
    "else:\n",
    "    print('The first student does not exist')\n"
   ]
  },
  {
   "cell_type": "markdown",
   "metadata": {},
   "source": [
    "## 7. Dictionary Methods\n",
    "\n",
    "Dictionaries provide several useful methods. For example:\n",
    "\n",
    "* **keys()**: returns a `dict_keys` object that contains a list of all keys.\n",
    "* **values()**: returns a `dict_keys` object that contains a list of all values.\n",
    "* **items()** : returns a `dict_keys` object that contains a list of key-value tuples.\n"
   ]
  },
  {
   "cell_type": "code",
   "execution_count": null,
   "metadata": {},
   "outputs": [],
   "source": [
    "# create a dictionary of students\n",
    "students = {\n",
    "    '001': {'name': 'Alice', 'age': 18, 'grade': 'A'},\n",
    "    '002': {'name': 'Bob', 'age': 17, 'grade': 'B'}\n",
    "}\n",
    "\n",
    "print(students.keys())  # output: dict_keys(['001', '002'])\n",
    "print(students.values())\n",
    "print(students.items())"
   ]
  }
 ],
 "metadata": {
  "kernelspec": {
   "display_name": "Python 3",
   "language": "python",
   "name": "python3"
  },
  "language_info": {
   "codemirror_mode": {
    "name": "ipython",
    "version": 3
   },
   "file_extension": ".py",
   "mimetype": "text/x-python",
   "name": "python",
   "nbconvert_exporter": "python",
   "pygments_lexer": "ipython3",
   "version": "3.12.1"
  }
 },
 "nbformat": 4,
 "nbformat_minor": 2
}

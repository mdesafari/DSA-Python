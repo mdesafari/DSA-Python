{
 "cells": [
  {
   "cell_type": "markdown",
   "metadata": {},
   "source": [
    "# **Graphs**\n",
    "\n",
    "A `graph` is a non-linear data structure that consists of a set of `vertices` (also called nodes) connected by `edges`. Graphs are used to represent `relationships` between objects. They are widely used in various applications, such as social networks, transportation systems, and computer networks.\n"
   ]
  },
  {
   "cell_type": "markdown",
   "metadata": {},
   "source": [
    "# **Types of Graphs**\n",
    "\n",
    "* **Undirected Graph**: An undirected graph is a graph in which edges have no direction. The edges connect two vertices, and the order of the vertices does not matter.\n",
    "\n",
    "* **Directed Graph (Digraph)**: In a directed graph, each edge has a direction associated with it. The edges connect a source vertex to a destination vertex, indicating a one-way relationship.\n",
    "\n",
    "* **Weighted Graph**: A weighted graph is a graph in which each edge has a weight or cost associated with it. The weight can represent a distance, cost, or any other quantitative value.\n",
    "\n",
    "* **Cyclic Graph**: A cyclic graph is a graph that contains at least one cycle, which is a path that starts and ends at the same vertex.\n",
    "\n",
    "* **Acyclic Graph**: An acyclic graph is a graph that does not contain any cycles.\n",
    "\n",
    "<img src=\"./images/graphs.png\" width=\"500\" />"
   ]
  },
  {
   "cell_type": "markdown",
   "metadata": {},
   "source": [
    "# **Graph Representation**\n",
    "\n",
    "There are two common ways to represent a graph: `(1) adjacency list` and `(2) adjacency matrix`."
   ]
  },
  {
   "cell_type": "markdown",
   "metadata": {},
   "source": [
    "## **Adjacency List**\n",
    "\n",
    "In an adjacency list representation, we use a dictionary or an array of lists to store the graph. Each vertex in the graph is associated with a list of its neighboring vertices."
   ]
  },
  {
   "cell_type": "markdown",
   "metadata": {},
   "source": [
    "## **Adjacency Matrix**\n",
    "\n",
    "In an adjacency matrix representation, we use a 2D matrix to represent the graph. The rows and columns of the matrix correspond to the vertices, and the matrix entries indicate whether an edge exists between two vertices."
   ]
  },
  {
   "cell_type": "markdown",
   "metadata": {},
   "source": [
    "**We'll implement various Graphs after looking at a few algorithms using techniques such as recursion, ...**"
   ]
  }
 ],
 "metadata": {
  "kernelspec": {
   "display_name": "Python 3",
   "language": "python",
   "name": "python3"
  },
  "language_info": {
   "codemirror_mode": {
    "name": "ipython",
    "version": 3
   },
   "file_extension": ".py",
   "mimetype": "text/x-python",
   "name": "python",
   "nbconvert_exporter": "python",
   "pygments_lexer": "ipython3",
   "version": "3.12.1"
  }
 },
 "nbformat": 4,
 "nbformat_minor": 2
}

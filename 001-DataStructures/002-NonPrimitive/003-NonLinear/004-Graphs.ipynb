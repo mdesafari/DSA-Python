{
 "cells": [
  {
   "cell_type": "markdown",
   "metadata": {},
   "source": [
    "# **Graphs**\n",
    "\n",
    "A `graph` is a non-linear data structure that consists of a set of `vertices` (also called nodes) connected by `edges`. Graphs are used to represent `relationships` between objects. They are widely used in various applications, such as social networks, transportation systems, and computer networks.\n"
   ]
  },
  {
   "cell_type": "markdown",
   "metadata": {},
   "source": [
    "# **Types of Graphs**\n",
    "\n",
    "* **Undirected Graph**: An undirected graph is a graph in which edges have no direction. The edges connect two vertices, and the order of the vertices does not matter.\n",
    "\n",
    "* **Directed Graph (Digraph)**: In a directed graph, each edge has a direction associated with it. The edges connect a source vertex to a destination vertex, indicating a one-way relationship.\n",
    "\n",
    "* **Weighted Graph**: A weighted graph is a graph in which each edge has a weight or cost associated with it. The weight can represent a distance, cost, or any other quantitative value.\n",
    "\n",
    "* **Cyclic Graph**: A cyclic graph is a graph that contains at least one cycle, which is a path that starts and ends at the same vertex.\n",
    "\n",
    "* **Acyclic Graph**: An acyclic graph is a graph that does not contain any cycles.\n",
    "\n",
    "<img src=\"./images/graphs.png\" width=\"500\" />"
   ]
  },
  {
   "cell_type": "markdown",
   "metadata": {},
   "source": [
    "# **Graph Representation**\n",
    "\n",
    "There are two common ways to represent a graph: `(1) adjacency list` and `(2) adjacency matrix`."
   ]
  },
  {
   "cell_type": "markdown",
   "metadata": {},
   "source": [
    "## **Adjacency List**\n",
    "\n",
    "In an adjacency list representation, we use a dictionary or an array of lists to store the graph. Each vertex in the graph is associated with a list of its neighboring vertices."
   ]
  },
  {
   "cell_type": "markdown",
   "metadata": {},
   "source": [
    "## **Adjacency Matrix**\n",
    "\n",
    "In an adjacency matrix representation, we use a 2D matrix to represent the graph. The rows and columns of the matrix correspond to the vertices, and the matrix entries indicate whether an edge exists between two vertices."
   ]
  },
  {
   "cell_type": "markdown",
   "metadata": {},
   "source": [
    "**We'll implement various Graphs after looking at a few algorithms using techniques such as recursion, ...**"
   ]
  },
  {
   "cell_type": "markdown",
   "metadata": {},
   "source": [
    "## **Graph Implementation**"
   ]
  },
  {
   "cell_type": "markdown",
   "metadata": {},
   "source": [
    "### **1. Undirected Graph**\n",
    "\n",
    "An undirected graph is a graph in which edges have no direction. It means that if there is an edge between vertex A and vertex B, you can travel from A to B and from B to A."
   ]
  },
  {
   "cell_type": "code",
   "execution_count": 13,
   "metadata": {},
   "outputs": [],
   "source": [
    "def add_edge_undirected(graph, u, v):\n",
    "    if u not in graph:\n",
    "        graph[u] = []\n",
    "    if v not in graph:\n",
    "        graph[v] = []\n",
    "    graph[u].append(v)\n",
    "    graph[v].append(u)"
   ]
  },
  {
   "cell_type": "code",
   "execution_count": 14,
   "metadata": {},
   "outputs": [
    {
     "name": "stdout",
     "output_type": "stream",
     "text": [
      "{'A': ['B', 'C'], 'B': ['A', 'D', 'E'], 'C': ['A', 'F'], 'D': ['B'], 'E': ['B'], 'F': ['C']}\n"
     ]
    }
   ],
   "source": [
    "# Undirected Graph\n",
    "graph_undirected = {}\n",
    "\n",
    "# Adding edges to the undirected graph\n",
    "add_edge_undirected(graph_undirected, 'A', 'B')\n",
    "add_edge_undirected(graph_undirected, 'A', 'C')\n",
    "add_edge_undirected(graph_undirected, 'B', 'D')\n",
    "add_edge_undirected(graph_undirected, 'B', 'E')\n",
    "add_edge_undirected(graph_undirected, 'C', 'F')\n",
    "\n",
    "# print\n",
    "print(graph_undirected)"
   ]
  },
  {
   "cell_type": "markdown",
   "metadata": {},
   "source": [
    "### **2. Directed Graph**\n",
    "\n",
    "A directed graph is a graph in which edges have a specific direction. It means that if there is a directed edge from vertex A to vertex B, you can travel from A to B but not from B to A."
   ]
  },
  {
   "cell_type": "code",
   "execution_count": 15,
   "metadata": {},
   "outputs": [],
   "source": [
    "def add_edge_directed(graph, u, v):\n",
    "    if u not in graph:\n",
    "        graph[u] = []\n",
    "    if v not in graph:\n",
    "        graph[v] = []\n",
    "    graph[u].append(v)"
   ]
  },
  {
   "cell_type": "code",
   "execution_count": 16,
   "metadata": {},
   "outputs": [
    {
     "name": "stdout",
     "output_type": "stream",
     "text": [
      "{'A': ['B', 'C'], 'B': ['D', 'E'], 'C': ['F'], 'D': [], 'E': [], 'F': []}\n"
     ]
    }
   ],
   "source": [
    "# Directed Graph\n",
    "graph_directed = {}\n",
    "\n",
    "# Adding edges to the directed graph\n",
    "add_edge_directed(graph_directed, 'A', 'B')\n",
    "add_edge_directed(graph_directed, 'A', 'C')\n",
    "add_edge_directed(graph_directed, 'B', 'D')\n",
    "add_edge_directed(graph_directed, 'B', 'E')\n",
    "add_edge_directed(graph_directed, 'C', 'F')\n",
    "\n",
    "# print\n",
    "print(graph_directed)"
   ]
  },
  {
   "cell_type": "markdown",
   "metadata": {},
   "source": [
    "### **3. Weighted Graph**\n",
    "\n",
    "A weighted graph is a graph in which edges have associated weights or costs. It is useful in modeling scenarios where the edges represent distances, time, or any other measurable quantity."
   ]
  },
  {
   "cell_type": "code",
   "execution_count": 17,
   "metadata": {},
   "outputs": [],
   "source": [
    "def add_edge_weighted(graph, u, v, weight):\n",
    "    if u not in graph:\n",
    "        graph[u] = []\n",
    "    if v not in graph:\n",
    "        graph[v] = []\n",
    "    graph[u].append((v, weight))\n",
    "    graph[v].append((u, weight))"
   ]
  },
  {
   "cell_type": "code",
   "execution_count": 18,
   "metadata": {},
   "outputs": [
    {
     "name": "stdout",
     "output_type": "stream",
     "text": [
      "{'A': [('B', 5), ('C', 3)], 'B': [('A', 5), ('D', 2), ('E', 4)], 'C': [('A', 3), ('F', 1)], 'D': [('B', 2)], 'E': [('B', 4)], 'F': [('C', 1)]}\n"
     ]
    }
   ],
   "source": [
    "# Weighted Graph\n",
    "graph_weighted = {}\n",
    "\n",
    "# Adding edges to the weighted graph\n",
    "add_edge_weighted(graph_weighted, 'A', 'B', 5)\n",
    "add_edge_weighted(graph_weighted, 'A', 'C', 3)\n",
    "add_edge_weighted(graph_weighted, 'B', 'D', 2)\n",
    "add_edge_weighted(graph_weighted, 'B', 'E', 4)\n",
    "add_edge_weighted(graph_weighted, 'C', 'F', 1)\n",
    "\n",
    "# print\n",
    "print(graph_weighted)"
   ]
  },
  {
   "cell_type": "markdown",
   "metadata": {},
   "source": [
    "### **4. Acyclic Graph**\n",
    "\n",
    "An acyclic graph is a graph that does not contain any cycles. In other words, there is no way to start at a vertex and follow a sequence of directed edges to return to the same vertex."
   ]
  },
  {
   "cell_type": "code",
   "execution_count": 19,
   "metadata": {},
   "outputs": [],
   "source": [
    "def add_edge_acyclic(graph, u, v):\n",
    "    if u not in graph:\n",
    "        graph[u] = []\n",
    "    if v not in graph:\n",
    "        graph[v] = []\n",
    "    graph[u].append(v)"
   ]
  },
  {
   "cell_type": "code",
   "execution_count": 20,
   "metadata": {},
   "outputs": [
    {
     "name": "stdout",
     "output_type": "stream",
     "text": [
      "{'A': ['B', 'C'], 'B': ['D'], 'C': [], 'D': ['E'], 'E': []}\n"
     ]
    }
   ],
   "source": [
    "# Acyclic Graph\n",
    "graph_acyclic = {}\n",
    "\n",
    "# Adding edges to the acyclic graph\n",
    "add_edge_acyclic(graph_acyclic, 'A', 'B')\n",
    "add_edge_acyclic(graph_acyclic, 'A', 'C')\n",
    "add_edge_acyclic(graph_acyclic, 'B', 'D')\n",
    "add_edge_acyclic(graph_acyclic, 'D', 'E')\n",
    "\n",
    "# print\n",
    "print(graph_acyclic)"
   ]
  },
  {
   "cell_type": "markdown",
   "metadata": {},
   "source": [
    "### **5. Directed Acyclic Graph (DAG)**\n",
    "\n",
    "A directed acyclic graph (DAG) is a directed graph that does not contain any cycles. It means that there is no way to start at a vertex and follow a sequence of directed edges to return to the same vertex."
   ]
  },
  {
   "cell_type": "code",
   "execution_count": 21,
   "metadata": {},
   "outputs": [],
   "source": [
    "def add_edge_dag(graph, u, v):\n",
    "    if u not in graph:\n",
    "        graph[u] = []\n",
    "    if v not in graph:\n",
    "        graph[v] = []\n",
    "    graph[u].append(v)"
   ]
  },
  {
   "cell_type": "code",
   "execution_count": 22,
   "metadata": {},
   "outputs": [
    {
     "name": "stdout",
     "output_type": "stream",
     "text": [
      "{'A': ['B', 'C'], 'B': ['D'], 'C': ['D'], 'D': ['E'], 'E': []}\n"
     ]
    }
   ],
   "source": [
    "# Directed Acyclic Graph (DAG)\n",
    "graph_dag = {}\n",
    "\n",
    "# Adding edges to the directed acyclic graph\n",
    "add_edge_dag(graph_dag, 'A', 'B')\n",
    "add_edge_dag(graph_dag, 'A', 'C')\n",
    "add_edge_dag(graph_dag, 'B', 'D')\n",
    "add_edge_dag(graph_dag, 'C', 'D')\n",
    "add_edge_dag(graph_dag, 'D', 'E')\n",
    "\n",
    "# print\n",
    "print(graph_dag)"
   ]
  }
 ],
 "metadata": {
  "kernelspec": {
   "display_name": "Python 3",
   "language": "python",
   "name": "python3"
  },
  "language_info": {
   "codemirror_mode": {
    "name": "ipython",
    "version": 3
   },
   "file_extension": ".py",
   "mimetype": "text/x-python",
   "name": "python",
   "nbconvert_exporter": "python",
   "pygments_lexer": "ipython3",
   "version": "3.12.2"
  }
 },
 "nbformat": 4,
 "nbformat_minor": 2
}

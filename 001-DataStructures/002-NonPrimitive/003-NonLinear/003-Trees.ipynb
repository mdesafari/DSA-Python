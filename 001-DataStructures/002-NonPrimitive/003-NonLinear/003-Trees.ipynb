{
 "cells": [
  {
   "cell_type": "markdown",
   "metadata": {},
   "source": [
    "# **Trees**\n",
    "\n",
    "A `tree` is a widely used data structure in computer science that represents a hierarchical structure. It consists of `nodes` connected by `edges`, where each node can have zero or more `child nodes`. The topmost node is called the `root`, and nodes without any children are called `leaves`.\n",
    "\n",
    "## **Types of Trees (not exhaustive)**\n",
    "\n",
    "* **General Tree**: In a general tree, nodes can have any number of `child nodes`. There is `no restriction` on the `branching factor`.\n",
    "\n",
    "* **Binary Tree (BT)**: A binary tree is a special type of tree where each `node` has `at most two child nodes`: a `left child` and a `right child`. **`The order of insertion is important in a binary tree`**.\n",
    "\n",
    "* **Binary Search Tree (BST)**: A binary search tree is a `binary tree` with an additional property: for any given node, all `nodes` in its left subtree have `values less` than the node's value, and all `nodes` in its right subtree have `values greater` than the node's value. This property enables efficient searching, insertion, and deletion operations."
   ]
  },
  {
   "cell_type": "markdown",
   "metadata": {},
   "source": [
    "<img src=\"./images/trees.png\" width=\"650\" />"
   ]
  },
  {
   "cell_type": "markdown",
   "metadata": {},
   "source": [
    "# **1. Binary Trees**\n",
    "\n",
    "A binary tree is a special type of tree where each `node` has at most two child nodes: a `left child` and a `right child`. **The order of insertion is important in a binary tree**."
   ]
  },
  {
   "cell_type": "markdown",
   "metadata": {},
   "source": [
    "## **1.1. Create the Node Class**\n",
    "\n",
    "To represent each node in the Binary Tree, let's create a class called Node. Each node will have a value and references to its left and right children."
   ]
  },
  {
   "cell_type": "code",
   "execution_count": null,
   "metadata": {},
   "outputs": [],
   "source": [
    "class Node:\n",
    "    def __init__(self, value):\n",
    "        self.value = value\n",
    "        self.left = None\n",
    "        self.right = None"
   ]
  },
  {
   "cell_type": "markdown",
   "metadata": {},
   "source": [
    "## **1.2. Create the BinaryTree Class**\n",
    "\n",
    "**We will improve the implementation of BinaryTree in the section on algorithms**"
   ]
  },
  {
   "cell_type": "code",
   "execution_count": null,
   "metadata": {},
   "outputs": [],
   "source": [
    "# root node\n",
    "root = Node(1)\n",
    "\n",
    "# insert at left\n",
    "root.left = Node(2)\n",
    "\n",
    "# insert at right\n",
    "root.right = Node(3)\n",
    "\n",
    "# insert at left of left\n",
    "root.left.left = Node(4)\n",
    "\n",
    "# insert at right of left\n",
    "root.left.right = Node(5)"
   ]
  },
  {
   "cell_type": "markdown",
   "metadata": {},
   "source": [
    "## **1.3. Manipulation of BinaryTree**"
   ]
  },
  {
   "cell_type": "markdown",
   "metadata": {},
   "source": [
    "* **Insertion**\n",
    "\n",
    "To insert a new node into the Binary Tree, we need to find the appropriate position based on certain rules (e.g., smaller values to the left, larger values to the right).\n",
    "\n",
    "* **Deletion**\n",
    "\n",
    "To delete a node from the Binary Tree, we need to handle different scenarios based on the node's children.\n",
    "\n",
    "* **Searching**\n",
    "\n",
    "To search for a specific value in the Binary Tree, we can use various algorithms like depth-first search (DFS) or breadth-first search (BFS).\n",
    "\n",
    "* **Balancing Binary Trees**\n",
    "Binary Trees can become unbalanced, which affects their performance. Techniques like AVL trees or Red-Black trees help maintain balance by automatically adjusting the tree structure during insertions and deletions.\n",
    "\n",
    "\n",
    "**We will improve the implementation of BinaryTree in the section on algorithms and also implement the various algorithms to insert, delete, search data in the binary tree, ...**"
   ]
  },
  {
   "cell_type": "markdown",
   "metadata": {},
   "source": [
    "# **2. Binary Search Trees**\n",
    "\n",
    "**We'll implement it after looking at a few algorithms using techniques such as recursion, ...**"
   ]
  }
 ],
 "metadata": {
  "language_info": {
   "name": "python"
  }
 },
 "nbformat": 4,
 "nbformat_minor": 2
}

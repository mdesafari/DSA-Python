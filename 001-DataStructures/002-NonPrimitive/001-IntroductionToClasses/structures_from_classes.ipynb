{
 "cells": [
  {
   "cell_type": "markdown",
   "metadata": {},
   "source": [
    "**Classes are an essential concept in Python that allow you to create your own custom data structures and define how they behave. We will explore the fundamentals of classes using only primitive data types**"
   ]
  },
  {
   "cell_type": "markdown",
   "metadata": {},
   "source": [
    "# 1. Class Definition\n",
    "\n",
    "To define a class, use the `class` keyword followed by the class name. Let's create a class called `Person`."
   ]
  },
  {
   "cell_type": "code",
   "execution_count": null,
   "metadata": {},
   "outputs": [],
   "source": [
    "class Person:\n",
    "    pass"
   ]
  },
  {
   "cell_type": "markdown",
   "metadata": {},
   "source": [
    "`pass` statement is a placeholder that does nothing. It is typically used as a syntactic requirement when a statement is expected by the Python interpreter but no action or code is needed at that point."
   ]
  },
  {
   "cell_type": "markdown",
   "metadata": {},
   "source": [
    "# 2. Object Instantiation\n",
    "\n",
    "To create an `instance` (object) of a `class`, call the class name followed by parentheses. Let's create an object of the `Person` class."
   ]
  },
  {
   "cell_type": "code",
   "execution_count": null,
   "metadata": {},
   "outputs": [],
   "source": [
    "person = Person()"
   ]
  },
  {
   "cell_type": "markdown",
   "metadata": {},
   "source": [
    "# 3. Attributes\n",
    "\n",
    "Classes can have `attributes`, which are variables that store data specific to each object. We can define `attributes` using the self keyword within the class.\n"
   ]
  },
  {
   "cell_type": "code",
   "execution_count": null,
   "metadata": {},
   "outputs": [],
   "source": [
    "class Person:\n",
    "    def __init__(self):\n",
    "        self.name = \"\"\n",
    "        self.age = 0"
   ]
  },
  {
   "cell_type": "markdown",
   "metadata": {},
   "source": [
    "The `__init__` method is a special method called a `constructor`. It is executed automatically when an object is created. We can initialize the attributes within this method.\n",
    "\n",
    "`self` parameter is a convention used in class `methods` to refer to the `instance` of the class itself. It represents the object on which the method is being called."
   ]
  },
  {
   "cell_type": "code",
   "execution_count": null,
   "metadata": {},
   "outputs": [],
   "source": [
    "class Person:\n",
    "    def __init__(self, name, age):\n",
    "        self.name = name\n",
    "        self.age = age"
   ]
  },
  {
   "cell_type": "markdown",
   "metadata": {},
   "source": [
    "Now, we can create objects of the `Person` class and access their attributes."
   ]
  },
  {
   "cell_type": "code",
   "execution_count": null,
   "metadata": {},
   "outputs": [],
   "source": [
    "person1 = Person(\"Alice\", 25)\n",
    "person2 = Person(\"Bob\", 30)\n",
    "\n",
    "print(person1.name)  # Output: Alice\n",
    "print(person2.age)   # Output: 30"
   ]
  },
  {
   "cell_type": "markdown",
   "metadata": {},
   "source": [
    "# 4. Methods\n",
    "\n",
    "Classes can have `methods`, which are functions defined within the class. These `methods` can perform operations on the object's attributes."
   ]
  },
  {
   "cell_type": "code",
   "execution_count": null,
   "metadata": {},
   "outputs": [],
   "source": [
    "class Person:\n",
    "    def __init__(self, name, age):\n",
    "        self.name = name\n",
    "        self.age = age\n",
    "\n",
    "    def say_hello(self):\n",
    "        print(\"Hello, my name is\", self.name)\n",
    "\n",
    "person = Person(\"Alice\", 25)\n",
    "person.say_hello()  # Output: Hello, my name is Alice"
   ]
  },
  {
   "cell_type": "markdown",
   "metadata": {},
   "source": [
    "# 5. Naming Conventions for Classes\n",
    "\n",
    "For classes, it is recommended to use `CamelCase`, where each word starts with an uppercase letter."
   ]
  },
  {
   "cell_type": "code",
   "execution_count": null,
   "metadata": {},
   "outputs": [],
   "source": [
    "class PersonClass:\n",
    "    pass"
   ]
  },
  {
   "cell_type": "markdown",
   "metadata": {},
   "source": [
    "# 6. Built-in Methods for Classes\n",
    "\n",
    "* Classes in Python have built-in methods that provide functionality and allow you to customize the behavior of objects. These methods have special names that begin and end with double underscores `__` (dunder methods).\n",
    "\n",
    "* One commonly used built-in method is `__str__`, which returns a string representation of the object. Let's implement it in the `PersonClass`."
   ]
  },
  {
   "cell_type": "code",
   "execution_count": null,
   "metadata": {},
   "outputs": [],
   "source": [
    "class PersonClass:\n",
    "    def __init__(self, name, age):\n",
    "        self.name = name\n",
    "        self.age = age\n",
    "\n",
    "    def __str__(self):\n",
    "        return f\"Person: {self.name}, {self.age} years old\"\n",
    "\n",
    "person = PersonClass(\"Alice\", 25)\n",
    "print(person)  # Output: Person: Alice, 25 years old"
   ]
  },
  {
   "cell_type": "markdown",
   "metadata": {},
   "source": [
    "# 7. Static Methods\n",
    "\n",
    "* `Static methods` are methods that belong to a class but do not have access to the `object's attributes`. They are defined using the `@staticmethod` decorator.\n",
    "\n",
    "* `Static methods` are useful when you want to define a method within the class, but it doesn't require access to instance-specific data."
   ]
  },
  {
   "cell_type": "code",
   "execution_count": null,
   "metadata": {},
   "outputs": [],
   "source": [
    "class PersonClass:\n",
    "    @staticmethod\n",
    "    def greet():\n",
    "        print(\"Hello! Welcome to the tutorial!\")\n",
    "\n",
    "PersonClass.greet()  # Output: Hello! Welcome to the tutorial!"
   ]
  },
  {
   "cell_type": "markdown",
   "metadata": {},
   "source": [
    "# 8. Inheritence\n",
    "\n",
    "The concept of `inheritance` allows classes to inherit `attributes` and `methods` from other classes."
   ]
  },
  {
   "cell_type": "markdown",
   "metadata": {},
   "source": [
    "## 8.1. Single Inheritance"
   ]
  },
  {
   "cell_type": "markdown",
   "metadata": {},
   "source": [
    "`Single inheritance` refers to the process of creating a new class that inherits `attributes` and `methods` from a single `parent` class. The `child` class can then add its own unique attributes and methods.\n",
    "\n",
    "Let's create a `Student` class that inherits from the `PersonClass` we defined earlier."
   ]
  },
  {
   "cell_type": "code",
   "execution_count": null,
   "metadata": {},
   "outputs": [],
   "source": [
    "class Student(PersonClass):\n",
    "    def __init__(self, name, age, grade):\n",
    "        super().__init__(name, age)  # equivalent to PersonClass(name, age)\n",
    "        self.grade = grade  # now, Student class has 3 attributes: name, age, grade\n",
    "\n",
    "        # it also inherit the methods of PersonClass such as __str__\n",
    "\n",
    "student = Student(\"Alice\", 15, 9)\n",
    "print(student.name)   # Output: Alice\n",
    "print(student.grade)  # Output: 9"
   ]
  },
  {
   "cell_type": "markdown",
   "metadata": {},
   "source": [
    "`Inherited methods` can be `overridden` in the `child` class to modify their behavior. Let's override the `__str__` method in the `Student` class:"
   ]
  },
  {
   "cell_type": "code",
   "execution_count": null,
   "metadata": {},
   "outputs": [],
   "source": [
    "class Student(PersonClass):\n",
    "    def __init__(self, name, age, grade):\n",
    "        super().__init__(name, age)\n",
    "        self.grade = grade\n",
    "\n",
    "    def __str__(self):\n",
    "        return f\"Student: {self.name}, {self.age} years old, Grade: {self.grade}\"\n",
    "\n",
    "student = Student(\"Alice\", 15, 9)\n",
    "print(student)  # Output: Student: Alice, 15 years old, Grade: 9"
   ]
  },
  {
   "cell_type": "markdown",
   "metadata": {},
   "source": [
    "## 8.2. Multiple Inheritance\n",
    "\n",
    "`Multiple inheritance` allows a class to inherit `attributes` and `methods` from `multiple parent` classes. This can be useful when creating complex relationships between classes.\n",
    "\n",
    "Let's create a `Teacher` class that inherits from both `PersonClass` and another class called `Subject`:"
   ]
  },
  {
   "cell_type": "code",
   "execution_count": null,
   "metadata": {},
   "outputs": [],
   "source": [
    "class Subject:\n",
    "    def __init__(self, subject):\n",
    "        self.subject = subject\n",
    "\n",
    "    def get_subject(self):\n",
    "        return self.subject"
   ]
  },
  {
   "cell_type": "code",
   "execution_count": null,
   "metadata": {},
   "outputs": [],
   "source": [
    "class Teacher(PersonClass, Subject):\n",
    "    def __init__(self, name, age, subject):\n",
    "        super().__init__(name, age)\n",
    "        Subject.__init__(self, subject)\n",
    "\n",
    "teacher = Teacher(\"Bob\", 40, \"Math\")\n",
    "print(teacher.name)       # Output: Bob\n",
    "print(teacher.get_subject())  # Output: Math"
   ]
  },
  {
   "cell_type": "markdown",
   "metadata": {},
   "source": [
    "# 9. Method Resolution Order (MRO)\n",
    "\n",
    "The order in which Python resolves method calls in classes with multiple inheritance is determined by the Method Resolution Order (MRO).\n",
    "\n",
    "The MRO can be accessed using the mro() method. It returns a tuple that represents the order in which the classes are checked for method calls.\n"
   ]
  },
  {
   "cell_type": "code",
   "execution_count": null,
   "metadata": {},
   "outputs": [],
   "source": [
    "class A:\n",
    "    pass\n",
    "\n",
    "class B(A):\n",
    "    pass\n",
    "\n",
    "class C(A):\n",
    "    pass\n",
    "\n",
    "class D(B, C):\n",
    "    pass\n",
    "\n",
    "print(D.mro())  # Output: D, B, C, A"
   ]
  }
 ],
 "metadata": {
  "kernelspec": {
   "display_name": "Python 3",
   "language": "python",
   "name": "python3"
  },
  "language_info": {
   "codemirror_mode": {
    "name": "ipython",
    "version": 3
   },
   "file_extension": ".py",
   "mimetype": "text/x-python",
   "name": "python",
   "nbconvert_exporter": "python",
   "pygments_lexer": "ipython3",
   "version": "3.12.1"
  }
 },
 "nbformat": 4,
 "nbformat_minor": 2
}

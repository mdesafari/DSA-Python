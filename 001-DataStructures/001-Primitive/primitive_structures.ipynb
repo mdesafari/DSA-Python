{
 "cells": [
  {
   "cell_type": "markdown",
   "metadata": {},
   "source": [
    "**Primitive data structures are the basic building blocks for representing and manipulating data in Python. They have distinct characteristics and are used for different purposes.**"
   ]
  },
  {
   "cell_type": "markdown",
   "metadata": {},
   "source": [
    "# 1. Numeric Data"
   ]
  },
  {
   "cell_type": "markdown",
   "metadata": {},
   "source": [
    "## 1.1. Integer, Float and Complex numbers"
   ]
  },
  {
   "cell_type": "markdown",
   "metadata": {},
   "source": [
    "### 1.1.1. Integer (int)\n",
    "\n",
    "Represents whole numbers, such as `5`, `-10`, or `0`."
   ]
  },
  {
   "cell_type": "code",
   "execution_count": null,
   "metadata": {},
   "outputs": [],
   "source": [
    "# `int_number1` variable is a named reference to a value stored in memory.\n",
    "# It allows you to store and manipulate data within your program\n",
    "int_number1 = 5\n",
    "\n",
    "\n",
    "int_number2 = -10\n",
    "int_number3 = 0\n",
    "\n",
    "# print allows you to display values in the python console\n",
    "print(int_number1)  # will display the value contained in `int_number1`\n",
    "print(int_number1, int_number2)  # will display 5 -10 (with space btw them)"
   ]
  },
  {
   "cell_type": "markdown",
   "metadata": {},
   "source": [
    "#### **Naming convention for variables**\n",
    "\n",
    "1. **Use Descriptive Names:** Choose variable names that are descriptive and convey the purpose or meaning of the data they represent.\n",
    "\n",
    "2. **Use Lowercase Letters:** Variable names should generally be in lowercase letters. If the name consists of multiple words, you can separate them using underscores `_`. e.g., `first_name`.\n",
    "\n",
    "3. **Avoid Reserved Keywords:** Do not use Python reserved keywords as variable names since they have special meanings in the language. Examples of reserved keywords include `if`, `for`, `while`, `def`, `class`, `etc`. So you can use: `while_element` as variable name but not `while` alone.\n",
    "\n",
    "4. **Be Consistent:** Maintain consistency in your naming conventions throughout your codebase. If you choose to separate words with underscores, stick to that style consistently.\n",
    "\n",
    "5. **Use Meaningful Names:** Choose variable names that are meaningful and self-explanatory. This helps improve code readability and understanding. For example: `num_students` or `average_grade`\n",
    "\n",
    "6. **Avoid Single Letters (unless appropriate)**\n",
    "\n",
    "7. Never start a variable name with numbers. e.g.: `123_number` is not valid"
   ]
  },
  {
   "cell_type": "markdown",
   "metadata": {},
   "source": [
    "### 1.1.2. Floating-point (float)\n",
    "\n",
    "Represents decimal numbers, such as `3.14`, `-2.5`, or `0.0`."
   ]
  },
  {
   "cell_type": "code",
   "execution_count": null,
   "metadata": {},
   "outputs": [],
   "source": [
    "float_number1 = 3.14\n",
    "float_number2 = 2e-3  # equivalent to 0.002\n",
    "\n",
    "print(float_number1, float_number2)"
   ]
  },
  {
   "cell_type": "markdown",
   "metadata": {},
   "source": [
    "### 1.1.3. Complex (complex)\n",
    "\n",
    "Represents numbers in the form of `a + bj`, where `a` and `b` are floats and `j` is the imaginary unit."
   ]
  },
  {
   "cell_type": "code",
   "execution_count": null,
   "metadata": {},
   "outputs": [],
   "source": [
    "complex_number1 = 2 + 3j\n",
    "complex_number2 = complex(2, 3)  # another way to create complex numbers\n",
    "\n",
    "print(complex_number1, complex_number2)"
   ]
  },
  {
   "cell_type": "markdown",
   "metadata": {},
   "source": [
    "## 1.2. Arithmetic operations\n",
    "\n",
    "Python supports various arithmetic operations on numeric data types, including addition, subtraction, multiplication, division, and more."
   ]
  },
  {
   "cell_type": "code",
   "execution_count": null,
   "metadata": {},
   "outputs": [],
   "source": [
    "# create two variables with integer data type (it can also be float or complex)\n",
    "first_number = 10\n",
    "second_number = 27\n",
    "\n",
    "# 1. addition\n",
    "# will add values contained in both variables and affect the result to `add_numbers`\n",
    "add_numbers = first_number + second_number\n",
    "print(add_numbers)  # output: 37\n",
    "\n",
    "# 2. subtraction\n",
    "sub_numbers = first_number - second_number  # output: -17 (int)\n",
    "print(sub_numbers)\n",
    "\n",
    "# 3. multiplication\n",
    "mul_numbers = first_number * second_number  # output: 270 (int)\n",
    "print(mul_numbers)\n",
    "\n",
    "# 4. division\n",
    "div_numbers = second_number / first_number  # output: 2.7 (float)\n",
    "print(div_numbers)\n",
    "\n",
    "# 5. integer division\n",
    "int_div_numbers = second_number // first_number  # output: 2 (int)\n",
    "print(int_div_numbers)\n",
    "\n",
    "# 6. modulo (remainder of integer division)\n",
    "mod_numbers = second_number % first_number  # output: 7 (int)\n",
    "print(mod_numbers)\n",
    "\n",
    "# 7. exponentiation\n",
    "first_number, second_number = 2, 3\n",
    "exp_numbers = second_number ** first_number  # output: 3^2 = 9 (int)\n",
    "print(exp_numbers)"
   ]
  },
  {
   "cell_type": "markdown",
   "metadata": {},
   "source": [
    "## 1.3. Numeric functions\n",
    "\n",
    "Python provides built-in `functions` to perform operations and manipulate numeric data.\n",
    "\n",
    "In Python, `functions` are blocks of reusable code that perform specific tasks. They allow you to organize your code into modular pieces, making it more manageable, readable, and reusable.\n",
    "\n",
    "**We'll look at Python functions in detail later.**\n",
    "\n",
    "Common Numeric functions:\n",
    "\n",
    "* `abs():` Returns the absolute (positive) value of a number.\n",
    "* `max():` Returns the largest number from a sequence of numbers.\n",
    "* `min():` Returns the smallest number from a sequence of numbers.\n",
    "* `round():` Rounds a number to a specified number of decimal places.\n"
   ]
  },
  {
   "cell_type": "code",
   "execution_count": null,
   "metadata": {},
   "outputs": [],
   "source": [
    "# create two variables with float type\n",
    "float_number1 = -12.724\n",
    "float_number2 = 30.578\n",
    "\n",
    "# 1. abs: absolute value\n",
    "abs_number1 = abs(float_number1)\n",
    "print(abs_number1)  # output: 12.724 (float)\n",
    "\n",
    "# 2. max: maximum between a sequence of numbers\n",
    "max_number = max(float_number1, float_number2)\n",
    "print(max_number)  # output: 30.578 (float)\n",
    "\n",
    "# 3. min: minimum between a sequence of numbers\n",
    "min_number = min(float_number1, float_number2)\n",
    "print(min_number)  # output: -12.724 (float)\n",
    "\n",
    "# 4. round:\n",
    "round_number = round(float_number2, 2)  # 2 is the number of decimals to return\n",
    "print(round_number)  # output: 30.58 (float)"
   ]
  },
  {
   "cell_type": "markdown",
   "metadata": {},
   "source": [
    "## 1.4. Casting\n",
    "\n",
    "Cast from a data structure to another. For example, we can convert a float number into an integer and vice-versa: this is called `casting` a value."
   ]
  },
  {
   "cell_type": "code",
   "execution_count": null,
   "metadata": {},
   "outputs": [],
   "source": [
    "# create a variable with float type and another with integer type\n",
    "float_number = 10.8\n",
    "int_number = 15\n",
    "\n",
    "# 1. cast float to int\n",
    "float_to_int_number = int(float_number)\n",
    "print(float_to_int_number)  # output: 10 (int)\n",
    "\n",
    "# 2. cast int to float\n",
    "int_to_float_number = float(int_number)\n",
    "print(int_to_float_number)  # output: 15.0 (float)\n",
    "\n",
    "# 3. cast float to complex\n",
    "float_to_complex_number = complex(float_number)\n",
    "print(float_to_complex_number)  # output: 10.8 + 0j (complex)"
   ]
  },
  {
   "cell_type": "markdown",
   "metadata": {},
   "source": [
    "# 2. Boolean Data\n",
    "\n",
    "Represents either `True` or `False`, used for logical operations and conditions. Booleans are used to evaluate conditions and control the flow of a program."
   ]
  },
  {
   "cell_type": "markdown",
   "metadata": {},
   "source": [
    "## 2.1. True or False"
   ]
  },
  {
   "cell_type": "code",
   "execution_count": null,
   "metadata": {},
   "outputs": [],
   "source": [
    "# create two boolean data structures: True and False\n",
    "true_value = True\n",
    "false_value = False\n",
    "\n",
    "# print\n",
    "print(true_value, false_value)"
   ]
  },
  {
   "cell_type": "markdown",
   "metadata": {},
   "source": [
    "## 2.2. Comparison Operators\n",
    "\n",
    "Python provides several comparison operators that return `boolean` values (`True` or `False`) based on the comparison between two or more values.\n",
    "\n",
    "Common Comparison Operators:\n",
    "\n",
    "* `==` Equal to\n",
    "* `!=` Not equal to\n",
    "* `<` Less than\n",
    "* `>` Greater than\n",
    "* `<=` Less than or equal to\n",
    "* `>=` Greater than or equal to\n"
   ]
  },
  {
   "cell_type": "code",
   "execution_count": null,
   "metadata": {},
   "outputs": [],
   "source": [
    "# create two integer variables (it can also be float or complex)\n",
    "integer_1st = 10\n",
    "integer_2nd = 15\n",
    "\n",
    "# 1. check if both are equal\n",
    "# this `integer_1st == integer_2nd` will be evaluated first\n",
    "# the output is False. The output will then be affected to `are_equal`\n",
    "are_equal = integer_1st == integer_2nd  # output: False\n",
    "print(are_equal)\n",
    "\n",
    "# 2. check if both are not equal\n",
    "are_not_equal = integer_1st != integer_2nd  # output: True\n",
    "print(are_not_equal)\n",
    "\n",
    "# 3. check if 1st is less than 2nd\n",
    "less_than = integer_1st < integer_2nd  # output: True\n",
    "print(less_than)\n",
    "\n",
    "# 4. check if 1st is greater than 2nd\n",
    "greater_than = integer_1st > integer_2nd  # output: False\n",
    "print(greater_than)\n",
    "\n",
    "# 5. check if 1st is less than or equal to 2nd\n",
    "less_than_or_equal = integer_1st <= integer_2nd  # output: True\n",
    "print(less_than_or_equal)\n",
    "\n",
    "# 6. check if 1st is greater than or equal to 2nd\n",
    "greater_than_or_equal = integer_1st >= integer_2nd  # output: False\n",
    "print(greater_than_or_equal)\n"
   ]
  },
  {
   "cell_type": "markdown",
   "metadata": {},
   "source": [
    "## 2.3. Logical Operators\n",
    "\n",
    "Logical operators are used to combine boolean values and perform logical operations.\n",
    "\n",
    "Common Logical Operators:\n",
    "\n",
    "* `and:` Returns True if both operands are True.\n",
    "* `or:` Returns True if at least one operand is True.\n",
    "* `not:` Returns the opposite boolean value of the operand."
   ]
  },
  {
   "cell_type": "code",
   "execution_count": null,
   "metadata": {},
   "outputs": [],
   "source": [
    "# create three integer variables (it can also be float or complex)\n",
    "integer_1st, integer_2nd, integer_3rd = 10, 15, 20\n",
    "\n",
    "# check if 1st less than 2nd AND greater than or equal to 3rd\n",
    "# output: False because for `condition1 and condition2` to be True\n",
    "# condition1 must be True and condition2 must also be True\n",
    "condition_1 = integer_1st < integer_2nd and integer_1st >= integer_3rd # output: False\n",
    "print(condition_1)\n",
    "\n",
    "# check if 1st less than 2nd OR greater than or equal to 3rd\n",
    "# output: True because for `condition1 or condition2` to be True\n",
    "# it is sufficient for one of the two conditions to be true\n",
    "condition_2 = integer_1st < integer_2nd or integer_1st >= integer_3rd # output: False\n",
    "print(condition_2)\n",
    "\n",
    "# check if 1st is not greater than 3rd\n",
    "# `integer_1st > integer_3rd` is False\n",
    "# so, not `integer_1st > integer_3rd` is True\n",
    "condition_3 = not integer_1st > integer_3rd  # output: True\n",
    "print(condition_3)"
   ]
  },
  {
   "cell_type": "markdown",
   "metadata": {},
   "source": [
    "## 2.4. Conditional Statements\n",
    "\n",
    "Conditional statements allow you to control the flow of your program based on certain conditions.\n",
    "\n",
    "**They use boolean values to determine which block of code to execute.**\n",
    "\n",
    "`if statement`: Executes a block of code if a condition is True."
   ]
  },
  {
   "cell_type": "code",
   "execution_count": null,
   "metadata": {},
   "outputs": [],
   "source": [
    "# create an integer variable (it can also be float or complex)\n",
    "integer_number = 10\n",
    "\n",
    "# print its value if it is greater than 5\n",
    "if integer_number > 5:\n",
    "    print(integer_number)"
   ]
  },
  {
   "cell_type": "markdown",
   "metadata": {},
   "source": [
    "`if-else statement`: Executes one block of code if a condition is True and another block of code if the condition is False."
   ]
  },
  {
   "cell_type": "code",
   "execution_count": null,
   "metadata": {},
   "outputs": [],
   "source": [
    "# create an integer variable (it can also be float or complex)\n",
    "integer_number = 3\n",
    "\n",
    "# print its value if it is greater than 5\n",
    "if integer_number > 5:\n",
    "    print(integer_number)\n",
    "# if it is less or equal to 5, do nothing (pass)\n",
    "else:\n",
    "    pass"
   ]
  },
  {
   "cell_type": "markdown",
   "metadata": {},
   "source": [
    "`if-elif-else statement`: Executes different blocks of code based on multiple conditions."
   ]
  },
  {
   "cell_type": "code",
   "execution_count": null,
   "metadata": {},
   "outputs": [],
   "source": [
    "# create an integer variable (it can also be float or complex)\n",
    "integer_number = 7\n",
    "\n",
    "# print its value if it is greater than 10\n",
    "if integer_number > 10:\n",
    "    print(integer_number)\n",
    "# if it is less or equal to 10 but greater than 5, print its value + 5\n",
    "elif integer_number <= 10 and integer_number > 5:\n",
    "    print(integer_number + 5)\n",
    "# else, do nothing\n",
    "else:\n",
    "    pass"
   ]
  },
  {
   "cell_type": "markdown",
   "metadata": {},
   "source": [
    "# 3. Text Data\n",
    "\n",
    "Represents a sequence of characters, such as `\"hello\"`, `\"123\"`, or `\"Python\"`"
   ]
  },
  {
   "cell_type": "markdown",
   "metadata": {},
   "source": [
    "## 3.1. String\n",
    "\n",
    "The text or `string` data type represents a sequence of characters enclosed in single quotes (`'`) or double quotes (`\"`). Strings are used to store and manipulate textual data."
   ]
  },
  {
   "cell_type": "code",
   "execution_count": null,
   "metadata": {},
   "outputs": [],
   "source": [
    "# create a string\n",
    "message = \"Hello, world!\"\n",
    "\n",
    "# print it\n",
    "print(message)  # print the content of variable `message`"
   ]
  },
  {
   "cell_type": "markdown",
   "metadata": {},
   "source": [
    "## 3.2. String Operations\n",
    "\n",
    "Python provides several operations and methods for working with strings."
   ]
  },
  {
   "cell_type": "markdown",
   "metadata": {},
   "source": [
    "* `Concatenation`: the `+` operator is used to concatenate (join) two or more strings together."
   ]
  },
  {
   "cell_type": "code",
   "execution_count": null,
   "metadata": {},
   "outputs": [],
   "source": [
    "# create two string variables\n",
    "greeting = \"Hello\"\n",
    "name = \"Alice\"\n",
    "\n",
    "# concatenate the three following strings: greeting, \" \", and name\n",
    "full_message = greeting + \" \" + name\n",
    "\n",
    "# print the result of concatenation\n",
    "print(full_message)  # Output: Hello Alice"
   ]
  },
  {
   "cell_type": "markdown",
   "metadata": {},
   "source": [
    "* `String Length`: the `len()` function returns the length (number of characters) of a string."
   ]
  },
  {
   "cell_type": "code",
   "execution_count": null,
   "metadata": {},
   "outputs": [],
   "source": [
    "# create a variable\n",
    "message = \"Hello !\"\n",
    "\n",
    "# calculate its length (number of characters)\n",
    "length = len(message)\n",
    "\n",
    "# print its length\n",
    "print(length)  # Output: 13\n"
   ]
  },
  {
   "cell_type": "markdown",
   "metadata": {},
   "source": [
    "* `String Indexing`: you can access individual characters within a string using square brackets and indices. The `index` starts from `0` for the first character, `-1` for the last character, and so on."
   ]
  },
  {
   "cell_type": "code",
   "execution_count": null,
   "metadata": {},
   "outputs": [],
   "source": [
    "# create a string\n",
    "message = \"Hello, world!\"\n",
    "\n",
    "# get the 1st character\n",
    "first_char = message[0]\n",
    "\n",
    "# get the 2nd character\n",
    "second_char = message[1]\n",
    "\n",
    "# get the last character\n",
    "last_char = message[-1]\n",
    "\n",
    "# get the penultimate character, i.e. `d`\n",
    "penultimate_char = message[-2]\n",
    "\n",
    "print(first_char)         # Output: H\n",
    "print(second_char)        # Output: e\n",
    "print(last_char)          # Output: !\n",
    "print(penultimate_char)   # Output: d"
   ]
  },
  {
   "cell_type": "markdown",
   "metadata": {},
   "source": [
    "* `String Slicing`: you can extract a portion (substring) of a string using `slicing`. It is done by specifying the `start` and `end` indices separated by a colon (`:`)."
   ]
  },
  {
   "cell_type": "code",
   "execution_count": null,
   "metadata": {},
   "outputs": [],
   "source": [
    "# create a string\n",
    "message = \"Hello, world!\"\n",
    "\n",
    "# get the substring \"llo, wor\"\n",
    "# The 1st 'l' is at index 2, while r is at index 9\n",
    "sub_string = message[2:10]  # 10 because 10 is excluded while 2 is included (always in Python)\n",
    "\n",
    "# print\n",
    "print(sub_string)"
   ]
  },
  {
   "cell_type": "markdown",
   "metadata": {},
   "source": [
    "## 3.3. String Methods\n",
    "\n",
    "Python provides built-in methods to manipulate and transform strings.\n",
    "\n",
    "Let's `my_string` be your string variable. Below are the most used string methods.\n",
    "\n",
    "* `upper()`: transforms all characters in the string into uppercase. e.g., `my_string.upper()`\n",
    "\n",
    "* `lower()`: transforms all characters in the string into lowercase. e.g., `my_string.lower()`\n",
    "\n",
    "* `replace()`: replace a `N` occurences of a substring by the specified one. e.g.,\n",
    "\n",
    "`my_string.replace(substr_to_replace, substr_of_replacement, num_occurence_to_replace)`\n",
    "\n",
    "if `num_occurence_to_replace` is not given, all occurences are replaced.\n",
    "\n",
    "* `split()`: split a string into a sequence of substrings by specifying a `seperator`. e.g., `my_string.split(separator)`\n",
    "\n"
   ]
  },
  {
   "cell_type": "code",
   "execution_count": null,
   "metadata": {},
   "outputs": [],
   "source": [
    "# create a string\n",
    "message = \"Hello, World\"\n",
    "\n",
    "# upper case all char\n",
    "uppercase_message = message.upper()  # output: HELLO, WORLD\n",
    "print(uppercase_message)\n",
    "\n",
    "# lower case all char\n",
    "lowercase_message = message.lower()  # output: hello, world\n",
    "print(lowercase_message)\n",
    "\n",
    "# replace `World` by `Paris`\n",
    "replace_message = message.replace('World', 'Paris')  # output: Hello, Paris\n",
    "print(replace_message)\n",
    "\n",
    "# split using \", \" (comma followd by space) as serator\n",
    "split_message = message.split(\", \")  # output: ['Hello', 'World']\n",
    "print(split_message)"
   ]
  },
  {
   "cell_type": "markdown",
   "metadata": {},
   "source": [
    "## 3.4. String Formatting\n",
    "\n",
    "* String formatting allows you to insert values into a string dynamically. Python provides multiple approaches for string formatting.\n",
    "\n",
    "* The `%` Operator: you can use the % operator to format strings by specifying placeholders and values."
   ]
  },
  {
   "cell_type": "code",
   "execution_count": null,
   "metadata": {},
   "outputs": [],
   "source": [
    "# create two variables, a string and an integer\n",
    "name = \"Alice\"\n",
    "age = 25\n",
    "\n",
    "# create a string that link both\n",
    "# %s: for string, %d: for int\n",
    "message = \"My name is %s and I am %d years old.\" % (name, age)\n",
    "\n",
    "# print\n",
    "print(message)  # Output: My name is Alice and I am 25 years old."
   ]
  },
  {
   "cell_type": "markdown",
   "metadata": {},
   "source": [
    "* `f-strings` (Formatted String Literals): Introduced in Python 3.6, f-strings provide a concise and readable way to format strings by embedding expressions inside curly braces `{}`."
   ]
  },
  {
   "cell_type": "code",
   "execution_count": null,
   "metadata": {},
   "outputs": [],
   "source": [
    "# create two variables, a string and an integer\n",
    "name = \"Alice\"\n",
    "age = 25\n",
    "\n",
    "# create a string that link both\n",
    "# %s: for string, %d: for int\n",
    "message = f\"My name is {name} and I am {age} years old.\"\n",
    "\n",
    "# print\n",
    "print(message)  # Output: My name is Alice and I am 25 years old."
   ]
  },
  {
   "cell_type": "markdown",
   "metadata": {},
   "source": [
    "## 3.5. Concatenate string and numbers\n",
    "\n",
    "This is not possible unless you first convert (`cast`) the number to a string."
   ]
  },
  {
   "cell_type": "code",
   "execution_count": 68,
   "metadata": {},
   "outputs": [
    {
     "name": "stdout",
     "output_type": "stream",
     "text": [
      "Alice 25\n"
     ]
    }
   ],
   "source": [
    "# create a string and an integer\n",
    "name = 'Alice '\n",
    "age = 25\n",
    "\n",
    "# concatenate both\n",
    "# message = name + age  # ERROR: because we cannot concatenate string with another data structure\n",
    "\n",
    "# this first cast age to string, then concatenate and finally affect the result to `message`\n",
    "message = name + str(age)  \n",
    "\n",
    "# print\n",
    "print(message)"
   ]
  },
  {
   "cell_type": "markdown",
   "metadata": {},
   "source": [
    "# 4. None Data\n",
    "\n",
    "Represents the absence of a value or null `(None)`.\n",
    "\n",
    "It is often used to signify that a variable or expression has no assigned value.\n"
   ]
  },
  {
   "cell_type": "code",
   "execution_count": 69,
   "metadata": {},
   "outputs": [
    {
     "name": "stdout",
     "output_type": "stream",
     "text": [
      "None\n"
     ]
    }
   ],
   "source": [
    "# create a variable wihn no assigned value\n",
    "result = None\n",
    "\n",
    "# print\n",
    "print(result)  # output: None"
   ]
  },
  {
   "cell_type": "markdown",
   "metadata": {},
   "source": [
    "* `if` statement with `None` data structure"
   ]
  },
  {
   "cell_type": "code",
   "execution_count": 70,
   "metadata": {},
   "outputs": [
    {
     "name": "stdout",
     "output_type": "stream",
     "text": [
      "Result is None\n"
     ]
    }
   ],
   "source": [
    "# create a variable wihn no assigned value\n",
    "result = None\n",
    "\n",
    "# if result is not None print its value\n",
    "# otherwise, print 'result is None'\n",
    "if result is not None:  # you see, it is very beautiful and understandable\n",
    "    print(result)\n",
    "else:\n",
    "    print('Result is None')"
   ]
  }
 ],
 "metadata": {
  "kernelspec": {
   "display_name": "Python 3",
   "language": "python",
   "name": "python3"
  },
  "language_info": {
   "codemirror_mode": {
    "name": "ipython",
    "version": 3
   },
   "file_extension": ".py",
   "mimetype": "text/x-python",
   "name": "python",
   "nbconvert_exporter": "python",
   "pygments_lexer": "ipython3",
   "version": "3.12.1"
  }
 },
 "nbformat": 4,
 "nbformat_minor": 2
}

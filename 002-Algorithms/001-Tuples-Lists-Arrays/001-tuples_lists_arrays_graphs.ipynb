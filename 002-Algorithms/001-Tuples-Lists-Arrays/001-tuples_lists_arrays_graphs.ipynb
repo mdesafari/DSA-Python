{
 "cells": [
  {
   "cell_type": "markdown",
   "metadata": {},
   "source": [
    "# **Algorithms associated with tuples, lists and arrays**\n"
   ]
  },
  {
   "cell_type": "markdown",
   "metadata": {},
   "source": [
    "## **1. Linear Search**\n",
    "\n",
    "* **Definition**\n",
    "\n",
    "Linear Search is a simple algorithm used to find a target value within a list or array by sequentially checking each element until a match is found or the end of the list is reached.\n",
    "\n",
    "* **Implementation**\n",
    "\n",
    "To implement Linear Search, we'll define a function that takes a list and a target value as parameters. The function will iterate through each element in the list and return the index if a match is found, or -1 if the target value is not present."
   ]
  },
  {
   "cell_type": "code",
   "execution_count": null,
   "metadata": {},
   "outputs": [],
   "source": [
    "def linear_search(sequence, target):\n",
    "    \"\"\"\n",
    "    params:\n",
    "        sequence: a tuple, a list or an array in which the search will be done\n",
    "        target: data to search in the sequence\n",
    "    \"\"\"\n",
    "\n",
    "    # size of sequence\n",
    "    size = len(sequence)\n",
    "\n",
    "    # loop to find the target\n",
    "    for i in range(size):\n",
    "        if sequence[i] == target:\n",
    "            return i\n",
    "    \n",
    "    # if target is not found, return -1\n",
    "    return -1"
   ]
  },
  {
   "cell_type": "markdown",
   "metadata": {},
   "source": [
    "* **Test the Linear Search Algorithm**\n",
    "\n"
   ]
  },
  {
   "cell_type": "code",
   "execution_count": null,
   "metadata": {},
   "outputs": [],
   "source": [
    "# import numpy\n",
    "import numpy as np"
   ]
  },
  {
   "cell_type": "code",
   "execution_count": null,
   "metadata": {},
   "outputs": [],
   "source": [
    "# create a tuple, a list and an array\n",
    "tuple_test = (1, 10, 15, 3, 8)\n",
    "list_test = list(tuple_test)\n",
    "arr_test = np.array(tuple_test)\n",
    "\n",
    "# search for 15\n",
    "target = 15\n",
    "result_tuple = linear_search(tuple_test, target=target)\n",
    "result_list = linear_search(list_test, target=target)\n",
    "result_arr = linear_search(arr_test, target=target)\n",
    "\n",
    "print(f'Results - Tuple: {result_tuple}, List: {result_list}, Array: {result_arr}\\n')\n",
    "\n",
    "# search for -3\n",
    "target = -3\n",
    "result_tuple = linear_search(tuple_test, target=target)\n",
    "result_list = linear_search(list_test, target=target)\n",
    "result_arr = linear_search(arr_test, target=target)\n",
    "\n",
    "print(f'Results - Tuple: {result_tuple}, List: {result_list}, Array: {result_arr}\\n')"
   ]
  },
  {
   "cell_type": "markdown",
   "metadata": {},
   "source": [
    "* **Temporal complexity of Linear Search Algorithm**\n",
    "\n",
    "In the worst case, we have to go through the whole sequence before finding the target. If the initial size is $n$, we need $n$ times the access time to an element in the case. This time evolves linearly with the size of the sequence. So, as the size of the sequence tends towards infinity, the time needed to find the target increases towards infinity and linearly with size. Thus, the time complexity is $O(n)$."
   ]
  },
  {
   "cell_type": "markdown",
   "metadata": {},
   "source": [
    "## **2. Binary Search**\n",
    "\n",
    "`Binary Search` is an efficient algorithm used to search for a target value within a `sorted` list, tuple or array. It follows a `divide-and-conquer` approach by **repeatedly dividing the search space in half** until the target value is found or deemed not present."
   ]
  },
  {
   "cell_type": "markdown",
   "metadata": {},
   "source": [
    "### **2.1. Implementation**\n",
    "\n",
    "* **Method 1: no use of recursion**"
   ]
  },
  {
   "cell_type": "code",
   "execution_count": null,
   "metadata": {},
   "outputs": [],
   "source": [
    "def binary_search_no_recursion(sorted_sequence, target):\n",
    "    # we assume that sorted_sequence is sorted in ascending order\n",
    "    # 1. sequence size\n",
    "    size = len(sorted_sequence)\n",
    "\n",
    "    # 2. left and right indexes\n",
    "    idx_left, idx_right = 0, size - 1\n",
    "\n",
    "    # 3. while loop\n",
    "    while idx_left <= idx_right:\n",
    "        # compute the index of the middle element\n",
    "        idx_middle = (idx_left + idx_right) // 2  # integer division\n",
    "\n",
    "        # compare the middle element with target\n",
    "        if sorted_sequence[idx_middle] == target:\n",
    "            return idx_middle  # meaning the target is located at index = idx_middle\n",
    "        else:\n",
    "            if sorted_sequence[idx_middle] < target:\n",
    "                # means that target is at the right-side of the sequence\n",
    "                # so, reduce the search space to the right-side by sliding idx_left to idx_middle + 1\n",
    "                idx_left = idx_middle + 1\n",
    "            else:\n",
    "                # means that target is at the left-side of the sequence\n",
    "                # so, reduce the search space to the left-side by sliding idx_right to idx_middle - 1\n",
    "                idx_right = idx_middle - 1\n",
    "    \n",
    "    # 4. if we are here, it means that we did not found the target in the sequence\n",
    "    return -1\n"
   ]
  },
  {
   "cell_type": "code",
   "execution_count": null,
   "metadata": {},
   "outputs": [],
   "source": [
    "# create a sorted (asc) tuple, a list and an array\n",
    "tuple_test = (1, 3, 8, 10, 15)\n",
    "list_test = list(tuple_test)\n",
    "arr_test = np.array(tuple_test)\n",
    "\n",
    "# search for 10\n",
    "target = 10\n",
    "result_tuple = binary_search_no_recursion(tuple_test, target=target)\n",
    "result_list = binary_search_no_recursion(list_test, target=target)\n",
    "result_arr = binary_search_no_recursion(arr_test, target=target)\n",
    "\n",
    "print(f'Results - Tuple: {result_tuple}, List: {result_list}, Array: {result_arr}\\n')\n",
    "\n",
    "# search for -3\n",
    "target = -3\n",
    "result_tuple = binary_search_no_recursion(tuple_test, target=target)\n",
    "result_list = binary_search_no_recursion(list_test, target=target)\n",
    "result_arr = binary_search_no_recursion(arr_test, target=target)\n",
    "\n",
    "print(f'Results - Tuple: {result_tuple}, List: {result_list}, Array: {result_arr}\\n')"
   ]
  },
  {
   "cell_type": "markdown",
   "metadata": {},
   "source": [
    "* **Method 2: using recursion**"
   ]
  },
  {
   "cell_type": "code",
   "execution_count": null,
   "metadata": {},
   "outputs": [],
   "source": [
    "def binary_search_recursion(sorted_sequence, target, idx_left=None, idx_right=None):\n",
    "    # if idx_left or idx_right are not given\n",
    "    if idx_left is None:\n",
    "        idx_left = 0\n",
    "\n",
    "    if idx_right is None:\n",
    "        idx_right = len(sorted_sequence) - 1\n",
    "\n",
    "    # core of the algorithm\n",
    "    if idx_left <= idx_right:\n",
    "        idx_middle = (idx_left + idx_right) // 2\n",
    "\n",
    "        if sorted_sequence[idx_middle] == target:\n",
    "            return idx_middle\n",
    "        \n",
    "        elif sorted_sequence[idx_middle] < target:\n",
    "            return binary_search_recursion(sorted_sequence, target, idx_middle + 1, idx_right)\n",
    "        \n",
    "        else:\n",
    "            return binary_search_recursion(sorted_sequence, target, idx_left, idx_middle - 1)\n",
    "    else:\n",
    "        return -1\n"
   ]
  },
  {
   "cell_type": "code",
   "execution_count": null,
   "metadata": {},
   "outputs": [],
   "source": [
    "# create a sorted (asc) tuple, a list and an array\n",
    "tuple_test = (1, 3, 8, 10, 15)\n",
    "list_test = list(tuple_test)\n",
    "arr_test = np.array(tuple_test)\n",
    "\n",
    "# search for 10\n",
    "target = 10\n",
    "result_tuple = binary_search_recursion(tuple_test, target=target)\n",
    "result_list = binary_search_recursion(list_test, target=target)\n",
    "result_arr = binary_search_recursion(arr_test, target=target)\n",
    "\n",
    "print(f'Results - Tuple: {result_tuple}, List: {result_list}, Array: {result_arr}\\n')\n",
    "\n",
    "# search for -3\n",
    "target = -3\n",
    "result_tuple = binary_search_recursion(tuple_test, target=target)\n",
    "result_list = binary_search_recursion(list_test, target=target)\n",
    "result_arr = binary_search_recursion(arr_test, target=target)\n",
    "\n",
    "print(f'Results - Tuple: {result_tuple}, List: {result_list}, Array: {result_arr}\\n')"
   ]
  },
  {
   "cell_type": "markdown",
   "metadata": {},
   "source": [
    "### **2.2. Time complexity of Binary Search Algorithm**\n",
    "\n",
    "Suppose we have a sequence of $n$ elements and we want to find `target`. In step 1, we check whether the middle element of the sequence is equal to `target`; if not, we halve the sequence and continue the search in the appropriate subsequence whose size is now globally equal to $n/2$. We repeat the process $k$ times in the worst case before finding `target` or not. At each stage, we access only one element of the sequence (the middle one). So, the number of times we access the sequence (let's note $k$) corresponds to the number of times we need to divide the sequence by 2 to find `target`.\n",
    "\n",
    "$k$ is linked to the size $n$ of the sequence by the following relationship: $n = 2^k$. You can obtain this relationship by making a binary tree. For example, if the sequence size is $16$, the 1st division gives $(8, 8)$ as the subsequence size, and we keep only one subsequence. The 2nd division gives $4$, the 3rd $2$ and the 4th $1$. So, for $n = 16$, we have $4$ divisions, i.e. $16 = 2^4$. If we repeat the operation with $n = 32$, we get 5 divisions, i.e. $32 = 2^5$. The same applies to $64$, $128$, ...\n",
    "\n",
    "So, $$n = 2^k$$\n",
    "\n",
    "$$2^k = n$$\n",
    "\n",
    "$$log(2^k) = log(n)$$\n",
    "\n",
    "$$k \\times log(2) = log(n)$$\n",
    "\n",
    "$$k = \\frac{log(n)}{log(2)}$$\n",
    "\n",
    "$$k = log_2(n)$$\n",
    "\n",
    "\n",
    "Thus, the time complexity is $O(log(n))$."
   ]
  },
  {
   "cell_type": "markdown",
   "metadata": {},
   "source": [
    "## **3. Insertion Sort**\n",
    "\n",
    "`Insertion Sort` is a simple sorting algorithm that works by building a sorted portion of the list and repeatedly inserting the next element into its correct position within the sorted portion. This process is repeated until the entire list is sorted."
   ]
  },
  {
   "cell_type": "markdown",
   "metadata": {},
   "source": [
    "### **3.1. Implementation**\n",
    "\n",
    "To implement `Insertion Sort`, we'll define a function that takes `an unsorted list (or tuple, array)` as a parameter. The function will iterate through the list, starting from the second element, and compare it with the elements in the sorted portion. It will then insert the element at the correct position within the sorted portion."
   ]
  },
  {
   "cell_type": "code",
   "execution_count": null,
   "metadata": {},
   "outputs": [],
   "source": [
    "# sort in ascending order\n",
    "def insertion_sort_ascending(sequence):\n",
    "    for i in range(1, len(sequence)):\n",
    "        key = sequence[i]\n",
    "        j = i - 1\n",
    "\n",
    "        while j >= 0 and sequence[j] > key:\n",
    "            sequence[j + 1] = sequence[j]\n",
    "            j -= 1\n",
    "            \n",
    "        sequence[j + 1] = key\n",
    "\n",
    "# sort in descending order\n",
    "def insertion_sort_descending(arr):\n",
    "    for i in range(1, len(arr)):\n",
    "        key = arr[i]\n",
    "        j = i - 1\n",
    "\n",
    "        while j >= 0 and arr[j] < key:\n",
    "            arr[j + 1] = arr[j]\n",
    "            j -= 1\n",
    "            \n",
    "        arr[j + 1] = key"
   ]
  },
  {
   "cell_type": "code",
   "execution_count": null,
   "metadata": {},
   "outputs": [],
   "source": [
    "# create a list\n",
    "list_test = [9, 5, 7, 1, 4, 3]\n",
    "\n",
    "# sort by the insertion sort technique in ascending order\n",
    "insertion_sort_ascending(list_test)\n",
    "\n",
    "# print the sorted list\n",
    "print(list_test)  # output: [1, 3, 4, 5, 7, 9]\n",
    "\n",
    "# sort by the insertion sort technique in descending order\n",
    "insertion_sort_descending(list_test)\n",
    "\n",
    "# print the sorted list\n",
    "print(list_test)  # output: [9, 7, 5, 4, 3, 1]"
   ]
  },
  {
   "cell_type": "markdown",
   "metadata": {},
   "source": [
    "### **3.2. Time complexity of Insertion sort Algorithm**\n",
    "\n",
    "In this algorithm, we have two nested loops: a for loop in which we have a while loop.In the worst-case scenario, for each value taken by $i$ (for loop), we go through the list about $n$ times in the while loop.\n",
    "\n",
    "If $n$ is the size of the list, then the number of accesses is $n \\times n = n^2$.So, for $n$ tending towards infinity, the number of accesses evolves quadratically ($n^2$) with respect to the size $n$.\n",
    "\n",
    "Time complexity is therefore $O(n^2)$."
   ]
  },
  {
   "cell_type": "markdown",
   "metadata": {},
   "source": [
    "## **4. Selection Sort**\n",
    "\n",
    "`Selection Sort` is a simple sorting algorithm that works by repeatedly finding the minimum element from the unsorted portion of the list and swapping it with the first unsorted element. This process is repeated until the entire list is sorted."
   ]
  },
  {
   "cell_type": "markdown",
   "metadata": {},
   "source": [
    "### **4.1. Implementation**\n",
    "\n",
    "To implement `Selection Sort`, we'll define a function that takes an unsorted list as a parameter. The function will iterate through the list, finding the minimum element in each iteration, and swapping it with the first unsorted element."
   ]
  },
  {
   "cell_type": "code",
   "execution_count": null,
   "metadata": {},
   "outputs": [],
   "source": [
    "def selection_sort_ascending(sequence):\n",
    "    for i in range(len(sequence)):\n",
    "        min_index = i\n",
    "\n",
    "        for j in range(i + 1, len(sequence)):\n",
    "            if sequence[j] < sequence[min_index]:\n",
    "                min_index = j\n",
    "\n",
    "        sequence[i], sequence[min_index] = sequence[min_index], sequence[i]\n",
    "\n",
    "\n",
    "def selection_sort_descending(sequence):\n",
    "    for i in range(len(sequence)):\n",
    "        max_index = i\n",
    "\n",
    "        for j in range(i + 1, len(sequence)):\n",
    "            if sequence[j] > sequence[max_index]:  # > (descending) instead of < (ascending)\n",
    "                max_index = j\n",
    "\n",
    "        sequence[i], sequence[max_index] = sequence[max_index], sequence[i]"
   ]
  },
  {
   "cell_type": "code",
   "execution_count": null,
   "metadata": {},
   "outputs": [],
   "source": [
    "# create a list\n",
    "list_test = [9, 5, 7, 1, 4, 3]\n",
    "\n",
    "# sort by the selection sort technique in ascending order\n",
    "selection_sort_ascending(list_test)\n",
    "\n",
    "# print the sorted list\n",
    "print(list_test)  # output: [1, 3, 4, 5, 7, 9]\n",
    "\n",
    "# sort by the selection sort technique in descending order\n",
    "selection_sort_descending(list_test)\n",
    "\n",
    "# print the sorted list\n",
    "print(list_test)  # output: [9, 7, 5, 4, 3, 1]"
   ]
  },
  {
   "cell_type": "markdown",
   "metadata": {},
   "source": [
    "### **4.2. Time complexity of Selection Sort Algorithm**\n",
    "\n",
    "Following the reasoning in `section 3.2`, the time complexity is $O(n^2)$.\n",
    "\n",
    "In fact, in the worst case, Selection Sort performs $n-1$ comparisons in the first iteration, $n-2$ comparisons in the second iteration, and so on, until only one element remains. This results in a total of $(n-1) + (n-2) + ... + 2 + 1 = n(n-1)/2$ comparisons, which is equivalent to $(n^2 - n)/2$. And $O((n^2 - n)/2) = O(n^2) - O(n)=O(n^2)$ because $O(n^2) >> O(n)$ for $n \\rightarrow \\infty$."
   ]
  },
  {
   "cell_type": "markdown",
   "metadata": {},
   "source": [
    "## **5. Bubble Sort**\n",
    "\n",
    "Bubble Sort is a simple sorting algorithm that repeatedly steps through the list, compares adjacent elements, and swaps them if they are in the wrong order. This process is repeated until the entire list is sorted."
   ]
  },
  {
   "cell_type": "markdown",
   "metadata": {},
   "source": [
    "### **5.1. Implementation**\n",
    "\n",
    "To implement Bubble Sort, we'll define a function that takes an unsorted list as a parameter. The function will iterate through the list multiple times, comparing adjacent elements and swapping them if necessary."
   ]
  },
  {
   "cell_type": "code",
   "execution_count": null,
   "metadata": {},
   "outputs": [],
   "source": [
    "def bubble_sort_ascending(sequence):  # time complexity: O(n^2)\n",
    "    # compute the length of the sequence\n",
    "    size = len(sequence)\n",
    "\n",
    "    for i in range(size - 1):\n",
    "        for j in range(size - 1 - i):\n",
    "            if sequence[j] > sequence[j + 1]:\n",
    "                sequence[j], sequence[j + 1] = sequence[j + 1], sequence[j]  # permutation\n",
    "\n",
    "\n",
    "def bubble_sort_asc_optimized(sequence):  # time complexity: O(n^2) but O(n) if the sequence was already sorted\n",
    "    \"\"\"\n",
    "    Bubble Sort can be optimized by introducing a flag that keeps track of whether \n",
    "    any swaps were made in a pass. If no swaps are made, it means the list is already\n",
    "    sorted, and we can terminate the algorithm early.\n",
    "    \"\"\"\n",
    "    # compute the length of the sequence\n",
    "    size = len(sequence)\n",
    "\n",
    "    for i in range(size - 1):\n",
    "        swapped = False\n",
    "\n",
    "        for j in range(size - 1 - i):\n",
    "            if sequence[j] > sequence[j + 1]:\n",
    "                sequence[j], sequence[j + 1] = sequence[j + 1], sequence[j]\n",
    "                swapped = True\n",
    "\n",
    "        if not swapped:\n",
    "            break  # quit the first loop"
   ]
  },
  {
   "cell_type": "code",
   "execution_count": null,
   "metadata": {},
   "outputs": [],
   "source": [
    "# create a list\n",
    "list_test = [9, 5, 7, 1, 4, 3]\n",
    "\n",
    "# sort by the bubble sort technique in ascending order\n",
    "bubble_sort_ascending(list_test)\n",
    "\n",
    "# print the sorted list\n",
    "print(list_test)  # output: [1, 3, 4, 5, 7, 9]\n",
    "\n",
    "# sort by the bubble sort optimized technique\n",
    "bubble_sort_asc_optimized(list_test)\n",
    "\n",
    "# print the sorted list\n",
    "print(list_test)  # output: [9, 7, 5, 4, 3, 1]"
   ]
  },
  {
   "cell_type": "markdown",
   "metadata": {},
   "source": [
    "### **5.2. Time complexity of Bubble Sort Algorithm**\n",
    "\n",
    "The time complexity is $O(n^2)$."
   ]
  },
  {
   "cell_type": "markdown",
   "metadata": {},
   "source": [
    "## **6. Merge Sort**\n",
    "\n",
    "Merge Sort is a divide-and-conquer algorithm that works by recursively dividing the list into sublists, sorting them, and then merging them back together to obtain a sorted list."
   ]
  },
  {
   "cell_type": "markdown",
   "metadata": {},
   "source": [
    "### **6.1. Implementation**\n",
    "\n",
    "To implement Merge Sort, we'll define a function that takes an unsorted list as a parameter. The function will recursively divide the list until it reaches the base case of a single element. Then, it will merge the sorted sublists back together."
   ]
  },
  {
   "cell_type": "code",
   "execution_count": null,
   "metadata": {},
   "outputs": [],
   "source": [
    "def merge_sort(sequence):\n",
    "    # stopping condition:\n",
    "    # if empty or containing only one elem it is already sorted\n",
    "    if len(sequence) <= 1:\n",
    "        return sequence\n",
    "    \n",
    "    # otherwise, divide\n",
    "    idx_mid = len(sequence) // 2\n",
    "    left_seq = sequence[:idx_mid]\n",
    "    right_seq = sequence[idx_mid:]\n",
    "\n",
    "    # then solve the problem for each half recursively\n",
    "    left_sorted = merge_sort(left_seq)\n",
    "    right_sorted = merge_sort(right_seq)\n",
    "\n",
    "    # finally, combine the results of the two halves\n",
    "    sorted_nums = merge(left_sorted, right_sorted)\n",
    "\n",
    "    return sorted_nums\n",
    "\n",
    "\n",
    "def merge(left, right):\n",
    "    # here, left and right can be indivisible lists\n",
    "    # as well as sorted sub-lists\n",
    "    \n",
    "    # 1. list to store the results\n",
    "    merged = []\n",
    "\n",
    "    # 2. indices for iteration\n",
    "    i, j = 0, 0\n",
    "\n",
    "    # 3. loop over the two lists\n",
    "    while i < len(left) and j < len(right):\n",
    "        # include the smaller elem in the result and move to next elem\n",
    "        if left[i] <= right[j]:\n",
    "            merged.append(left[i])\n",
    "            i += 1\n",
    "        else:\n",
    "            merged.append(right[j])\n",
    "            j += 1\n",
    "    \n",
    "    # 4. get the remaining parts\n",
    "    left_tail = left[i:]\n",
    "    right_tail = right[j:]\n",
    "\n",
    "    # 5. merge all\n",
    "    merged = merged + left_tail + right_tail\n",
    "    return merged"
   ]
  },
  {
   "cell_type": "code",
   "execution_count": null,
   "metadata": {},
   "outputs": [],
   "source": [
    "# create a list\n",
    "list_test = [9, 5, 7, 1, 4, 3]\n",
    "\n",
    "# sort by the merge sort technique in ascending order\n",
    "sorted_list = merge_sort(list_test)\n",
    "\n",
    "# print the sorted list\n",
    "print(sorted_list)  # output: [1, 3, 4, 5, 7, 9]"
   ]
  },
  {
   "cell_type": "markdown",
   "metadata": {},
   "source": [
    "### **6.2. Time complexity of Merge Sort Algorithm**\n",
    "\n",
    "\n",
    "As with the binary search, the number of times the list is divided is equal to $k$ (function `merge_sort()`). For each subdivision, we execute the `merge` function, in which, in the worst case, we need to access the `left` list $n/2$ times and the `right` list $n/2$ times. $n/2$ is the approximate size of each of the `left` and `right` lists. So, in the `merge` function, in the worst case, we have $n$ accesses.\n",
    "\n",
    "* **Complexity of the `merge_sort()` function:**\n",
    "\n",
    "The time complexity is $O(log n)$ (as demonstrated in `section 1`).\n",
    "\n",
    "* **Complexity of the `merge()` function:**\n",
    "\n",
    "Time complexity is $O(n)$.\n",
    "\n",
    "\n",
    "* **Complexity of the Merge Sort algorithm:**\n",
    "\n",
    "Time complexity is $O(log \\; n) \\times O(n) = O(n \\; log \\; n)$.\n",
    "\n"
   ]
  },
  {
   "cell_type": "markdown",
   "metadata": {},
   "source": [
    ".\n"
   ]
  }
 ],
 "metadata": {
  "kernelspec": {
   "display_name": "Python 3",
   "language": "python",
   "name": "python3"
  },
  "language_info": {
   "codemirror_mode": {
    "name": "ipython",
    "version": 3
   },
   "file_extension": ".py",
   "mimetype": "text/x-python",
   "name": "python",
   "nbconvert_exporter": "python",
   "pygments_lexer": "ipython3",
   "version": "3.12.1"
  }
 },
 "nbformat": 4,
 "nbformat_minor": 2
}

{
 "cells": [
  {
   "cell_type": "markdown",
   "metadata": {},
   "source": [
    "# **Algorithms associated with Graph Data Structures**"
   ]
  },
  {
   "cell_type": "markdown",
   "metadata": {},
   "source": [
    "## **Two representations for graphs**"
   ]
  },
  {
   "cell_type": "markdown",
   "metadata": {},
   "source": [
    "### **Adjacency List**\n",
    "\n",
    "In the adjacency list representation, we use a dictionary to store the vertices as keys and their corresponding adjacent vertices as values in a list."
   ]
  },
  {
   "cell_type": "code",
   "execution_count": 24,
   "metadata": {},
   "outputs": [],
   "source": [
    "# Adjacency List Representation\n",
    "graph = {\n",
    "    'A': ['B', 'C'],\n",
    "    'B': ['A', 'D', 'E'],\n",
    "    'C': ['A', 'F'],\n",
    "    'D': ['B'],\n",
    "    'E': ['B', 'F'],\n",
    "    'F': ['C', 'E']\n",
    "}"
   ]
  },
  {
   "cell_type": "markdown",
   "metadata": {},
   "source": [
    "### **Adjacency Matrix**\n",
    "\n",
    "In the adjacency matrix representation, we use a 2D matrix to represent the edges between vertices. Each cell (i, j) in the matrix represents an edge between vertex i and vertex j."
   ]
  },
  {
   "cell_type": "code",
   "execution_count": 25,
   "metadata": {},
   "outputs": [],
   "source": [
    "# Adjacency Matrix Representation\n",
    "graph = [\n",
    "    [0, 1, 1, 0, 0, 0],\n",
    "    [1, 0, 0, 1, 1, 0],\n",
    "    [1, 0, 0, 0, 0, 1],\n",
    "    [0, 1, 0, 0, 0, 0],\n",
    "    [0, 1, 0, 0, 0, 1],\n",
    "    [0, 0, 1, 0, 1, 0]\n",
    "]"
   ]
  },
  {
   "cell_type": "markdown",
   "metadata": {},
   "source": [
    "## **1. Create a Graph**"
   ]
  },
  {
   "cell_type": "markdown",
   "metadata": {},
   "source": [
    "### **1.1. Using Adjacency List**"
   ]
  },
  {
   "cell_type": "code",
   "execution_count": 26,
   "metadata": {},
   "outputs": [],
   "source": [
    "def add_edge_list(graph, u, v):\n",
    "    if u not in graph:\n",
    "        graph[u] = []\n",
    "    if v not in graph:\n",
    "        graph[v] = []\n",
    "    graph[u].append(v)\n",
    "    graph[v].append(u)\n"
   ]
  },
  {
   "cell_type": "code",
   "execution_count": 27,
   "metadata": {},
   "outputs": [
    {
     "name": "stdout",
     "output_type": "stream",
     "text": [
      "{'A': ['B', 'C'], 'B': ['A', 'D', 'E'], 'C': ['A', 'F'], 'D': ['B'], 'E': ['B'], 'F': ['C']}\n"
     ]
    }
   ],
   "source": [
    "# Graph using Adjacency List\n",
    "graph_list = {}\n",
    "\n",
    "# Adding edges to the graph\n",
    "add_edge_list(graph_list, 'A', 'B')\n",
    "add_edge_list(graph_list, 'A', 'C')\n",
    "add_edge_list(graph_list, 'B', 'D')\n",
    "add_edge_list(graph_list, 'B', 'E')\n",
    "add_edge_list(graph_list, 'C', 'F')\n",
    "\n",
    "# print\n",
    "print(graph_list)"
   ]
  },
  {
   "cell_type": "markdown",
   "metadata": {},
   "source": [
    "### **1.2. Using Adjacency Matrix**"
   ]
  },
  {
   "cell_type": "code",
   "execution_count": 28,
   "metadata": {},
   "outputs": [
    {
     "name": "stdout",
     "output_type": "stream",
     "text": [
      "Requirement already satisfied: numpy in c:\\users\\learner\\appdata\\local\\programs\\python\\python312\\lib\\site-packages (1.26.4)\n",
      "Note: you may need to restart the kernel to use updated packages.\n"
     ]
    }
   ],
   "source": [
    "%pip install numpy"
   ]
  },
  {
   "cell_type": "code",
   "execution_count": 29,
   "metadata": {},
   "outputs": [],
   "source": [
    "import numpy as np"
   ]
  },
  {
   "cell_type": "code",
   "execution_count": 30,
   "metadata": {},
   "outputs": [],
   "source": [
    "def initialize_matrix(graph, num_vertices):\n",
    "    for _ in range(num_vertices):\n",
    "        graph.append([0] * num_vertices)\n",
    "\n",
    "def add_edge_matrix(graph, u, v):\n",
    "    graph[u][v] = 1\n",
    "    graph[v][u] = 1\n",
    "\n",
    "def print_graph_matrix(graph):\n",
    "    print(np.array(graph))"
   ]
  },
  {
   "cell_type": "code",
   "execution_count": 31,
   "metadata": {},
   "outputs": [
    {
     "name": "stdout",
     "output_type": "stream",
     "text": [
      "[[0 1 1 0 0 0]\n",
      " [1 0 0 1 1 0]\n",
      " [1 0 0 0 0 1]\n",
      " [0 1 0 0 0 0]\n",
      " [0 1 0 0 0 0]\n",
      " [0 0 1 0 0 0]]\n"
     ]
    }
   ],
   "source": [
    "# Graph using Adjacency Matrix\n",
    "graph_matrix = []\n",
    "\n",
    "# Initializing the matrix\n",
    "initialize_matrix(graph_matrix, 6)\n",
    "\n",
    "# Adding edges to the graph\n",
    "add_edge_matrix(graph_matrix, 0, 1)\n",
    "add_edge_matrix(graph_matrix, 0, 2)\n",
    "add_edge_matrix(graph_matrix, 1, 3)\n",
    "add_edge_matrix(graph_matrix, 1, 4)\n",
    "add_edge_matrix(graph_matrix, 2, 5)\n",
    "\n",
    "# print\n",
    "print_graph_matrix(graph_matrix)"
   ]
  },
  {
   "cell_type": "markdown",
   "metadata": {},
   "source": [
    "### **1.2. Time complexity**\n",
    "\n"
   ]
  },
  {
   "cell_type": "markdown",
   "metadata": {},
   "source": [
    "## **2. Depth-First Search (DFS) algorithm**\n",
    "\n",
    "Depth-First Search (DFS) is an algorithm that explores a graph by traversing as far as possible along each branch before backtracking."
   ]
  },
  {
   "cell_type": "markdown",
   "metadata": {},
   "source": [
    "### **2.1. Using Adjancency List**"
   ]
  },
  {
   "cell_type": "code",
   "execution_count": 32,
   "metadata": {},
   "outputs": [],
   "source": [
    "def dfs_adjacency_list(graph, start, visited):\n",
    "    visited.add(start)\n",
    "    print(start, end=\" \")\n",
    "\n",
    "    for neighbor in graph[start]:\n",
    "        if neighbor not in visited:\n",
    "            dfs_adjacency_list(graph, neighbor, visited)"
   ]
  },
  {
   "cell_type": "code",
   "execution_count": 33,
   "metadata": {},
   "outputs": [
    {
     "name": "stdout",
     "output_type": "stream",
     "text": [
      "A B D E C F "
     ]
    }
   ],
   "source": [
    "# usage\n",
    "# Create a graph using Adjacency List\n",
    "graph_list = {}\n",
    "\n",
    "# Adding edges to the graph\n",
    "add_edge_list(graph_list, 'A', 'B')\n",
    "add_edge_list(graph_list, 'A', 'C')\n",
    "add_edge_list(graph_list, 'B', 'D')\n",
    "add_edge_list(graph_list, 'B', 'E')\n",
    "add_edge_list(graph_list, 'C', 'F')\n",
    "\n",
    "visited = set()\n",
    "dfs_adjacency_list(graph_list, 'A', visited)"
   ]
  },
  {
   "cell_type": "markdown",
   "metadata": {},
   "source": [
    "### **2.2. Using Adjancency Matrix**"
   ]
  },
  {
   "cell_type": "code",
   "execution_count": 34,
   "metadata": {},
   "outputs": [],
   "source": [
    "def dfs_adjacency_matrix(graph, start, visited):\n",
    "    visited.add(start)\n",
    "    print(start, end=\" \")\n",
    "\n",
    "    for neighbor in range(len(graph[start])):\n",
    "        if graph[start][neighbor] == 1 and neighbor not in visited:\n",
    "            dfs_adjacency_matrix(graph, neighbor, visited)\n"
   ]
  },
  {
   "cell_type": "code",
   "execution_count": 35,
   "metadata": {},
   "outputs": [
    {
     "name": "stdout",
     "output_type": "stream",
     "text": [
      "0 1 3 4 2 5 "
     ]
    }
   ],
   "source": [
    "# Usage\n",
    "# Create a graph using Adjacency Matrix\n",
    "graph_matrix = []\n",
    "\n",
    "# Initializing the matrix\n",
    "initialize_matrix(graph_matrix, 6)\n",
    "\n",
    "# Adding edges to the graph\n",
    "add_edge_matrix(graph_matrix, 0, 1)\n",
    "add_edge_matrix(graph_matrix, 0, 2)\n",
    "add_edge_matrix(graph_matrix, 1, 3)\n",
    "add_edge_matrix(graph_matrix, 1, 4)\n",
    "add_edge_matrix(graph_matrix, 2, 5)\n",
    "\n",
    "visited = set()\n",
    "dfs_adjacency_matrix(graph_matrix, 0, visited)"
   ]
  },
  {
   "cell_type": "markdown",
   "metadata": {},
   "source": [
    "## **3. Breadth-First Search (BFS) algorithm**\n",
    "\n",
    "Breadth-First Search (BFS) is an algorithm that explores a graph by traversing all vertices at the same level before visiting the next level."
   ]
  },
  {
   "cell_type": "markdown",
   "metadata": {},
   "source": [
    "### **3.1. Using Adjancency List**"
   ]
  },
  {
   "cell_type": "code",
   "execution_count": 36,
   "metadata": {},
   "outputs": [],
   "source": [
    "from collections import deque\n",
    "\n",
    "def bfs_adjacency_list(graph, start, visited):\n",
    "    queue = deque([start])\n",
    "    visited.add(start)\n",
    "\n",
    "    while queue:\n",
    "        vertex = queue.popleft()\n",
    "        print(vertex, end=\" \")\n",
    "\n",
    "        for neighbor in graph[vertex]:\n",
    "            if neighbor not in visited:\n",
    "                visited.add(neighbor)\n",
    "                queue.append(neighbor)\n"
   ]
  },
  {
   "cell_type": "code",
   "execution_count": 38,
   "metadata": {},
   "outputs": [
    {
     "name": "stdout",
     "output_type": "stream",
     "text": [
      "A B C D E F "
     ]
    }
   ],
   "source": [
    "# Usage\n",
    "# Create a graph using Adjacency List\n",
    "graph_list = {}\n",
    "\n",
    "# Adding edges to the graph\n",
    "add_edge_list(graph_list, 'A', 'B')\n",
    "add_edge_list(graph_list, 'A', 'C')\n",
    "add_edge_list(graph_list, 'B', 'D')\n",
    "add_edge_list(graph_list, 'B', 'E')\n",
    "add_edge_list(graph_list, 'C', 'F')\n",
    "\n",
    "visited = set()\n",
    "bfs_adjacency_list(graph_list, 'A', visited)"
   ]
  },
  {
   "cell_type": "markdown",
   "metadata": {},
   "source": [
    "### **3.12. Using Adjancency Matrix**"
   ]
  },
  {
   "cell_type": "code",
   "execution_count": 39,
   "metadata": {},
   "outputs": [],
   "source": [
    "from collections import deque\n",
    "\n",
    "def bfs_adjacency_matrix(graph, start, visited):\n",
    "    queue = deque([start])\n",
    "    visited.add(start)\n",
    "\n",
    "    while queue:\n",
    "        vertex = queue.popleft()\n",
    "        print(vertex, end=\" \")\n",
    "\n",
    "        for neighbor in range(len(graph[vertex])):\n",
    "            if graph[vertex][neighbor] == 1 and neighbor not in visited:\n",
    "                visited.add(neighbor)\n",
    "                queue.append(neighbor)\n"
   ]
  },
  {
   "cell_type": "code",
   "execution_count": 40,
   "metadata": {},
   "outputs": [
    {
     "name": "stdout",
     "output_type": "stream",
     "text": [
      "0 1 2 3 4 5 "
     ]
    }
   ],
   "source": [
    "# Usage\n",
    "# Create a graph using Adjacency Matrix\n",
    "graph_matrix = []\n",
    "\n",
    "# Initializing the matrix\n",
    "initialize_matrix(graph_matrix, 6)\n",
    "\n",
    "# Adding edges to the graph\n",
    "add_edge_matrix(graph_matrix, 0, 1)\n",
    "add_edge_matrix(graph_matrix, 0, 2)\n",
    "add_edge_matrix(graph_matrix, 1, 3)\n",
    "add_edge_matrix(graph_matrix, 1, 4)\n",
    "add_edge_matrix(graph_matrix, 2, 5)\n",
    "\n",
    "visited = set()\n",
    "bfs_adjacency_matrix(graph_matrix, 0, visited)"
   ]
  }
 ],
 "metadata": {
  "kernelspec": {
   "display_name": "Python 3",
   "language": "python",
   "name": "python3"
  },
  "language_info": {
   "codemirror_mode": {
    "name": "ipython",
    "version": 3
   },
   "file_extension": ".py",
   "mimetype": "text/x-python",
   "name": "python",
   "nbconvert_exporter": "python",
   "pygments_lexer": "ipython3",
   "version": "3.12.2"
  }
 },
 "nbformat": 4,
 "nbformat_minor": 2
}

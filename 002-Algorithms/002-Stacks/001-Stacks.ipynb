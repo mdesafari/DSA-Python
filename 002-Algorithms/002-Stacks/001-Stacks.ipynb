{
 "cells": [
  {
   "cell_type": "markdown",
   "metadata": {},
   "source": [
    "# **1. Create a Stack Using an Array or List Data Structures**"
   ]
  },
  {
   "cell_type": "markdown",
   "metadata": {},
   "source": [
    "## **1.1. Implementation**"
   ]
  },
  {
   "cell_type": "code",
   "execution_count": 3,
   "metadata": {},
   "outputs": [],
   "source": [
    "class StackList:\n",
    "    def __init__(self):\n",
    "        self.stack = []  # list\n",
    "\n",
    "    def is_empty(self):\n",
    "        return len(self.stack) == 0\n",
    "\n",
    "    def push(self, item):\n",
    "        self.stack.append(item)\n",
    "\n",
    "    def pop(self):\n",
    "        if self.is_empty():\n",
    "            return \"Stack is empty\"\n",
    "        return self.stack.pop()\n",
    "\n",
    "    def peek(self):\n",
    "        if self.is_empty():\n",
    "            return \"Stack is empty\"\n",
    "        return self.stack[-1]\n",
    "\n",
    "    def size(self):\n",
    "        return len(self.stack)\n",
    "    \n",
    "    def __repr__(self):\n",
    "        return f'Stack <{self.stack}>'"
   ]
  },
  {
   "cell_type": "markdown",
   "metadata": {},
   "source": [
    "<img src=\"../../001-DataStructures/002-NonPrimitive/002-Linear/002-Dynamic/images/stack_dynamics.png\" width=\"600\"/>"
   ]
  },
  {
   "cell_type": "code",
   "execution_count": 5,
   "metadata": {},
   "outputs": [
    {
     "name": "stdout",
     "output_type": "stream",
     "text": [
      "Initial stack: Stack <[0, 5, 8]>\n",
      "\n",
      "Stack after pushing 1 and 4: Stack <[0, 5, 8, 1, 4]>\n",
      "\n",
      "Stack after executing pop(): Stack <[0, 5, 8, 1]>\n",
      "\n",
      "Peeked item: 1\n",
      "\n",
      "Stack executing pop(): Stack <[0, 5, 8]>\n",
      "\n",
      "Peeked item: 8\n",
      "\n",
      "Stack is empty: False\n"
     ]
    }
   ],
   "source": [
    "# instantiate StackList\n",
    "stack = StackList()\n",
    "\n",
    "# push some data\n",
    "stack.push(0)\n",
    "stack.push(5)\n",
    "stack.push(8)\n",
    "print(f'Initial stack: {stack}\\n')\n",
    "\n",
    "# push data = 1, then data = 4 and display the stack\n",
    "stack.push(1)\n",
    "stack.push(4)\n",
    "print(f'Stack after pushing 1 and 4: {stack}\\n')\n",
    "\n",
    "# pop the element at top and display the stack\n",
    "stack.pop()\n",
    "print(f'Stack after executing pop(): {stack}\\n')\n",
    "\n",
    "# peek\n",
    "peeked_item = stack.peek()\n",
    "print(f'Peeked item: {peeked_item}\\n')\n",
    "\n",
    "# pop the element at top and display the stack\n",
    "stack.pop()\n",
    "print(f'Stack executing pop(): {stack}\\n')\n",
    "\n",
    "# peek\n",
    "peeked_item = stack.peek()\n",
    "print(f'Peeked item: {peeked_item}\\n')\n",
    "\n",
    "# check if the stack is empty\n",
    "print(f'Stack is empty: {stack.is_empty()}')  # Output: False"
   ]
  },
  {
   "cell_type": "markdown",
   "metadata": {},
   "source": [
    "## **1.2. Time complexity**\n",
    "\n",
    "Time complexity for inserting, deleting, updating, searching: refer to the Data Structures folder for Lists or Arrays."
   ]
  },
  {
   "cell_type": "markdown",
   "metadata": {},
   "source": [
    "# **2. Create a Stack Using a Linked List Data Structure**"
   ]
  },
  {
   "cell_type": "markdown",
   "metadata": {},
   "source": [
    "## **2.1. Implementation**"
   ]
  },
  {
   "cell_type": "markdown",
   "metadata": {},
   "source": [
    "* **Let's define a class called Node that represents a node in the linked list.**"
   ]
  },
  {
   "cell_type": "code",
   "execution_count": 8,
   "metadata": {},
   "outputs": [],
   "source": [
    "class Node:\n",
    "    def __init__(self, data):\n",
    "        self.data = data\n",
    "        self.next = None"
   ]
  },
  {
   "cell_type": "markdown",
   "metadata": {},
   "source": [
    "* **Next, we'll define the Stack class that uses a linked list to implement the stack.**"
   ]
  },
  {
   "cell_type": "code",
   "execution_count": 13,
   "metadata": {},
   "outputs": [],
   "source": [
    "class StackLinkedList:\n",
    "    def __init__(self):\n",
    "        self.head = None\n",
    "\n",
    "    def is_empty(self):\n",
    "        return self.head is None\n",
    "\n",
    "    def push(self, item):\n",
    "        new_node = Node(item)\n",
    "        new_node.next = self.head\n",
    "        self.head = new_node\n",
    "\n",
    "    def pop(self):\n",
    "        if self.is_empty():\n",
    "            return \"Stack is empty\"\n",
    "        popped_item = self.head.data\n",
    "        self.head = self.head.next\n",
    "        return popped_item\n",
    "\n",
    "    def peek(self):\n",
    "        if self.is_empty():\n",
    "            return \"Stack is empty\"\n",
    "        return self.head.data\n",
    "\n",
    "    def size(self):\n",
    "        current = self.head\n",
    "        count = 0\n",
    "        while current:\n",
    "            count += 1\n",
    "            current = current.next\n",
    "        return count\n",
    "    \n",
    "    def return_list_data(self):\n",
    "        # create a list to store data of the linked list\n",
    "        linked_list_data = []\n",
    "\n",
    "        # loop\n",
    "        current = self.head\n",
    "        while current is not None:\n",
    "            # add the data of current node to `linked_list_data`\n",
    "            linked_list_data.append(current.data)\n",
    "\n",
    "            # go to the next node\n",
    "            current = current.next\n",
    "        \n",
    "        # reverse the list\n",
    "        linked_list_data = linked_list_data[::-1]\n",
    "        return linked_list_data\n",
    "    \n",
    "    def __repr__(self):\n",
    "        return f'Stack <{self.return_list_data()}>'"
   ]
  },
  {
   "cell_type": "markdown",
   "metadata": {},
   "source": [
    "<img src=\"../../001-DataStructures/002-NonPrimitive/002-Linear/002-Dynamic/images/stack_dynamics.png\" width=\"600\"/>"
   ]
  },
  {
   "cell_type": "code",
   "execution_count": 14,
   "metadata": {},
   "outputs": [
    {
     "name": "stdout",
     "output_type": "stream",
     "text": [
      "Initial stack: Stack <[0, 5, 8]>\n",
      "\n",
      "Stack after pushing 1 and 4: Stack <[0, 5, 8, 1, 4]>\n",
      "\n",
      "Stack after executing pop(): Stack <[0, 5, 8, 1]>\n",
      "\n",
      "Peeked item: 1\n",
      "\n",
      "Stack executing pop(): Stack <[0, 5, 8]>\n",
      "\n",
      "Peeked item: 8\n",
      "\n",
      "Stack is empty: False\n"
     ]
    }
   ],
   "source": [
    "# instantiate StackLinkedList\n",
    "stack = StackLinkedList()\n",
    "\n",
    "# push some data\n",
    "stack.push(0)\n",
    "stack.push(5)\n",
    "stack.push(8)\n",
    "print(f'Initial stack: {stack}\\n')\n",
    "\n",
    "# push data = 1, then data = 4 and display the stack\n",
    "stack.push(1)\n",
    "stack.push(4)\n",
    "print(f'Stack after pushing 1 and 4: {stack}\\n')\n",
    "\n",
    "# pop the element at top and display the stack\n",
    "stack.pop()\n",
    "print(f'Stack after executing pop(): {stack}\\n')\n",
    "\n",
    "# peek\n",
    "peeked_item = stack.peek()\n",
    "print(f'Peeked item: {peeked_item}\\n')\n",
    "\n",
    "# pop the element at top and display the stack\n",
    "stack.pop()\n",
    "print(f'Stack executing pop(): {stack}\\n')\n",
    "\n",
    "# peek\n",
    "peeked_item = stack.peek()\n",
    "print(f'Peeked item: {peeked_item}\\n')\n",
    "\n",
    "# check if the stack is empty\n",
    "print(f'Stack is empty: {stack.is_empty()}')  # Output: False"
   ]
  },
  {
   "cell_type": "markdown",
   "metadata": {},
   "source": [
    "## **2.2. Time complexity**\n",
    "\n",
    "Time complexity for inserting, deleting, updating, searching: refer to the Data Structures folder for Linked Lists."
   ]
  }
 ],
 "metadata": {
  "kernelspec": {
   "display_name": "Python 3",
   "language": "python",
   "name": "python3"
  },
  "language_info": {
   "codemirror_mode": {
    "name": "ipython",
    "version": 3
   },
   "file_extension": ".py",
   "mimetype": "text/x-python",
   "name": "python",
   "nbconvert_exporter": "python",
   "pygments_lexer": "ipython3",
   "version": "3.12.2"
  }
 },
 "nbformat": 4,
 "nbformat_minor": 2
}

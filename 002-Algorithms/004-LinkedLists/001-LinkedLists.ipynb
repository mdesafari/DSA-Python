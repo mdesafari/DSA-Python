{
 "cells": [
  {
   "cell_type": "markdown",
   "metadata": {},
   "source": [
    "# **Algorithms associated with Linked List Data Structures**"
   ]
  },
  {
   "cell_type": "markdown",
   "metadata": {},
   "source": [
    "## **1. Insert Data at a Specific Position in a Linked List**"
   ]
  },
  {
   "cell_type": "markdown",
   "metadata": {},
   "source": [
    "### **1.1. Implementation**"
   ]
  },
  {
   "cell_type": "code",
   "execution_count": 19,
   "metadata": {},
   "outputs": [],
   "source": [
    "class Node:\n",
    "    def __init__(self, data):\n",
    "        self.data = data\n",
    "        self.next = None\n",
    "\n",
    "\n",
    "class LinkedList:\n",
    "    def __init__(self):\n",
    "        self.head = None\n",
    "\n",
    "    def is_empty(self):\n",
    "        return self.head is None\n",
    "\n",
    "    def insert_at_position(self, position, data):\n",
    "        new_node = Node(data)\n",
    "\n",
    "        # if the position is 0, the new node becomes the new head of the list\n",
    "        if position == 0:\n",
    "            new_node.next = self.head\n",
    "            self.head = new_node\n",
    "        # Otherwise, we traverse the list until we reach the node at the position\n",
    "        # before the desired position. We then update the links to insert the new node\n",
    "        # at the specified position.\n",
    "        else:\n",
    "            current = self.head\n",
    "            count = 0\n",
    "            while current and count < position - 1:\n",
    "                current = current.next\n",
    "                count += 1\n",
    "\n",
    "            if current is None:\n",
    "                print(\"Invalid position\")\n",
    "                return\n",
    "\n",
    "            new_node.next = current.next\n",
    "            current.next = new_node\n",
    "\n",
    "    # traverses the linked list and prints the data of each node.\n",
    "    def display(self):\n",
    "        current = self.head\n",
    "        pos = 0\n",
    "        while current:\n",
    "            print(f'(pos: {pos}, data: {current.data})', end=\" \")\n",
    "            current = current.next\n",
    "            pos += 1\n",
    "        print()"
   ]
  },
  {
   "cell_type": "markdown",
   "metadata": {},
   "source": [
    "<img src=\"../../001-DataStructures/002-NonPrimitive/002-Linear/002-Dynamic/images/linked_list_structure.png\" width=\"600\"/>"
   ]
  },
  {
   "cell_type": "code",
   "execution_count": 20,
   "metadata": {},
   "outputs": [
    {
     "name": "stdout",
     "output_type": "stream",
     "text": [
      "Invalid position\n",
      "(pos: 0, data: 5) (pos: 1, data: 0) (pos: 2, data: 1) (pos: 3, data: 4) (pos: 4, data: 9) \n",
      "(pos: 0, data: 5) (pos: 1, data: 0) (pos: 2, data: 8) (pos: 3, data: 1) (pos: 4, data: 4) (pos: 5, data: 9) \n"
     ]
    }
   ],
   "source": [
    "# create an empty linked_list\n",
    "linked_list = LinkedList()\n",
    "\n",
    "# insert data at a given position\n",
    "linked_list.insert_at_position(0, 5)  # (position, data)\n",
    "linked_list.insert_at_position(1, 0)\n",
    "linked_list.insert_at_position(2, 1)\n",
    "linked_list.insert_at_position(3, 4)\n",
    "linked_list.insert_at_position(4, 9)\n",
    "linked_list.insert_at_position(6, 2)  # output: invalid position\n",
    "linked_list.display()\n",
    "\n",
    "# now, insert at data at a given position (pos = 3)\n",
    "linked_list.insert_at_position(2, 8)\n",
    "linked_list.display()"
   ]
  },
  {
   "cell_type": "markdown",
   "metadata": {},
   "source": [
    "### **1.2. Time complexity**\n",
    "\n",
    "Time complexity for inserting, deleting, updating, searching: refer to the Data Structures folder for Linked-Lists."
   ]
  },
  {
   "cell_type": "markdown",
   "metadata": {},
   "source": [
    "## **2. Reverse a Linked List**"
   ]
  },
  {
   "cell_type": "markdown",
   "metadata": {},
   "source": [
    "### **2.1. Implementation**"
   ]
  },
  {
   "cell_type": "markdown",
   "metadata": {},
   "source": [
    "* **Let's define a class called Node that represents a node in the linked list.**"
   ]
  },
  {
   "cell_type": "code",
   "execution_count": 21,
   "metadata": {},
   "outputs": [],
   "source": [
    "class Node:\n",
    "    def __init__(self, data):\n",
    "        self.data = data\n",
    "        self.next = None"
   ]
  },
  {
   "cell_type": "markdown",
   "metadata": {},
   "source": [
    "* **Next, we'll define the Stack class that uses a linked list to implement the stack.**"
   ]
  },
  {
   "cell_type": "code",
   "execution_count": 22,
   "metadata": {},
   "outputs": [],
   "source": [
    "class LinkedListReverse:\n",
    "    def __init__(self):\n",
    "        self.head = None\n",
    "\n",
    "    def is_empty(self):\n",
    "        return self.head is None\n",
    "\n",
    "    def insert_at_end(self, data):\n",
    "        new_node = Node(data)\n",
    "        if self.is_empty():\n",
    "            self.head = new_node\n",
    "        else:\n",
    "            current = self.head\n",
    "            while current.next:\n",
    "                current = current.next\n",
    "            current.next = new_node\n",
    "\n",
    "    def reverse(self):\n",
    "        prev = None\n",
    "        current = self.head\n",
    "        while current:\n",
    "            next_node = current.next\n",
    "            current.next = prev\n",
    "            prev = current\n",
    "            current = next_node\n",
    "        self.head = prev\n",
    "\n",
    "    def display(self):\n",
    "        current = self.head\n",
    "        while current:\n",
    "            print(current.data, end=\" \")\n",
    "            current = current.next\n",
    "        print()"
   ]
  },
  {
   "cell_type": "markdown",
   "metadata": {},
   "source": [
    "* **Original vs Reversed Linked List**\n",
    "\n",
    "<img src=\"./images/reversed_linked_list.png\" width=\"500\"/>"
   ]
  },
  {
   "cell_type": "code",
   "execution_count": 25,
   "metadata": {},
   "outputs": [
    {
     "name": "stdout",
     "output_type": "stream",
     "text": [
      "5 0 1 4 9 \n",
      "9 4 1 0 5 \n"
     ]
    }
   ],
   "source": [
    "# create an empty linked_list\n",
    "linked_list = LinkedListReverse()\n",
    "\n",
    "# insert data at a given position\n",
    "linked_list.insert_at_end(5)  # (position, data)\n",
    "linked_list.insert_at_end(0)\n",
    "linked_list.insert_at_end(1)\n",
    "linked_list.insert_at_end(4)\n",
    "linked_list.insert_at_end(9)\n",
    "linked_list.display()  # original linked list\n",
    "\n",
    "# reverse\n",
    "linked_list.reverse()\n",
    "linked_list.display()  # reversed linked list"
   ]
  },
  {
   "cell_type": "markdown",
   "metadata": {},
   "source": [
    "## **3. Find the Middle Element of a Linked List**"
   ]
  },
  {
   "cell_type": "markdown",
   "metadata": {},
   "source": [
    "### **3.1. Implementation**"
   ]
  },
  {
   "cell_type": "code",
   "execution_count": 27,
   "metadata": {},
   "outputs": [],
   "source": [
    "class Node:\n",
    "    def __init__(self, data):\n",
    "        self.data = data\n",
    "        self.next = None\n",
    "\n",
    "class LinkedListMiddleElement:\n",
    "    def __init__(self):\n",
    "        self.head = None\n",
    "\n",
    "    def is_empty(self):\n",
    "        return self.head is None\n",
    "\n",
    "    def insert_at_end(self, data):\n",
    "        new_node = Node(data)\n",
    "        if self.is_empty():\n",
    "            self.head = new_node\n",
    "        else:\n",
    "            current = self.head\n",
    "            while current.next:\n",
    "                current = current.next\n",
    "            current.next = new_node\n",
    "\n",
    "    def find_middle_element(self):\n",
    "        \"\"\"\n",
    "        Find the middle element of the linked list using the two-pointer technique.\n",
    "        We maintain two pointers: slow_ptr and fast_ptr.\n",
    "            1. The slow_ptr moves one node at a time, while the fast_ptr moves two nodes at a time.\n",
    "            2. By the time the fast_ptr reaches the end of the list, the slow_ptr will be pointing \n",
    "               to the middle element.\n",
    "        \"\"\"\n",
    "        if self.is_empty():\n",
    "            return None\n",
    "\n",
    "        slow_ptr = self.head\n",
    "        fast_ptr = self.head\n",
    "\n",
    "        while fast_ptr and fast_ptr.next:\n",
    "            slow_ptr = slow_ptr.next\n",
    "            fast_ptr = fast_ptr.next.next\n",
    "\n",
    "        return slow_ptr.data\n",
    "\n",
    "    def display(self):\n",
    "        current = self.head\n",
    "        while current:\n",
    "            print(current.data, end=\" \")\n",
    "            current = current.next\n",
    "        print()"
   ]
  },
  {
   "cell_type": "markdown",
   "metadata": {},
   "source": [
    "<img src=\"./images/middle_elem_ll.png\" width=\"500\"/>"
   ]
  },
  {
   "cell_type": "code",
   "execution_count": 32,
   "metadata": {},
   "outputs": [
    {
     "name": "stdout",
     "output_type": "stream",
     "text": [
      "5 0 1 4 9 \n",
      "Middle element: 1\n"
     ]
    }
   ],
   "source": [
    "# create an empty linked_list\n",
    "linked_list = LinkedListMiddleElement()\n",
    "\n",
    "# insert data at a given position\n",
    "linked_list.insert_at_end(5)  # (position, data)\n",
    "linked_list.insert_at_end(0)\n",
    "linked_list.insert_at_end(1)\n",
    "linked_list.insert_at_end(4)\n",
    "linked_list.insert_at_end(9)\n",
    "linked_list.display()  # original linked list\n",
    "\n",
    "# middle element\n",
    "middle_element = linked_list.find_middle_element()\n",
    "print(\"Middle element:\", middle_element)"
   ]
  },
  {
   "cell_type": "markdown",
   "metadata": {},
   "source": [
    "## **4. Check if a Linked List is a Palindrome**"
   ]
  },
  {
   "cell_type": "markdown",
   "metadata": {},
   "source": [
    "### **4.1. Implementation**"
   ]
  },
  {
   "cell_type": "code",
   "execution_count": 33,
   "metadata": {},
   "outputs": [],
   "source": [
    "class Node:\n",
    "    def __init__(self, data):\n",
    "        self.data = data\n",
    "        self.next = None\n",
    "\n",
    "\n",
    "class LinkedListPalindrom:\n",
    "    def __init__(self):\n",
    "        self.head = None\n",
    "\n",
    "    def is_empty(self):\n",
    "        return self.head is None\n",
    "\n",
    "    def insert_at_end(self, data):\n",
    "        new_node = Node(data)\n",
    "        if self.is_empty():\n",
    "            self.head = new_node\n",
    "        else:\n",
    "            current = self.head\n",
    "            while current.next:\n",
    "                current = current.next\n",
    "            current.next = new_node\n",
    "\n",
    "    def is_palindrome(self):\n",
    "        \"\"\"\n",
    "        checks if the linked list is a palindrome. We use a stack to store the first half of the list\n",
    "        while traversing it with two pointers. Once the first half is stored in the stack, we continue\n",
    "        traversing the second half of the list and compare each node's data with the popped elements from\n",
    "        the stack. If at any point the data doesn't match, we know the list is not a palindrome.\n",
    "        \n",
    "        \"\"\"\n",
    "        if self.is_empty():\n",
    "            return True\n",
    "\n",
    "        stack = []\n",
    "        slow_ptr = self.head\n",
    "        fast_ptr = self.head\n",
    "\n",
    "        while fast_ptr and fast_ptr.next:\n",
    "            stack.append(slow_ptr.data)\n",
    "            slow_ptr = slow_ptr.next\n",
    "            fast_ptr = fast_ptr.next.next\n",
    "\n",
    "        if fast_ptr:\n",
    "            slow_ptr = slow_ptr.next\n",
    "\n",
    "        while slow_ptr:\n",
    "            if slow_ptr.data != stack.pop():\n",
    "                return False\n",
    "            slow_ptr = slow_ptr.next\n",
    "\n",
    "        return True\n",
    "\n",
    "    def display(self):\n",
    "        current = self.head\n",
    "        while current:\n",
    "            print(current.data, end=\" \")\n",
    "            current = current.next\n",
    "        print()"
   ]
  },
  {
   "cell_type": "markdown",
   "metadata": {},
   "source": [
    "<img src=\"./images/palindrome_ll.png\" width=\"500\"/>"
   ]
  },
  {
   "cell_type": "code",
   "execution_count": 35,
   "metadata": {},
   "outputs": [
    {
     "name": "stdout",
     "output_type": "stream",
     "text": [
      "5 0 1 0 3 \n",
      "Is Palindrome:  False\n"
     ]
    }
   ],
   "source": [
    "# create an empty linked_list\n",
    "linked_list = LinkedListPalindrom()\n",
    "\n",
    "# insert data at a given position\n",
    "linked_list.insert_at_end(5)  # (position, data)\n",
    "linked_list.insert_at_end(0)\n",
    "linked_list.insert_at_end(1)\n",
    "linked_list.insert_at_end(0)\n",
    "linked_list.insert_at_end(5)\n",
    "linked_list.display()  # original linked list\n",
    "\n",
    "# check if it is a palindrom\n",
    "is_palindrome = linked_list.is_palindrome()\n",
    "print(\"Is Palindrome: \", is_palindrome)"
   ]
  }
 ],
 "metadata": {
  "kernelspec": {
   "display_name": "Python 3",
   "language": "python",
   "name": "python3"
  },
  "language_info": {
   "codemirror_mode": {
    "name": "ipython",
    "version": 3
   },
   "file_extension": ".py",
   "mimetype": "text/x-python",
   "name": "python",
   "nbconvert_exporter": "python",
   "pygments_lexer": "ipython3",
   "version": "3.12.2"
  }
 },
 "nbformat": 4,
 "nbformat_minor": 2
}

{
 "cells": [
  {
   "cell_type": "markdown",
   "metadata": {},
   "source": [
    "# **Algorithms associated with Linked List Data Structures**"
   ]
  },
  {
   "cell_type": "markdown",
   "metadata": {},
   "source": [
    "## **1. Insert Data at a Specific Position in a Linked List**"
   ]
  },
  {
   "cell_type": "markdown",
   "metadata": {},
   "source": [
    "### **1.1. Implementation**"
   ]
  },
  {
   "cell_type": "code",
   "execution_count": 12,
   "metadata": {},
   "outputs": [],
   "source": [
    "class Node:\n",
    "    def __init__(self, data):\n",
    "        self.data = data\n",
    "        self.next = None\n",
    "\n",
    "\n",
    "class LinkedList:\n",
    "    def __init__(self):\n",
    "        self.head = None\n",
    "\n",
    "    def is_empty(self):\n",
    "        return self.head is None\n",
    "\n",
    "    def insert_at_position(self, position, data):\n",
    "        new_node = Node(data)\n",
    "\n",
    "        # if the position is 0, the new node becomes the new head of the list\n",
    "        if position == 0:\n",
    "            new_node.next = self.head\n",
    "            self.head = new_node\n",
    "        # Otherwise, we traverse the list until we reach the node at the position\n",
    "        # before the desired position. We then update the links to insert the new node\n",
    "        # at the specified position.\n",
    "        else:\n",
    "            current = self.head\n",
    "            count = 0\n",
    "            while current and count < position - 1:\n",
    "                current = current.next\n",
    "                count += 1\n",
    "\n",
    "            if current is None:\n",
    "                print(\"Invalid position\")\n",
    "                return\n",
    "\n",
    "            new_node.next = current.next\n",
    "            current.next = new_node\n",
    "\n",
    "    # traverses the linked list and prints the data of each node.\n",
    "    def display(self):\n",
    "        current = self.head\n",
    "        pos = 0\n",
    "        while current:\n",
    "            print(f'(pos: {pos}, data: {current.data})', end=\" \")\n",
    "            current = current.next\n",
    "            pos += 1\n",
    "        print()"
   ]
  },
  {
   "cell_type": "markdown",
   "metadata": {},
   "source": [
    "<img src=\"../../001-DataStructures/002-NonPrimitive/002-Linear/002-Dynamic/images/linked_list_structure.png\" width=\"600\"/>"
   ]
  },
  {
   "cell_type": "code",
   "execution_count": 18,
   "metadata": {},
   "outputs": [
    {
     "name": "stdout",
     "output_type": "stream",
     "text": [
      "Invalid position\n",
      "(pos: 0, data: 5) (pos: 1, data: 0) (pos: 2, data: 1) (pos: 3, data: 4) (pos: 4, data: 9) \n",
      "(pos: 0, data: 5) (pos: 1, data: 0) (pos: 2, data: 8) (pos: 3, data: 1) (pos: 4, data: 4) (pos: 5, data: 9) \n"
     ]
    }
   ],
   "source": [
    "# create an empty linked_list\n",
    "linked_list = LinkedList()\n",
    "\n",
    "# insert data at a given position\n",
    "linked_list.insert_at_position(0, 5)  # (position, data)\n",
    "linked_list.insert_at_position(1, 0)\n",
    "linked_list.insert_at_position(2, 1)\n",
    "linked_list.insert_at_position(3, 4)\n",
    "linked_list.insert_at_position(4, 9)\n",
    "linked_list.insert_at_position(6, 2)  # output: invalid position\n",
    "linked_list.display()\n",
    "\n",
    "# now, insert at data at a given position (pos = 3)\n",
    "linked_list.insert_at_position(2, 8)\n",
    "linked_list.display()"
   ]
  },
  {
   "cell_type": "markdown",
   "metadata": {},
   "source": [
    "### **1.2. Time complexity**\n",
    "\n",
    "Time complexity for inserting, deleting, updating, searching: refer to the Data Structures folder for Lists or Arrays."
   ]
  },
  {
   "cell_type": "markdown",
   "metadata": {},
   "source": [
    "## **2. Create a Queue Using a Linked List Data Structure**"
   ]
  },
  {
   "cell_type": "markdown",
   "metadata": {},
   "source": [
    "### **2.1. Implementation**"
   ]
  },
  {
   "cell_type": "markdown",
   "metadata": {},
   "source": [
    "* **Let's define a class called Node that represents a node in the linked list.**"
   ]
  },
  {
   "cell_type": "code",
   "execution_count": 9,
   "metadata": {},
   "outputs": [],
   "source": [
    "class Node:\n",
    "    def __init__(self, data):\n",
    "        self.data = data\n",
    "        self.next = None"
   ]
  },
  {
   "cell_type": "markdown",
   "metadata": {},
   "source": [
    "* **Next, we'll define the Stack class that uses a linked list to implement the stack.**"
   ]
  },
  {
   "cell_type": "code",
   "execution_count": 14,
   "metadata": {},
   "outputs": [],
   "source": [
    "class QueueLinkedList:\n",
    "    # this an improved version of a Queue by adding a tail attribute\n",
    "    def __init__(self):\n",
    "        self.head = None  # first node\n",
    "        self.tail = None  # last node\n",
    "\n",
    "    def is_empty(self):\n",
    "        return self.head is None\n",
    "\n",
    "    def enqueue(self, item):\n",
    "        new_node = Node(item)\n",
    "        if self.tail is None:\n",
    "            self.head = new_node\n",
    "            self.tail = new_node\n",
    "        else:\n",
    "            self.tail.next = new_node\n",
    "            self.tail = new_node\n",
    "\n",
    "    def dequeue(self):\n",
    "        if self.is_empty():\n",
    "            return \"Queue is empty\"\n",
    "        popped_item = self.head.data\n",
    "        self.head = self.head.next\n",
    "        if self.head is None:\n",
    "            self.tail = None\n",
    "        return popped_item\n",
    "\n",
    "    def peek(self):\n",
    "        if self.is_empty():\n",
    "            return \"Queue is empty\"\n",
    "        return self.head.data\n",
    "\n",
    "    def size(self):\n",
    "        current = self.head\n",
    "        count = 0\n",
    "        while current:\n",
    "            count += 1\n",
    "            current = current.next\n",
    "        return count\n",
    "    \n",
    "    def return_list_data(self):\n",
    "        # create a list to store data of the linked list\n",
    "        linked_list_data = []\n",
    "\n",
    "        # loop\n",
    "        current = self.head\n",
    "        while current is not None:\n",
    "            # add the data of current node to `linked_list_data`\n",
    "            linked_list_data.append(current.data)\n",
    "\n",
    "            # go to the next node\n",
    "            current = current.next\n",
    "\n",
    "        return linked_list_data\n",
    "    \n",
    "    def __repr__(self):\n",
    "        return f'Stack <{self.return_list_data()}>'"
   ]
  },
  {
   "cell_type": "markdown",
   "metadata": {},
   "source": [
    "<img src=\"../../001-DataStructures/002-NonPrimitive/002-Linear/002-Dynamic/images/queue_dynamics.png\" width=\"600\"/>"
   ]
  },
  {
   "cell_type": "code",
   "execution_count": 15,
   "metadata": {},
   "outputs": [
    {
     "name": "stdout",
     "output_type": "stream",
     "text": [
      "Initial queue: Stack <[8, 5, 0]>\n",
      "\n",
      "queue after enqueueing 1 and 4: Stack <[8, 5, 0, 1, 4]>\n",
      "\n",
      "queue after executing dequeue(): Stack <[5, 0, 1, 4]>\n",
      "\n",
      "Peeked item: 5\n",
      "\n",
      "queue executing dequeue(): Stack <[0, 1, 4]>\n",
      "\n",
      "Peeked item: 0\n",
      "\n",
      "queue is empty: False\n"
     ]
    }
   ],
   "source": [
    "# create an empty queue\n",
    "queue = QueueLinkedList()\n",
    "\n",
    "# enqueue some data\n",
    "queue.enqueue(8)\n",
    "queue.enqueue(5)\n",
    "queue.enqueue(0)\n",
    "print(f'Initial queue: {queue}\\n')\n",
    "\n",
    "# enqueue data = 1, then data = 4 and display the queue\n",
    "queue.enqueue(1)\n",
    "queue.enqueue(4)\n",
    "print(f'queue after enqueueing 1 and 4: {queue}\\n')\n",
    "\n",
    "# dequeue the element at top and display the queue\n",
    "queue.dequeue()\n",
    "print(f'queue after executing dequeue(): {queue}\\n')\n",
    "\n",
    "# peek\n",
    "peeked_item = queue.peek()\n",
    "print(f'Peeked item: {peeked_item}\\n')\n",
    "\n",
    "# dequeue the element at top and display the queue\n",
    "queue.dequeue()\n",
    "print(f'queue executing dequeue(): {queue}\\n')\n",
    "\n",
    "# peek\n",
    "peeked_item = queue.peek()\n",
    "print(f'Peeked item: {peeked_item}\\n')\n",
    "\n",
    "# check if the queue is empty\n",
    "print(f'queue is empty: {queue.is_empty()}')  # Output: False"
   ]
  },
  {
   "cell_type": "markdown",
   "metadata": {},
   "source": [
    "### **2.2. Time complexity**\n",
    "\n",
    "Time complexity for inserting, deleting, updating, searching: refer to the Data Structures folder for Linked Lists."
   ]
  },
  {
   "cell_type": "markdown",
   "metadata": {},
   "source": [
    "## **3. Create a Circular Queue Using a List Data Structure**"
   ]
  },
  {
   "cell_type": "markdown",
   "metadata": {},
   "source": [
    "### **3.1. Implementation**"
   ]
  },
  {
   "cell_type": "code",
   "execution_count": 17,
   "metadata": {},
   "outputs": [],
   "source": [
    "class CircularQueue:\n",
    "    def __init__(self, k):\n",
    "        \"\"\"\n",
    "        params:\n",
    "            k: maximum capacity of the circular queue.\n",
    "                We initialize the queue list with k None values.\n",
    "        \"\"\"\n",
    "        self.queue = [None] * k\n",
    "        self.head = self.tail = -1\n",
    "        self.size = k\n",
    "\n",
    "    def is_empty(self):\n",
    "        return self.head == self.tail == -1\n",
    "\n",
    "    def is_full(self):\n",
    "        \"\"\"\n",
    "        To check whether the circular queue is full.\n",
    "        It checks if the next position of the rear is equal to the front.\n",
    "        \"\"\"\n",
    "        return (self.tail + 1) % self.size == self.head\n",
    "\n",
    "    def enqueue(self, item):\n",
    "        \"\"\"\n",
    "        Modify the logic to handle the circular nature of the queue.\n",
    "\n",
    "        1. If the queue is full, it returns the \"Queue is full\" message.\n",
    "\n",
    "        2. If the queue is empty, we set both front and rear to 0.\n",
    "\n",
    "        3. Otherwise, we increment the rear index by 1 using modulo operation \n",
    "        to wrap around to the beginning if necessary.\n",
    "        \"\"\"\n",
    "        if self.is_full():\n",
    "            return \"Queue is full\"\n",
    "        elif self.is_empty():\n",
    "            self.head = self.tail = 0\n",
    "        else:\n",
    "            self.tail = (self.tail + 1) % self.size\n",
    "        self.queue[self.tail] = item\n",
    "\n",
    "    def dequeue(self):\n",
    "        \"\"\"\n",
    "        modify the logic to handle the circular nature of the queue.\n",
    "        \n",
    "        1. If the queue is empty, it returns the \"Queue is empty\" message.\n",
    "        \n",
    "        2. If the front and rear become equal after dequeueing, we set both front and rear to -1.\n",
    "        \n",
    "        3. Otherwise, we increment the front index by 1 using modulo operation to wrap around\n",
    "        to the beginning if necessary.\n",
    "        \"\"\"\n",
    "\n",
    "        if self.is_empty():\n",
    "            return \"Queue is empty\"\n",
    "        elif self.head == self.tail:\n",
    "            item = self.queue[self.head]\n",
    "            self.head = self.tail = -1\n",
    "        else:\n",
    "            item = self.queue[self.head]\n",
    "            self.head = (self.head + 1) % self.size\n",
    "        return item\n",
    "\n",
    "    def peek(self):\n",
    "        if self.is_empty():\n",
    "            return \"Queue is empty\"\n",
    "        return self.queue[self.head]"
   ]
  },
  {
   "cell_type": "code",
   "execution_count": 18,
   "metadata": {},
   "outputs": [
    {
     "name": "stdout",
     "output_type": "stream",
     "text": [
      "1\n",
      "2\n",
      "False\n",
      "False\n"
     ]
    }
   ],
   "source": [
    "# instantiatie CircularQueue\n",
    "circular_queue = CircularQueue(3)\n",
    "\n",
    "# enqueue\n",
    "circular_queue.enqueue(1)\n",
    "circular_queue.enqueue(2)\n",
    "circular_queue.enqueue(3)\n",
    "\n",
    "# print\n",
    "print(circular_queue.dequeue())  # Output: 1\n",
    "print(circular_queue.peek())  # Output: 2\n",
    "print(circular_queue.is_empty())  # Output: False\n",
    "print(circular_queue.is_full())  # Output: False"
   ]
  }
 ],
 "metadata": {
  "kernelspec": {
   "display_name": "Python 3",
   "language": "python",
   "name": "python3"
  },
  "language_info": {
   "codemirror_mode": {
    "name": "ipython",
    "version": 3
   },
   "file_extension": ".py",
   "mimetype": "text/x-python",
   "name": "python",
   "nbconvert_exporter": "python",
   "pygments_lexer": "ipython3",
   "version": "3.12.2"
  }
 },
 "nbformat": 4,
 "nbformat_minor": 2
}
